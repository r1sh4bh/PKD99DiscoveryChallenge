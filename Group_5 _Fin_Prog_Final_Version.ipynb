{
 "cells": [
  {
   "cell_type": "markdown",
   "metadata": {},
   "source": [
    "\n",
    "# Group Project - Financial Programming"
   ]
  },
  {
   "cell_type": "code",
   "execution_count": 183,
   "metadata": {},
   "outputs": [],
   "source": [
    "# Importing libraries\n",
    "from bokeh.io import output_notebook, show, output_file\n",
    "from bokeh.layouts import gridplot\n",
    "from bokeh.plotting import figure\n",
    "import scipy.cluster.hierarchy as sch\n",
    "from sklearn.cluster import AgglomerativeClustering\n",
    "import matplotlib.pyplot as plt\n",
    "import seaborn as sns\n",
    "from numpy import nan\n",
    "import pandas as pd\n",
    "import numpy as np \n",
    "import numpy\n",
    "import math  "
   ]
  },
  {
   "cell_type": "code",
   "execution_count": 2,
   "metadata": {},
   "outputs": [],
   "source": [
    "# Stablishing the directory from we will get our inputs\n",
    "directory = \"C:/Users/rsharma3/OneDrive - IESEG/Financial Programming/Group Project_Customer Loan/data_berka\""
   ]
  },
  {
   "cell_type": "code",
   "execution_count": 3,
   "metadata": {},
   "outputs": [],
   "source": [
    "# Import each one of the databases\n",
    "client = pd.read_csv(directory + '/client.asc', sep=';')\n",
    "\n",
    "account = pd.read_csv(directory + '/account.asc', sep=';')\n",
    "\n",
    "card = pd.read_csv(directory + '/card.asc', sep=';')\n",
    "\n",
    "district = pd.read_csv(directory + '/district.asc', sep=';')\n",
    "\n",
    "disp = pd.read_csv(directory + '/disp.asc', sep=';')\n",
    "\n",
    "order = pd.read_csv(directory + '/order.asc', sep=';')\n",
    "\n",
    "trans = pd.read_csv(directory + '/trans.asc', sep=';', low_memory=False)\n",
    "\n",
    "loan = pd.read_csv(directory + '/loan.asc', sep=';')\n",
    "\n",
    "account = pd.read_csv(directory + '/account.asc', sep=';')"
   ]
  },
  {
   "cell_type": "markdown",
   "metadata": {},
   "source": [
    "## 1) Checking and Cleaning Features "
   ]
  },
  {
   "cell_type": "markdown",
   "metadata": {},
   "source": [
    "***Objective:*** Clean and prepare each one of the tables."
   ]
  },
  {
   "cell_type": "markdown",
   "metadata": {},
   "source": [
    "### a) Client: "
   ]
  },
  {
   "cell_type": "code",
   "execution_count": 4,
   "metadata": {},
   "outputs": [
    {
     "data": {
      "text/html": [
       "<div>\n",
       "<style scoped>\n",
       "    .dataframe tbody tr th:only-of-type {\n",
       "        vertical-align: middle;\n",
       "    }\n",
       "\n",
       "    .dataframe tbody tr th {\n",
       "        vertical-align: top;\n",
       "    }\n",
       "\n",
       "    .dataframe thead th {\n",
       "        text-align: right;\n",
       "    }\n",
       "</style>\n",
       "<table border=\"1\" class=\"dataframe\">\n",
       "  <thead>\n",
       "    <tr style=\"text-align: right;\">\n",
       "      <th></th>\n",
       "      <th>client_id</th>\n",
       "      <th>birth_number</th>\n",
       "      <th>district_id</th>\n",
       "    </tr>\n",
       "  </thead>\n",
       "  <tbody>\n",
       "    <tr>\n",
       "      <th>0</th>\n",
       "      <td>1</td>\n",
       "      <td>706213</td>\n",
       "      <td>18</td>\n",
       "    </tr>\n",
       "    <tr>\n",
       "      <th>1</th>\n",
       "      <td>2</td>\n",
       "      <td>450204</td>\n",
       "      <td>1</td>\n",
       "    </tr>\n",
       "    <tr>\n",
       "      <th>2</th>\n",
       "      <td>3</td>\n",
       "      <td>406009</td>\n",
       "      <td>1</td>\n",
       "    </tr>\n",
       "    <tr>\n",
       "      <th>3</th>\n",
       "      <td>4</td>\n",
       "      <td>561201</td>\n",
       "      <td>5</td>\n",
       "    </tr>\n",
       "    <tr>\n",
       "      <th>4</th>\n",
       "      <td>5</td>\n",
       "      <td>605703</td>\n",
       "      <td>5</td>\n",
       "    </tr>\n",
       "  </tbody>\n",
       "</table>\n",
       "</div>"
      ],
      "text/plain": [
       "   client_id  birth_number  district_id\n",
       "0          1        706213           18\n",
       "1          2        450204            1\n",
       "2          3        406009            1\n",
       "3          4        561201            5\n",
       "4          5        605703            5"
      ]
     },
     "execution_count": 4,
     "metadata": {},
     "output_type": "execute_result"
    }
   ],
   "source": [
    "# Knowing the database\n",
    "client.head()"
   ]
  },
  {
   "cell_type": "code",
   "execution_count": 5,
   "metadata": {},
   "outputs": [
    {
     "data": {
      "text/plain": [
       "client_id       int64\n",
       "birth_number    int64\n",
       "district_id     int64\n",
       "dtype: object"
      ]
     },
     "execution_count": 5,
     "metadata": {},
     "output_type": "execute_result"
    }
   ],
   "source": [
    "# Knowing the features\n",
    "client.dtypes"
   ]
  },
  {
   "cell_type": "code",
   "execution_count": 6,
   "metadata": {},
   "outputs": [
    {
     "data": {
      "text/plain": [
       "account_id     0\n",
       "district_id    0\n",
       "frequency      0\n",
       "date           0\n",
       "dtype: int64"
      ]
     },
     "execution_count": 6,
     "metadata": {},
     "output_type": "execute_result"
    }
   ],
   "source": [
    "# Detecting missing values\n",
    "account.isna().sum()"
   ]
  },
  {
   "cell_type": "code",
   "execution_count": 7,
   "metadata": {},
   "outputs": [],
   "source": [
    "# Changing the formatting of each one of our features\n",
    "\n",
    "## Creating new features from 'birth_number'\n",
    "client.loc[:, \"birth_year\"] = '19' + client[\"birth_number\"].astype(str).str[:2]\n",
    "client.loc[:, \"birth_year\"] = client.loc[:, \"birth_year\"].astype(int)\n",
    "\n",
    "client.loc[:, \"birth_day\"] = client[\"birth_number\"].astype(str).str[-2:]\n",
    "client.loc[:, \"birth_day\"] = client.loc[:, \"birth_day\"].astype(int)\n",
    "\n",
    "client.loc[:, 'birth_month'] = client[\"birth_number\"].astype(str).str[2:4].astype(int)\n",
    "\n",
    "client.loc[:, \"age\"] = 1999 - client[\"birth_year\"]\n",
    "client.loc[:, \"age_group\"] = client[\"age\"]//10*10\n",
    "\n",
    "## Deiphering the gender code\n",
    "client.loc[:, 'gender'] = \"M\"\n",
    "client.loc[client['birth_month']>50, 'gender'] = \"F\"\n",
    "client.loc[client['gender'] == \"F\", 'birth_month'] = client.loc[client['gender'] == \"F\", 'birth_month']-50"
   ]
  },
  {
   "cell_type": "code",
   "execution_count": 8,
   "metadata": {},
   "outputs": [],
   "source": [
    "# Eliminating birth_number\n",
    "client =  client.drop(columns=\"birth_number\")"
   ]
  },
  {
   "cell_type": "code",
   "execution_count": 9,
   "metadata": {},
   "outputs": [
    {
     "data": {
      "text/html": [
       "<div>\n",
       "<style scoped>\n",
       "    .dataframe tbody tr th:only-of-type {\n",
       "        vertical-align: middle;\n",
       "    }\n",
       "\n",
       "    .dataframe tbody tr th {\n",
       "        vertical-align: top;\n",
       "    }\n",
       "\n",
       "    .dataframe thead th {\n",
       "        text-align: right;\n",
       "    }\n",
       "</style>\n",
       "<table border=\"1\" class=\"dataframe\">\n",
       "  <thead>\n",
       "    <tr style=\"text-align: right;\">\n",
       "      <th></th>\n",
       "      <th>client_id</th>\n",
       "      <th>district_id</th>\n",
       "      <th>birth_year</th>\n",
       "      <th>birth_day</th>\n",
       "      <th>birth_month</th>\n",
       "      <th>age</th>\n",
       "      <th>age_group</th>\n",
       "      <th>gender</th>\n",
       "    </tr>\n",
       "  </thead>\n",
       "  <tbody>\n",
       "    <tr>\n",
       "      <th>0</th>\n",
       "      <td>1</td>\n",
       "      <td>18</td>\n",
       "      <td>1970</td>\n",
       "      <td>13</td>\n",
       "      <td>12</td>\n",
       "      <td>29</td>\n",
       "      <td>20</td>\n",
       "      <td>F</td>\n",
       "    </tr>\n",
       "    <tr>\n",
       "      <th>1</th>\n",
       "      <td>2</td>\n",
       "      <td>1</td>\n",
       "      <td>1945</td>\n",
       "      <td>4</td>\n",
       "      <td>2</td>\n",
       "      <td>54</td>\n",
       "      <td>50</td>\n",
       "      <td>M</td>\n",
       "    </tr>\n",
       "    <tr>\n",
       "      <th>2</th>\n",
       "      <td>3</td>\n",
       "      <td>1</td>\n",
       "      <td>1940</td>\n",
       "      <td>9</td>\n",
       "      <td>10</td>\n",
       "      <td>59</td>\n",
       "      <td>50</td>\n",
       "      <td>F</td>\n",
       "    </tr>\n",
       "    <tr>\n",
       "      <th>3</th>\n",
       "      <td>4</td>\n",
       "      <td>5</td>\n",
       "      <td>1956</td>\n",
       "      <td>1</td>\n",
       "      <td>12</td>\n",
       "      <td>43</td>\n",
       "      <td>40</td>\n",
       "      <td>M</td>\n",
       "    </tr>\n",
       "    <tr>\n",
       "      <th>4</th>\n",
       "      <td>5</td>\n",
       "      <td>5</td>\n",
       "      <td>1960</td>\n",
       "      <td>3</td>\n",
       "      <td>7</td>\n",
       "      <td>39</td>\n",
       "      <td>30</td>\n",
       "      <td>F</td>\n",
       "    </tr>\n",
       "  </tbody>\n",
       "</table>\n",
       "</div>"
      ],
      "text/plain": [
       "   client_id  district_id  birth_year  birth_day  birth_month  age  age_group  \\\n",
       "0          1           18        1970         13           12   29         20   \n",
       "1          2            1        1945          4            2   54         50   \n",
       "2          3            1        1940          9           10   59         50   \n",
       "3          4            5        1956          1           12   43         40   \n",
       "4          5            5        1960          3            7   39         30   \n",
       "\n",
       "  gender  \n",
       "0      F  \n",
       "1      M  \n",
       "2      F  \n",
       "3      M  \n",
       "4      F  "
      ]
     },
     "execution_count": 9,
     "metadata": {},
     "output_type": "execute_result"
    }
   ],
   "source": [
    "# Transformed Client database\n",
    "client.head()"
   ]
  },
  {
   "cell_type": "markdown",
   "metadata": {},
   "source": [
    "### b) Account:"
   ]
  },
  {
   "cell_type": "code",
   "execution_count": 10,
   "metadata": {},
   "outputs": [
    {
     "data": {
      "text/html": [
       "<div>\n",
       "<style scoped>\n",
       "    .dataframe tbody tr th:only-of-type {\n",
       "        vertical-align: middle;\n",
       "    }\n",
       "\n",
       "    .dataframe tbody tr th {\n",
       "        vertical-align: top;\n",
       "    }\n",
       "\n",
       "    .dataframe thead th {\n",
       "        text-align: right;\n",
       "    }\n",
       "</style>\n",
       "<table border=\"1\" class=\"dataframe\">\n",
       "  <thead>\n",
       "    <tr style=\"text-align: right;\">\n",
       "      <th></th>\n",
       "      <th>account_id</th>\n",
       "      <th>district_id</th>\n",
       "      <th>frequency</th>\n",
       "      <th>date</th>\n",
       "    </tr>\n",
       "  </thead>\n",
       "  <tbody>\n",
       "    <tr>\n",
       "      <th>0</th>\n",
       "      <td>576</td>\n",
       "      <td>55</td>\n",
       "      <td>POPLATEK MESICNE</td>\n",
       "      <td>930101</td>\n",
       "    </tr>\n",
       "    <tr>\n",
       "      <th>1</th>\n",
       "      <td>3818</td>\n",
       "      <td>74</td>\n",
       "      <td>POPLATEK MESICNE</td>\n",
       "      <td>930101</td>\n",
       "    </tr>\n",
       "    <tr>\n",
       "      <th>2</th>\n",
       "      <td>704</td>\n",
       "      <td>55</td>\n",
       "      <td>POPLATEK MESICNE</td>\n",
       "      <td>930101</td>\n",
       "    </tr>\n",
       "    <tr>\n",
       "      <th>3</th>\n",
       "      <td>2378</td>\n",
       "      <td>16</td>\n",
       "      <td>POPLATEK MESICNE</td>\n",
       "      <td>930101</td>\n",
       "    </tr>\n",
       "    <tr>\n",
       "      <th>4</th>\n",
       "      <td>2632</td>\n",
       "      <td>24</td>\n",
       "      <td>POPLATEK MESICNE</td>\n",
       "      <td>930102</td>\n",
       "    </tr>\n",
       "  </tbody>\n",
       "</table>\n",
       "</div>"
      ],
      "text/plain": [
       "   account_id  district_id         frequency    date\n",
       "0         576           55  POPLATEK MESICNE  930101\n",
       "1        3818           74  POPLATEK MESICNE  930101\n",
       "2         704           55  POPLATEK MESICNE  930101\n",
       "3        2378           16  POPLATEK MESICNE  930101\n",
       "4        2632           24  POPLATEK MESICNE  930102"
      ]
     },
     "execution_count": 10,
     "metadata": {},
     "output_type": "execute_result"
    }
   ],
   "source": [
    "# Knowing the database\n",
    "account.head()"
   ]
  },
  {
   "cell_type": "code",
   "execution_count": 11,
   "metadata": {},
   "outputs": [
    {
     "data": {
      "text/plain": [
       "account_id      int64\n",
       "district_id     int64\n",
       "frequency      object\n",
       "date            int64\n",
       "dtype: object"
      ]
     },
     "execution_count": 11,
     "metadata": {},
     "output_type": "execute_result"
    }
   ],
   "source": [
    "# Knowing the features\n",
    "account.dtypes"
   ]
  },
  {
   "cell_type": "code",
   "execution_count": 12,
   "metadata": {},
   "outputs": [
    {
     "data": {
      "text/plain": [
       "account_id     0\n",
       "district_id    0\n",
       "frequency      0\n",
       "date           0\n",
       "dtype: int64"
      ]
     },
     "execution_count": 12,
     "metadata": {},
     "output_type": "execute_result"
    }
   ],
   "source": [
    "# Detecting missing values\n",
    "account.isna().sum()"
   ]
  },
  {
   "cell_type": "code",
   "execution_count": 13,
   "metadata": {},
   "outputs": [],
   "source": [
    "# Changing the formatting of each one of our features\n",
    "account['frequency'] = account['frequency'].replace({'POPLATEK MESICNE':'Monthly issuance'})\n",
    "account['frequency'] = account['frequency'].replace({'POPLATEK PO OBRATU':'Weekly issuance '})\n",
    "account['frequency'] = account['frequency'].replace({'POPLATEK TYDNE':'Issuance after transaction'})\n",
    "\n",
    "\n",
    "## Creating new features from 'birth_number'\n",
    "account[\"year\"] = (\"19\" + account.date.astype(str).str[:2]).astype(int)\n",
    "account[\"month\"] = (account.date.astype(str).str[2:4]).astype(int)\n",
    "account[\"day\"] = (account.date.astype(str).str[-2:]).astype(int)"
   ]
  },
  {
   "cell_type": "code",
   "execution_count": 14,
   "metadata": {},
   "outputs": [],
   "source": [
    "# Eliminating original date feature\n",
    "account =  account.drop(columns=\"date\")"
   ]
  },
  {
   "cell_type": "code",
   "execution_count": 15,
   "metadata": {},
   "outputs": [
    {
     "data": {
      "text/html": [
       "<div>\n",
       "<style scoped>\n",
       "    .dataframe tbody tr th:only-of-type {\n",
       "        vertical-align: middle;\n",
       "    }\n",
       "\n",
       "    .dataframe tbody tr th {\n",
       "        vertical-align: top;\n",
       "    }\n",
       "\n",
       "    .dataframe thead th {\n",
       "        text-align: right;\n",
       "    }\n",
       "</style>\n",
       "<table border=\"1\" class=\"dataframe\">\n",
       "  <thead>\n",
       "    <tr style=\"text-align: right;\">\n",
       "      <th></th>\n",
       "      <th>account_id</th>\n",
       "      <th>district_id</th>\n",
       "      <th>frequency</th>\n",
       "      <th>year</th>\n",
       "      <th>month</th>\n",
       "      <th>day</th>\n",
       "    </tr>\n",
       "  </thead>\n",
       "  <tbody>\n",
       "    <tr>\n",
       "      <th>0</th>\n",
       "      <td>576</td>\n",
       "      <td>55</td>\n",
       "      <td>Monthly issuance</td>\n",
       "      <td>1993</td>\n",
       "      <td>1</td>\n",
       "      <td>1</td>\n",
       "    </tr>\n",
       "    <tr>\n",
       "      <th>1</th>\n",
       "      <td>3818</td>\n",
       "      <td>74</td>\n",
       "      <td>Monthly issuance</td>\n",
       "      <td>1993</td>\n",
       "      <td>1</td>\n",
       "      <td>1</td>\n",
       "    </tr>\n",
       "    <tr>\n",
       "      <th>2</th>\n",
       "      <td>704</td>\n",
       "      <td>55</td>\n",
       "      <td>Monthly issuance</td>\n",
       "      <td>1993</td>\n",
       "      <td>1</td>\n",
       "      <td>1</td>\n",
       "    </tr>\n",
       "    <tr>\n",
       "      <th>3</th>\n",
       "      <td>2378</td>\n",
       "      <td>16</td>\n",
       "      <td>Monthly issuance</td>\n",
       "      <td>1993</td>\n",
       "      <td>1</td>\n",
       "      <td>1</td>\n",
       "    </tr>\n",
       "    <tr>\n",
       "      <th>4</th>\n",
       "      <td>2632</td>\n",
       "      <td>24</td>\n",
       "      <td>Monthly issuance</td>\n",
       "      <td>1993</td>\n",
       "      <td>1</td>\n",
       "      <td>2</td>\n",
       "    </tr>\n",
       "  </tbody>\n",
       "</table>\n",
       "</div>"
      ],
      "text/plain": [
       "   account_id  district_id         frequency  year  month  day\n",
       "0         576           55  Monthly issuance  1993      1    1\n",
       "1        3818           74  Monthly issuance  1993      1    1\n",
       "2         704           55  Monthly issuance  1993      1    1\n",
       "3        2378           16  Monthly issuance  1993      1    1\n",
       "4        2632           24  Monthly issuance  1993      1    2"
      ]
     },
     "execution_count": 15,
     "metadata": {},
     "output_type": "execute_result"
    }
   ],
   "source": [
    "# Transformed Account database\n",
    "account.head()"
   ]
  },
  {
   "cell_type": "markdown",
   "metadata": {},
   "source": [
    "### c) Card: "
   ]
  },
  {
   "cell_type": "code",
   "execution_count": 16,
   "metadata": {},
   "outputs": [
    {
     "data": {
      "text/html": [
       "<div>\n",
       "<style scoped>\n",
       "    .dataframe tbody tr th:only-of-type {\n",
       "        vertical-align: middle;\n",
       "    }\n",
       "\n",
       "    .dataframe tbody tr th {\n",
       "        vertical-align: top;\n",
       "    }\n",
       "\n",
       "    .dataframe thead th {\n",
       "        text-align: right;\n",
       "    }\n",
       "</style>\n",
       "<table border=\"1\" class=\"dataframe\">\n",
       "  <thead>\n",
       "    <tr style=\"text-align: right;\">\n",
       "      <th></th>\n",
       "      <th>card_id</th>\n",
       "      <th>disp_id</th>\n",
       "      <th>type</th>\n",
       "      <th>issued</th>\n",
       "    </tr>\n",
       "  </thead>\n",
       "  <tbody>\n",
       "    <tr>\n",
       "      <th>0</th>\n",
       "      <td>1005</td>\n",
       "      <td>9285</td>\n",
       "      <td>classic</td>\n",
       "      <td>931107 00:00:00</td>\n",
       "    </tr>\n",
       "    <tr>\n",
       "      <th>1</th>\n",
       "      <td>104</td>\n",
       "      <td>588</td>\n",
       "      <td>classic</td>\n",
       "      <td>940119 00:00:00</td>\n",
       "    </tr>\n",
       "    <tr>\n",
       "      <th>2</th>\n",
       "      <td>747</td>\n",
       "      <td>4915</td>\n",
       "      <td>classic</td>\n",
       "      <td>940205 00:00:00</td>\n",
       "    </tr>\n",
       "    <tr>\n",
       "      <th>3</th>\n",
       "      <td>70</td>\n",
       "      <td>439</td>\n",
       "      <td>classic</td>\n",
       "      <td>940208 00:00:00</td>\n",
       "    </tr>\n",
       "    <tr>\n",
       "      <th>4</th>\n",
       "      <td>577</td>\n",
       "      <td>3687</td>\n",
       "      <td>classic</td>\n",
       "      <td>940215 00:00:00</td>\n",
       "    </tr>\n",
       "  </tbody>\n",
       "</table>\n",
       "</div>"
      ],
      "text/plain": [
       "   card_id  disp_id     type           issued\n",
       "0     1005     9285  classic  931107 00:00:00\n",
       "1      104      588  classic  940119 00:00:00\n",
       "2      747     4915  classic  940205 00:00:00\n",
       "3       70      439  classic  940208 00:00:00\n",
       "4      577     3687  classic  940215 00:00:00"
      ]
     },
     "execution_count": 16,
     "metadata": {},
     "output_type": "execute_result"
    }
   ],
   "source": [
    "# Knowing the database\n",
    "card.head()"
   ]
  },
  {
   "cell_type": "code",
   "execution_count": 17,
   "metadata": {},
   "outputs": [
    {
     "data": {
      "text/plain": [
       "card_id     int64\n",
       "disp_id     int64\n",
       "type       object\n",
       "issued     object\n",
       "dtype: object"
      ]
     },
     "execution_count": 17,
     "metadata": {},
     "output_type": "execute_result"
    }
   ],
   "source": [
    "# Knowing the features\n",
    "card.dtypes"
   ]
  },
  {
   "cell_type": "code",
   "execution_count": 18,
   "metadata": {},
   "outputs": [
    {
     "data": {
      "text/plain": [
       "card_id    0\n",
       "disp_id    0\n",
       "type       0\n",
       "issued     0\n",
       "dtype: int64"
      ]
     },
     "execution_count": 18,
     "metadata": {},
     "output_type": "execute_result"
    }
   ],
   "source": [
    "# Detecting missing values\n",
    "card.isna().sum()"
   ]
  },
  {
   "cell_type": "code",
   "execution_count": 19,
   "metadata": {},
   "outputs": [],
   "source": [
    "# Changing the formatting of each one of our features\n",
    "card[\"year\"] = (\"19\" + card.issued.astype(str).str[:2]).astype(int)\n",
    "card[\"month\"] = (card.issued.astype(str).str[2:4]).astype(int)\n",
    "card[\"day\"] = (card.issued.astype(str).str[-2:]).astype(int)"
   ]
  },
  {
   "cell_type": "code",
   "execution_count": 20,
   "metadata": {},
   "outputs": [],
   "source": [
    "# Eliminating original issued feature\n",
    "card = card.drop(columns=\"issued\")"
   ]
  },
  {
   "cell_type": "code",
   "execution_count": 21,
   "metadata": {},
   "outputs": [
    {
     "data": {
      "text/html": [
       "<div>\n",
       "<style scoped>\n",
       "    .dataframe tbody tr th:only-of-type {\n",
       "        vertical-align: middle;\n",
       "    }\n",
       "\n",
       "    .dataframe tbody tr th {\n",
       "        vertical-align: top;\n",
       "    }\n",
       "\n",
       "    .dataframe thead th {\n",
       "        text-align: right;\n",
       "    }\n",
       "</style>\n",
       "<table border=\"1\" class=\"dataframe\">\n",
       "  <thead>\n",
       "    <tr style=\"text-align: right;\">\n",
       "      <th></th>\n",
       "      <th>card_id</th>\n",
       "      <th>disp_id</th>\n",
       "      <th>type</th>\n",
       "      <th>year</th>\n",
       "      <th>month</th>\n",
       "      <th>day</th>\n",
       "    </tr>\n",
       "  </thead>\n",
       "  <tbody>\n",
       "    <tr>\n",
       "      <th>0</th>\n",
       "      <td>1005</td>\n",
       "      <td>9285</td>\n",
       "      <td>classic</td>\n",
       "      <td>1993</td>\n",
       "      <td>11</td>\n",
       "      <td>0</td>\n",
       "    </tr>\n",
       "    <tr>\n",
       "      <th>1</th>\n",
       "      <td>104</td>\n",
       "      <td>588</td>\n",
       "      <td>classic</td>\n",
       "      <td>1994</td>\n",
       "      <td>1</td>\n",
       "      <td>0</td>\n",
       "    </tr>\n",
       "    <tr>\n",
       "      <th>2</th>\n",
       "      <td>747</td>\n",
       "      <td>4915</td>\n",
       "      <td>classic</td>\n",
       "      <td>1994</td>\n",
       "      <td>2</td>\n",
       "      <td>0</td>\n",
       "    </tr>\n",
       "    <tr>\n",
       "      <th>3</th>\n",
       "      <td>70</td>\n",
       "      <td>439</td>\n",
       "      <td>classic</td>\n",
       "      <td>1994</td>\n",
       "      <td>2</td>\n",
       "      <td>0</td>\n",
       "    </tr>\n",
       "    <tr>\n",
       "      <th>4</th>\n",
       "      <td>577</td>\n",
       "      <td>3687</td>\n",
       "      <td>classic</td>\n",
       "      <td>1994</td>\n",
       "      <td>2</td>\n",
       "      <td>0</td>\n",
       "    </tr>\n",
       "  </tbody>\n",
       "</table>\n",
       "</div>"
      ],
      "text/plain": [
       "   card_id  disp_id     type  year  month  day\n",
       "0     1005     9285  classic  1993     11    0\n",
       "1      104      588  classic  1994      1    0\n",
       "2      747     4915  classic  1994      2    0\n",
       "3       70      439  classic  1994      2    0\n",
       "4      577     3687  classic  1994      2    0"
      ]
     },
     "execution_count": 21,
     "metadata": {},
     "output_type": "execute_result"
    }
   ],
   "source": [
    "# Transformed Card database\n",
    "card.head()"
   ]
  },
  {
   "cell_type": "markdown",
   "metadata": {},
   "source": [
    "### d) Transaction:  "
   ]
  },
  {
   "cell_type": "code",
   "execution_count": 22,
   "metadata": {},
   "outputs": [
    {
     "data": {
      "text/html": [
       "<div>\n",
       "<style scoped>\n",
       "    .dataframe tbody tr th:only-of-type {\n",
       "        vertical-align: middle;\n",
       "    }\n",
       "\n",
       "    .dataframe tbody tr th {\n",
       "        vertical-align: top;\n",
       "    }\n",
       "\n",
       "    .dataframe thead th {\n",
       "        text-align: right;\n",
       "    }\n",
       "</style>\n",
       "<table border=\"1\" class=\"dataframe\">\n",
       "  <thead>\n",
       "    <tr style=\"text-align: right;\">\n",
       "      <th></th>\n",
       "      <th>trans_id</th>\n",
       "      <th>account_id</th>\n",
       "      <th>date</th>\n",
       "      <th>type</th>\n",
       "      <th>operation</th>\n",
       "      <th>amount</th>\n",
       "      <th>balance</th>\n",
       "      <th>k_symbol</th>\n",
       "      <th>bank</th>\n",
       "      <th>account</th>\n",
       "    </tr>\n",
       "  </thead>\n",
       "  <tbody>\n",
       "    <tr>\n",
       "      <th>0</th>\n",
       "      <td>695247</td>\n",
       "      <td>2378</td>\n",
       "      <td>930101</td>\n",
       "      <td>PRIJEM</td>\n",
       "      <td>VKLAD</td>\n",
       "      <td>700.0</td>\n",
       "      <td>700.0</td>\n",
       "      <td>NaN</td>\n",
       "      <td>NaN</td>\n",
       "      <td>NaN</td>\n",
       "    </tr>\n",
       "    <tr>\n",
       "      <th>1</th>\n",
       "      <td>171812</td>\n",
       "      <td>576</td>\n",
       "      <td>930101</td>\n",
       "      <td>PRIJEM</td>\n",
       "      <td>VKLAD</td>\n",
       "      <td>900.0</td>\n",
       "      <td>900.0</td>\n",
       "      <td>NaN</td>\n",
       "      <td>NaN</td>\n",
       "      <td>NaN</td>\n",
       "    </tr>\n",
       "    <tr>\n",
       "      <th>2</th>\n",
       "      <td>207264</td>\n",
       "      <td>704</td>\n",
       "      <td>930101</td>\n",
       "      <td>PRIJEM</td>\n",
       "      <td>VKLAD</td>\n",
       "      <td>1000.0</td>\n",
       "      <td>1000.0</td>\n",
       "      <td>NaN</td>\n",
       "      <td>NaN</td>\n",
       "      <td>NaN</td>\n",
       "    </tr>\n",
       "    <tr>\n",
       "      <th>3</th>\n",
       "      <td>1117247</td>\n",
       "      <td>3818</td>\n",
       "      <td>930101</td>\n",
       "      <td>PRIJEM</td>\n",
       "      <td>VKLAD</td>\n",
       "      <td>600.0</td>\n",
       "      <td>600.0</td>\n",
       "      <td>NaN</td>\n",
       "      <td>NaN</td>\n",
       "      <td>NaN</td>\n",
       "    </tr>\n",
       "    <tr>\n",
       "      <th>4</th>\n",
       "      <td>579373</td>\n",
       "      <td>1972</td>\n",
       "      <td>930102</td>\n",
       "      <td>PRIJEM</td>\n",
       "      <td>VKLAD</td>\n",
       "      <td>400.0</td>\n",
       "      <td>400.0</td>\n",
       "      <td>NaN</td>\n",
       "      <td>NaN</td>\n",
       "      <td>NaN</td>\n",
       "    </tr>\n",
       "  </tbody>\n",
       "</table>\n",
       "</div>"
      ],
      "text/plain": [
       "   trans_id  account_id    date    type operation  amount  balance k_symbol  \\\n",
       "0    695247        2378  930101  PRIJEM     VKLAD   700.0    700.0      NaN   \n",
       "1    171812         576  930101  PRIJEM     VKLAD   900.0    900.0      NaN   \n",
       "2    207264         704  930101  PRIJEM     VKLAD  1000.0   1000.0      NaN   \n",
       "3   1117247        3818  930101  PRIJEM     VKLAD   600.0    600.0      NaN   \n",
       "4    579373        1972  930102  PRIJEM     VKLAD   400.0    400.0      NaN   \n",
       "\n",
       "  bank  account  \n",
       "0  NaN      NaN  \n",
       "1  NaN      NaN  \n",
       "2  NaN      NaN  \n",
       "3  NaN      NaN  \n",
       "4  NaN      NaN  "
      ]
     },
     "execution_count": 22,
     "metadata": {},
     "output_type": "execute_result"
    }
   ],
   "source": [
    "# Knowing the database\n",
    "trans.head()"
   ]
  },
  {
   "cell_type": "code",
   "execution_count": 23,
   "metadata": {},
   "outputs": [
    {
     "name": "stdout",
     "output_type": "stream",
     "text": [
      "<class 'pandas.core.frame.DataFrame'>\n",
      "RangeIndex: 1056320 entries, 0 to 1056319\n",
      "Data columns (total 10 columns):\n",
      "trans_id      1056320 non-null int64\n",
      "account_id    1056320 non-null int64\n",
      "date          1056320 non-null int64\n",
      "type          1056320 non-null object\n",
      "operation     873206 non-null object\n",
      "amount        1056320 non-null float64\n",
      "balance       1056320 non-null float64\n",
      "k_symbol      574439 non-null object\n",
      "bank          273508 non-null object\n",
      "account       295389 non-null float64\n",
      "dtypes: float64(3), int64(3), object(4)\n",
      "memory usage: 80.6+ MB\n"
     ]
    }
   ],
   "source": [
    "# Knowing the feature\n",
    "trans.info()"
   ]
  },
  {
   "cell_type": "code",
   "execution_count": 24,
   "metadata": {},
   "outputs": [],
   "source": [
    "# Changing the formatting of each one of our features\n",
    "\n",
    "## type\n",
    "trans['type'] = trans['type'].replace({'PRIJEM':'Credit'})\n",
    "trans['type'] = trans['type'].replace({'VYDAJ':'Withdrawal'})\n",
    "trans['type'] = trans['type'].replace({'VYBER':'Withdrawal'})\n",
    "\n",
    "# k_symbol\n",
    "trans['k_symbol'] = trans['k_symbol'].replace({'POJISTNE':'Insurance payment'})\n",
    "trans['k_symbol'] = trans['k_symbol'].replace({'SLUZBY':'Payment for statement'})\n",
    "trans['k_symbol'] = trans['k_symbol'].replace({'UROK':'Interest credited'})\n",
    "trans['k_symbol'] = trans['k_symbol'].replace({'SANKC. UROK':'Sanction interest'})\n",
    "trans['k_symbol'] = trans['k_symbol'].replace({'SIPO':'Household'})\n",
    "trans['k_symbol'] = trans['k_symbol'].replace({'DUCHOD':'Old age pension'})\n",
    "trans['k_symbol'] = trans['k_symbol'].replace({'UVER':'Loan payment'})\n",
    "trans['k_symbol'] = trans['k_symbol'].replace({' ':'Missing'})\n",
    "trans['k_symbol'] = trans['k_symbol'].replace({nan:'Missing'})\n",
    "\n",
    "## operation\n",
    "trans['operation'] = trans['operation'].replace({'VYBER KARTOU':'Credit card withdrawal'})\n",
    "trans['operation'] = trans['operation'].replace({'VKLAD':'Credit in cash'})\n",
    "trans['operation'] = trans['operation'].replace({'PREVOD Z UCTU':'Collection other bank'})\n",
    "trans['operation'] = trans['operation'].replace({'VYBER':'Withdrawal in cash'})\n",
    "trans['operation'] = trans['operation'].replace({'PREVOD NA UCET':'Remittance to another bank'})\n",
    "trans['operation'] = trans['operation'].replace({nan:'Missing'})\n",
    "\n",
    "## bank\n",
    "trans['bank'] = trans['bank'].replace({nan:'Other bank'})\n",
    "\n",
    "## account\n",
    "trans['account'] = trans['account'].replace({nan:'Missing'})\n",
    "\n",
    "## date\n",
    "trans[\"year\"] = (\"19\" + trans.date.astype(str).str[:2]).astype(int)\n",
    "trans[\"month\"] = (trans.date.astype(str).str[2:4]).astype(int)\n",
    "trans[\"day\"] = (trans.date.astype(str).str[-2:]).astype(int)"
   ]
  },
  {
   "cell_type": "markdown",
   "metadata": {},
   "source": [
    "### e) Loan: "
   ]
  },
  {
   "cell_type": "code",
   "execution_count": 25,
   "metadata": {},
   "outputs": [
    {
     "data": {
      "text/html": [
       "<div>\n",
       "<style scoped>\n",
       "    .dataframe tbody tr th:only-of-type {\n",
       "        vertical-align: middle;\n",
       "    }\n",
       "\n",
       "    .dataframe tbody tr th {\n",
       "        vertical-align: top;\n",
       "    }\n",
       "\n",
       "    .dataframe thead th {\n",
       "        text-align: right;\n",
       "    }\n",
       "</style>\n",
       "<table border=\"1\" class=\"dataframe\">\n",
       "  <thead>\n",
       "    <tr style=\"text-align: right;\">\n",
       "      <th></th>\n",
       "      <th>loan_id</th>\n",
       "      <th>account_id</th>\n",
       "      <th>date</th>\n",
       "      <th>amount</th>\n",
       "      <th>duration</th>\n",
       "      <th>payments</th>\n",
       "      <th>status</th>\n",
       "    </tr>\n",
       "  </thead>\n",
       "  <tbody>\n",
       "    <tr>\n",
       "      <th>0</th>\n",
       "      <td>5314</td>\n",
       "      <td>1787</td>\n",
       "      <td>930705</td>\n",
       "      <td>96396</td>\n",
       "      <td>12</td>\n",
       "      <td>8033.0</td>\n",
       "      <td>B</td>\n",
       "    </tr>\n",
       "    <tr>\n",
       "      <th>1</th>\n",
       "      <td>5316</td>\n",
       "      <td>1801</td>\n",
       "      <td>930711</td>\n",
       "      <td>165960</td>\n",
       "      <td>36</td>\n",
       "      <td>4610.0</td>\n",
       "      <td>A</td>\n",
       "    </tr>\n",
       "    <tr>\n",
       "      <th>2</th>\n",
       "      <td>6863</td>\n",
       "      <td>9188</td>\n",
       "      <td>930728</td>\n",
       "      <td>127080</td>\n",
       "      <td>60</td>\n",
       "      <td>2118.0</td>\n",
       "      <td>A</td>\n",
       "    </tr>\n",
       "    <tr>\n",
       "      <th>3</th>\n",
       "      <td>5325</td>\n",
       "      <td>1843</td>\n",
       "      <td>930803</td>\n",
       "      <td>105804</td>\n",
       "      <td>36</td>\n",
       "      <td>2939.0</td>\n",
       "      <td>A</td>\n",
       "    </tr>\n",
       "    <tr>\n",
       "      <th>4</th>\n",
       "      <td>7240</td>\n",
       "      <td>11013</td>\n",
       "      <td>930906</td>\n",
       "      <td>274740</td>\n",
       "      <td>60</td>\n",
       "      <td>4579.0</td>\n",
       "      <td>A</td>\n",
       "    </tr>\n",
       "  </tbody>\n",
       "</table>\n",
       "</div>"
      ],
      "text/plain": [
       "   loan_id  account_id    date  amount  duration  payments status\n",
       "0     5314        1787  930705   96396        12    8033.0      B\n",
       "1     5316        1801  930711  165960        36    4610.0      A\n",
       "2     6863        9188  930728  127080        60    2118.0      A\n",
       "3     5325        1843  930803  105804        36    2939.0      A\n",
       "4     7240       11013  930906  274740        60    4579.0      A"
      ]
     },
     "execution_count": 25,
     "metadata": {},
     "output_type": "execute_result"
    }
   ],
   "source": [
    "# Knowing the database\n",
    "loan.head()"
   ]
  },
  {
   "cell_type": "code",
   "execution_count": 26,
   "metadata": {},
   "outputs": [],
   "source": [
    "# Creating a dictionary in order to change the status\n",
    "dictionary1 = {\"A\":\"Loan repaid. Contract closed\",\n",
    "              \"B\":\"Loan unpaid. Contract closed\",\n",
    "              \"C\":\"OK so far. Contract running\",\n",
    "              \"D\":\"Client in debt. Contract running\" }"
   ]
  },
  {
   "cell_type": "code",
   "execution_count": 27,
   "metadata": {},
   "outputs": [],
   "source": [
    "# Replacing the labels of the rows in the 'status' feature\n",
    "loan = loan.replace({\"status\":dictionary1})"
   ]
  },
  {
   "cell_type": "code",
   "execution_count": 28,
   "metadata": {},
   "outputs": [],
   "source": [
    "# Changing formatting of 'date' feature\n",
    "loan[\"year\"] = (\"19\" + loan.date.astype(str).str[:2]).astype(int)\n",
    "loan[\"month\"] = (loan.date.astype(str).str[2:4]).astype(int)\n",
    "loan[\"day\"] = (loan.date.astype(str).str[-2:]).astype(int)"
   ]
  },
  {
   "cell_type": "code",
   "execution_count": 29,
   "metadata": {},
   "outputs": [],
   "source": [
    "# Eliminating a rendundant feature \n",
    "loan =  loan.drop(columns=\"date\")"
   ]
  },
  {
   "cell_type": "code",
   "execution_count": 30,
   "metadata": {},
   "outputs": [],
   "source": [
    "# Naming the columns\n",
    "loan.columns = ['loan_id', 'account_id', 'loan_amount', 'loan_duration', 'loan_emi', 'loan_status',\n",
    "       'loan_year', 'loan_month', 'loan_day']"
   ]
  },
  {
   "cell_type": "code",
   "execution_count": 31,
   "metadata": {},
   "outputs": [
    {
     "data": {
      "text/html": [
       "<div>\n",
       "<style scoped>\n",
       "    .dataframe tbody tr th:only-of-type {\n",
       "        vertical-align: middle;\n",
       "    }\n",
       "\n",
       "    .dataframe tbody tr th {\n",
       "        vertical-align: top;\n",
       "    }\n",
       "\n",
       "    .dataframe thead th {\n",
       "        text-align: right;\n",
       "    }\n",
       "</style>\n",
       "<table border=\"1\" class=\"dataframe\">\n",
       "  <thead>\n",
       "    <tr style=\"text-align: right;\">\n",
       "      <th></th>\n",
       "      <th>loan_id</th>\n",
       "      <th>account_id</th>\n",
       "      <th>loan_amount</th>\n",
       "      <th>loan_duration</th>\n",
       "      <th>loan_emi</th>\n",
       "      <th>loan_status</th>\n",
       "      <th>loan_year</th>\n",
       "      <th>loan_month</th>\n",
       "      <th>loan_day</th>\n",
       "    </tr>\n",
       "  </thead>\n",
       "  <tbody>\n",
       "    <tr>\n",
       "      <th>0</th>\n",
       "      <td>5314</td>\n",
       "      <td>1787</td>\n",
       "      <td>96396</td>\n",
       "      <td>12</td>\n",
       "      <td>8033.0</td>\n",
       "      <td>Loan unpaid. Contract closed</td>\n",
       "      <td>1993</td>\n",
       "      <td>7</td>\n",
       "      <td>5</td>\n",
       "    </tr>\n",
       "    <tr>\n",
       "      <th>1</th>\n",
       "      <td>5316</td>\n",
       "      <td>1801</td>\n",
       "      <td>165960</td>\n",
       "      <td>36</td>\n",
       "      <td>4610.0</td>\n",
       "      <td>Loan repaid. Contract closed</td>\n",
       "      <td>1993</td>\n",
       "      <td>7</td>\n",
       "      <td>11</td>\n",
       "    </tr>\n",
       "    <tr>\n",
       "      <th>2</th>\n",
       "      <td>6863</td>\n",
       "      <td>9188</td>\n",
       "      <td>127080</td>\n",
       "      <td>60</td>\n",
       "      <td>2118.0</td>\n",
       "      <td>Loan repaid. Contract closed</td>\n",
       "      <td>1993</td>\n",
       "      <td>7</td>\n",
       "      <td>28</td>\n",
       "    </tr>\n",
       "    <tr>\n",
       "      <th>3</th>\n",
       "      <td>5325</td>\n",
       "      <td>1843</td>\n",
       "      <td>105804</td>\n",
       "      <td>36</td>\n",
       "      <td>2939.0</td>\n",
       "      <td>Loan repaid. Contract closed</td>\n",
       "      <td>1993</td>\n",
       "      <td>8</td>\n",
       "      <td>3</td>\n",
       "    </tr>\n",
       "    <tr>\n",
       "      <th>4</th>\n",
       "      <td>7240</td>\n",
       "      <td>11013</td>\n",
       "      <td>274740</td>\n",
       "      <td>60</td>\n",
       "      <td>4579.0</td>\n",
       "      <td>Loan repaid. Contract closed</td>\n",
       "      <td>1993</td>\n",
       "      <td>9</td>\n",
       "      <td>6</td>\n",
       "    </tr>\n",
       "  </tbody>\n",
       "</table>\n",
       "</div>"
      ],
      "text/plain": [
       "   loan_id  account_id  loan_amount  loan_duration  loan_emi  \\\n",
       "0     5314        1787        96396             12    8033.0   \n",
       "1     5316        1801       165960             36    4610.0   \n",
       "2     6863        9188       127080             60    2118.0   \n",
       "3     5325        1843       105804             36    2939.0   \n",
       "4     7240       11013       274740             60    4579.0   \n",
       "\n",
       "                    loan_status  loan_year  loan_month  loan_day  \n",
       "0  Loan unpaid. Contract closed       1993           7         5  \n",
       "1  Loan repaid. Contract closed       1993           7        11  \n",
       "2  Loan repaid. Contract closed       1993           7        28  \n",
       "3  Loan repaid. Contract closed       1993           8         3  \n",
       "4  Loan repaid. Contract closed       1993           9         6  "
      ]
     },
     "execution_count": 31,
     "metadata": {},
     "output_type": "execute_result"
    }
   ],
   "source": [
    "# Transformed database\n",
    "loan.head()"
   ]
  },
  {
   "cell_type": "markdown",
   "metadata": {},
   "source": [
    "### f) Order: "
   ]
  },
  {
   "cell_type": "code",
   "execution_count": 32,
   "metadata": {},
   "outputs": [
    {
     "data": {
      "text/html": [
       "<div>\n",
       "<style scoped>\n",
       "    .dataframe tbody tr th:only-of-type {\n",
       "        vertical-align: middle;\n",
       "    }\n",
       "\n",
       "    .dataframe tbody tr th {\n",
       "        vertical-align: top;\n",
       "    }\n",
       "\n",
       "    .dataframe thead th {\n",
       "        text-align: right;\n",
       "    }\n",
       "</style>\n",
       "<table border=\"1\" class=\"dataframe\">\n",
       "  <thead>\n",
       "    <tr style=\"text-align: right;\">\n",
       "      <th></th>\n",
       "      <th>order_id</th>\n",
       "      <th>account_id</th>\n",
       "      <th>bank_to</th>\n",
       "      <th>account_to</th>\n",
       "      <th>amount</th>\n",
       "      <th>k_symbol</th>\n",
       "    </tr>\n",
       "  </thead>\n",
       "  <tbody>\n",
       "    <tr>\n",
       "      <th>0</th>\n",
       "      <td>29401</td>\n",
       "      <td>1</td>\n",
       "      <td>YZ</td>\n",
       "      <td>87144583</td>\n",
       "      <td>2452.0</td>\n",
       "      <td>SIPO</td>\n",
       "    </tr>\n",
       "    <tr>\n",
       "      <th>1</th>\n",
       "      <td>29402</td>\n",
       "      <td>2</td>\n",
       "      <td>ST</td>\n",
       "      <td>89597016</td>\n",
       "      <td>3372.7</td>\n",
       "      <td>UVER</td>\n",
       "    </tr>\n",
       "    <tr>\n",
       "      <th>2</th>\n",
       "      <td>29403</td>\n",
       "      <td>2</td>\n",
       "      <td>QR</td>\n",
       "      <td>13943797</td>\n",
       "      <td>7266.0</td>\n",
       "      <td>SIPO</td>\n",
       "    </tr>\n",
       "    <tr>\n",
       "      <th>3</th>\n",
       "      <td>29404</td>\n",
       "      <td>3</td>\n",
       "      <td>WX</td>\n",
       "      <td>83084338</td>\n",
       "      <td>1135.0</td>\n",
       "      <td>SIPO</td>\n",
       "    </tr>\n",
       "    <tr>\n",
       "      <th>4</th>\n",
       "      <td>29405</td>\n",
       "      <td>3</td>\n",
       "      <td>CD</td>\n",
       "      <td>24485939</td>\n",
       "      <td>327.0</td>\n",
       "      <td></td>\n",
       "    </tr>\n",
       "  </tbody>\n",
       "</table>\n",
       "</div>"
      ],
      "text/plain": [
       "   order_id  account_id bank_to  account_to  amount k_symbol\n",
       "0     29401           1      YZ    87144583  2452.0     SIPO\n",
       "1     29402           2      ST    89597016  3372.7     UVER\n",
       "2     29403           2      QR    13943797  7266.0     SIPO\n",
       "3     29404           3      WX    83084338  1135.0     SIPO\n",
       "4     29405           3      CD    24485939   327.0         "
      ]
     },
     "execution_count": 32,
     "metadata": {},
     "output_type": "execute_result"
    }
   ],
   "source": [
    "# Knowing order database\n",
    "order.head()"
   ]
  },
  {
   "cell_type": "code",
   "execution_count": 33,
   "metadata": {},
   "outputs": [],
   "source": [
    "# Changin the name of the k_symbol elements\n",
    "order['k_symbol']=order['k_symbol'].replace({'SIPO':'Household Payment'})\n",
    "order['k_symbol']=order['k_symbol'].replace({'UVER':'Loan Payment'})\n",
    "order['k_symbol']=order['k_symbol'].replace({'LEASING':'Leasing'})\n",
    "order['k_symbol']=order['k_symbol'].replace({'POJISTNE':'Insurance Payment'})\n",
    "order['k_symbol']=order['k_symbol'].replace({' ':'Missing'})"
   ]
  },
  {
   "cell_type": "markdown",
   "metadata": {},
   "source": [
    "### g) Disposition:"
   ]
  },
  {
   "cell_type": "code",
   "execution_count": 34,
   "metadata": {},
   "outputs": [],
   "source": [
    "# Replacing missing values with 0's\n",
    "disp2 = pd.pivot_table(disp, values = 'client_id', index = 'account_id', columns = ['type'], aggfunc = ['count']).fillna(0)"
   ]
  },
  {
   "cell_type": "code",
   "execution_count": 35,
   "metadata": {},
   "outputs": [
    {
     "data": {
      "text/html": [
       "<div>\n",
       "<style scoped>\n",
       "    .dataframe tbody tr th:only-of-type {\n",
       "        vertical-align: middle;\n",
       "    }\n",
       "\n",
       "    .dataframe tbody tr th {\n",
       "        vertical-align: top;\n",
       "    }\n",
       "\n",
       "    .dataframe thead tr th {\n",
       "        text-align: left;\n",
       "    }\n",
       "\n",
       "    .dataframe thead tr:last-of-type th {\n",
       "        text-align: right;\n",
       "    }\n",
       "</style>\n",
       "<table border=\"1\" class=\"dataframe\">\n",
       "  <thead>\n",
       "    <tr>\n",
       "      <th></th>\n",
       "      <th colspan=\"2\" halign=\"left\">count</th>\n",
       "    </tr>\n",
       "    <tr>\n",
       "      <th>type</th>\n",
       "      <th>DISPONENT</th>\n",
       "      <th>OWNER</th>\n",
       "    </tr>\n",
       "    <tr>\n",
       "      <th>account_id</th>\n",
       "      <th></th>\n",
       "      <th></th>\n",
       "    </tr>\n",
       "  </thead>\n",
       "  <tbody>\n",
       "    <tr>\n",
       "      <th>1</th>\n",
       "      <td>0.0</td>\n",
       "      <td>1.0</td>\n",
       "    </tr>\n",
       "  </tbody>\n",
       "</table>\n",
       "</div>"
      ],
      "text/plain": [
       "               count      \n",
       "type       DISPONENT OWNER\n",
       "account_id                \n",
       "1                0.0   1.0"
      ]
     },
     "execution_count": 35,
     "metadata": {},
     "output_type": "execute_result"
    }
   ],
   "source": [
    "# Knowing database\n",
    "disp2.head(1)"
   ]
  },
  {
   "cell_type": "code",
   "execution_count": 36,
   "metadata": {},
   "outputs": [
    {
     "name": "stderr",
     "output_type": "stream",
     "text": [
      "C:\\ProgramData\\Anaconda3\\lib\\site-packages\\pandas\\core\\reshape\\merge.py:522: UserWarning: merging between different levels can give an unintended result (2 levels on the left, 1 on the right)\n",
      "  warnings.warn(msg, UserWarning)\n"
     ]
    }
   ],
   "source": [
    "# Merging \n",
    "left_table = disp2\n",
    "right_table = disp\n",
    "\n",
    "disp1 = pd.merge(left_table,\n",
    "        right_table,\n",
    "        how=\"left\",\n",
    "        left_on=\"account_id\",\n",
    "        right_on=\"account_id\"\n",
    "        )"
   ]
  },
  {
   "cell_type": "code",
   "execution_count": 37,
   "metadata": {},
   "outputs": [
    {
     "data": {
      "text/html": [
       "<div>\n",
       "<style scoped>\n",
       "    .dataframe tbody tr th:only-of-type {\n",
       "        vertical-align: middle;\n",
       "    }\n",
       "\n",
       "    .dataframe tbody tr th {\n",
       "        vertical-align: top;\n",
       "    }\n",
       "\n",
       "    .dataframe thead th {\n",
       "        text-align: right;\n",
       "    }\n",
       "</style>\n",
       "<table border=\"1\" class=\"dataframe\">\n",
       "  <thead>\n",
       "    <tr style=\"text-align: right;\">\n",
       "      <th></th>\n",
       "      <th>account_id</th>\n",
       "      <th>(count, DISPONENT)</th>\n",
       "      <th>(count, OWNER)</th>\n",
       "      <th>disp_id</th>\n",
       "      <th>client_id</th>\n",
       "      <th>type</th>\n",
       "    </tr>\n",
       "  </thead>\n",
       "  <tbody>\n",
       "    <tr>\n",
       "      <th>0</th>\n",
       "      <td>1</td>\n",
       "      <td>0.0</td>\n",
       "      <td>1.0</td>\n",
       "      <td>1</td>\n",
       "      <td>1</td>\n",
       "      <td>OWNER</td>\n",
       "    </tr>\n",
       "    <tr>\n",
       "      <th>1</th>\n",
       "      <td>2</td>\n",
       "      <td>1.0</td>\n",
       "      <td>1.0</td>\n",
       "      <td>2</td>\n",
       "      <td>2</td>\n",
       "      <td>OWNER</td>\n",
       "    </tr>\n",
       "    <tr>\n",
       "      <th>2</th>\n",
       "      <td>2</td>\n",
       "      <td>1.0</td>\n",
       "      <td>1.0</td>\n",
       "      <td>3</td>\n",
       "      <td>3</td>\n",
       "      <td>DISPONENT</td>\n",
       "    </tr>\n",
       "    <tr>\n",
       "      <th>3</th>\n",
       "      <td>3</td>\n",
       "      <td>1.0</td>\n",
       "      <td>1.0</td>\n",
       "      <td>4</td>\n",
       "      <td>4</td>\n",
       "      <td>OWNER</td>\n",
       "    </tr>\n",
       "    <tr>\n",
       "      <th>4</th>\n",
       "      <td>3</td>\n",
       "      <td>1.0</td>\n",
       "      <td>1.0</td>\n",
       "      <td>5</td>\n",
       "      <td>5</td>\n",
       "      <td>DISPONENT</td>\n",
       "    </tr>\n",
       "  </tbody>\n",
       "</table>\n",
       "</div>"
      ],
      "text/plain": [
       "   account_id  (count, DISPONENT)  (count, OWNER)  disp_id  client_id  \\\n",
       "0           1                 0.0             1.0        1          1   \n",
       "1           2                 1.0             1.0        2          2   \n",
       "2           2                 1.0             1.0        3          3   \n",
       "3           3                 1.0             1.0        4          4   \n",
       "4           3                 1.0             1.0        5          5   \n",
       "\n",
       "        type  \n",
       "0      OWNER  \n",
       "1      OWNER  \n",
       "2  DISPONENT  \n",
       "3      OWNER  \n",
       "4  DISPONENT  "
      ]
     },
     "execution_count": 37,
     "metadata": {},
     "output_type": "execute_result"
    }
   ],
   "source": [
    "disp1.head()"
   ]
  },
  {
   "cell_type": "markdown",
   "metadata": {},
   "source": [
    "# 2) Merging tables "
   ]
  },
  {
   "cell_type": "markdown",
   "metadata": {},
   "source": [
    "***Objective:*** Once prepared, now we can merge the tables in a way that the final output allows to have each one of the clients with their respective information. In the case of tables such as transactions, which present more than one observation per client, we are going to pivot these cases in order to get back some metrics (mean, sum, max, min). Last but not least, pivoted tables will also give us some cross analysis (for example, mean credit of Y year in M month). "
   ]
  },
  {
   "cell_type": "markdown",
   "metadata": {},
   "source": [
    "***Transaction Transformation***"
   ]
  },
  {
   "cell_type": "code",
   "execution_count": 38,
   "metadata": {},
   "outputs": [
    {
     "data": {
      "text/html": [
       "<div>\n",
       "<style scoped>\n",
       "    .dataframe tbody tr th:only-of-type {\n",
       "        vertical-align: middle;\n",
       "    }\n",
       "\n",
       "    .dataframe tbody tr th {\n",
       "        vertical-align: top;\n",
       "    }\n",
       "\n",
       "    .dataframe thead tr th {\n",
       "        text-align: left;\n",
       "    }\n",
       "\n",
       "    .dataframe thead tr:last-of-type th {\n",
       "        text-align: right;\n",
       "    }\n",
       "</style>\n",
       "<table border=\"1\" class=\"dataframe\">\n",
       "  <thead>\n",
       "    <tr>\n",
       "      <th></th>\n",
       "      <th colspan=\"10\" halign=\"left\">count</th>\n",
       "      <th>...</th>\n",
       "      <th colspan=\"10\" halign=\"left\">sum</th>\n",
       "    </tr>\n",
       "    <tr>\n",
       "      <th>type</th>\n",
       "      <th colspan=\"10\" halign=\"left\">Credit</th>\n",
       "      <th>...</th>\n",
       "      <th colspan=\"10\" halign=\"left\">Withdrawal</th>\n",
       "    </tr>\n",
       "    <tr>\n",
       "      <th>month</th>\n",
       "      <th>1</th>\n",
       "      <th>2</th>\n",
       "      <th>3</th>\n",
       "      <th>4</th>\n",
       "      <th>5</th>\n",
       "      <th>6</th>\n",
       "      <th>7</th>\n",
       "      <th>8</th>\n",
       "      <th>9</th>\n",
       "      <th>10</th>\n",
       "      <th>...</th>\n",
       "      <th>3</th>\n",
       "      <th>4</th>\n",
       "      <th>5</th>\n",
       "      <th>6</th>\n",
       "      <th>7</th>\n",
       "      <th>8</th>\n",
       "      <th>9</th>\n",
       "      <th>10</th>\n",
       "      <th>11</th>\n",
       "      <th>12</th>\n",
       "    </tr>\n",
       "    <tr>\n",
       "      <th>account_id</th>\n",
       "      <th></th>\n",
       "      <th></th>\n",
       "      <th></th>\n",
       "      <th></th>\n",
       "      <th></th>\n",
       "      <th></th>\n",
       "      <th></th>\n",
       "      <th></th>\n",
       "      <th></th>\n",
       "      <th></th>\n",
       "      <th></th>\n",
       "      <th></th>\n",
       "      <th></th>\n",
       "      <th></th>\n",
       "      <th></th>\n",
       "      <th></th>\n",
       "      <th></th>\n",
       "      <th></th>\n",
       "      <th></th>\n",
       "      <th></th>\n",
       "      <th></th>\n",
       "    </tr>\n",
       "  </thead>\n",
       "  <tbody>\n",
       "    <tr>\n",
       "      <th>1</th>\n",
       "      <td>7.0</td>\n",
       "      <td>9.0</td>\n",
       "      <td>8.0</td>\n",
       "      <td>9.0</td>\n",
       "      <td>9.0</td>\n",
       "      <td>9.0</td>\n",
       "      <td>10.0</td>\n",
       "      <td>9.0</td>\n",
       "      <td>8.0</td>\n",
       "      <td>8.0</td>\n",
       "      <td>...</td>\n",
       "      <td>12809.8</td>\n",
       "      <td>10629.8</td>\n",
       "      <td>11129.8</td>\n",
       "      <td>8409.8</td>\n",
       "      <td>13689.8</td>\n",
       "      <td>19804.4</td>\n",
       "      <td>19156.4</td>\n",
       "      <td>16036.4</td>\n",
       "      <td>17046.4</td>\n",
       "      <td>25071.8</td>\n",
       "    </tr>\n",
       "    <tr>\n",
       "      <th>2</th>\n",
       "      <td>12.0</td>\n",
       "      <td>14.0</td>\n",
       "      <td>13.0</td>\n",
       "      <td>13.0</td>\n",
       "      <td>13.0</td>\n",
       "      <td>13.0</td>\n",
       "      <td>13.0</td>\n",
       "      <td>12.0</td>\n",
       "      <td>12.0</td>\n",
       "      <td>13.0</td>\n",
       "      <td>...</td>\n",
       "      <td>96691.4</td>\n",
       "      <td>116419.4</td>\n",
       "      <td>140761.4</td>\n",
       "      <td>150020.4</td>\n",
       "      <td>130352.0</td>\n",
       "      <td>151459.0</td>\n",
       "      <td>129211.0</td>\n",
       "      <td>101265.0</td>\n",
       "      <td>116539.0</td>\n",
       "      <td>168910.4</td>\n",
       "    </tr>\n",
       "    <tr>\n",
       "      <th>3</th>\n",
       "      <td>2.0</td>\n",
       "      <td>3.0</td>\n",
       "      <td>3.0</td>\n",
       "      <td>3.0</td>\n",
       "      <td>2.0</td>\n",
       "      <td>2.0</td>\n",
       "      <td>6.0</td>\n",
       "      <td>6.0</td>\n",
       "      <td>5.0</td>\n",
       "      <td>5.0</td>\n",
       "      <td>...</td>\n",
       "      <td>5015.6</td>\n",
       "      <td>8135.6</td>\n",
       "      <td>5815.6</td>\n",
       "      <td>9415.6</td>\n",
       "      <td>5015.6</td>\n",
       "      <td>5215.6</td>\n",
       "      <td>7415.6</td>\n",
       "      <td>11915.6</td>\n",
       "      <td>14830.2</td>\n",
       "      <td>22236.6</td>\n",
       "    </tr>\n",
       "    <tr>\n",
       "      <th>4</th>\n",
       "      <td>4.0</td>\n",
       "      <td>5.0</td>\n",
       "      <td>5.0</td>\n",
       "      <td>5.0</td>\n",
       "      <td>5.0</td>\n",
       "      <td>5.0</td>\n",
       "      <td>6.0</td>\n",
       "      <td>6.0</td>\n",
       "      <td>6.0</td>\n",
       "      <td>6.0</td>\n",
       "      <td>...</td>\n",
       "      <td>8515.2</td>\n",
       "      <td>7555.2</td>\n",
       "      <td>9075.2</td>\n",
       "      <td>13285.2</td>\n",
       "      <td>11794.8</td>\n",
       "      <td>17232.8</td>\n",
       "      <td>15332.8</td>\n",
       "      <td>11432.8</td>\n",
       "      <td>10772.8</td>\n",
       "      <td>19988.2</td>\n",
       "    </tr>\n",
       "    <tr>\n",
       "      <th>5</th>\n",
       "      <td>2.0</td>\n",
       "      <td>2.0</td>\n",
       "      <td>2.0</td>\n",
       "      <td>2.0</td>\n",
       "      <td>3.0</td>\n",
       "      <td>3.0</td>\n",
       "      <td>3.0</td>\n",
       "      <td>3.0</td>\n",
       "      <td>3.0</td>\n",
       "      <td>4.0</td>\n",
       "      <td>...</td>\n",
       "      <td>3482.6</td>\n",
       "      <td>4882.6</td>\n",
       "      <td>5082.6</td>\n",
       "      <td>3482.6</td>\n",
       "      <td>6782.6</td>\n",
       "      <td>7782.6</td>\n",
       "      <td>4022.6</td>\n",
       "      <td>2697.2</td>\n",
       "      <td>5465.2</td>\n",
       "      <td>12430.6</td>\n",
       "    </tr>\n",
       "  </tbody>\n",
       "</table>\n",
       "<p>5 rows × 48 columns</p>\n",
       "</div>"
      ],
      "text/plain": [
       "            count                                                        ...  \\\n",
       "type       Credit                                                        ...   \n",
       "month          1     2     3     4     5     6     7     8     9     10  ...   \n",
       "account_id                                                               ...   \n",
       "1             7.0   9.0   8.0   9.0   9.0   9.0  10.0   9.0   8.0   8.0  ...   \n",
       "2            12.0  14.0  13.0  13.0  13.0  13.0  13.0  12.0  12.0  13.0  ...   \n",
       "3             2.0   3.0   3.0   3.0   2.0   2.0   6.0   6.0   5.0   5.0  ...   \n",
       "4             4.0   5.0   5.0   5.0   5.0   5.0   6.0   6.0   6.0   6.0  ...   \n",
       "5             2.0   2.0   2.0   2.0   3.0   3.0   3.0   3.0   3.0   4.0  ...   \n",
       "\n",
       "                  sum                                                    \\\n",
       "type       Withdrawal                                                     \n",
       "month              3         4         5         6         7         8    \n",
       "account_id                                                                \n",
       "1             12809.8   10629.8   11129.8    8409.8   13689.8   19804.4   \n",
       "2             96691.4  116419.4  140761.4  150020.4  130352.0  151459.0   \n",
       "3              5015.6    8135.6    5815.6    9415.6    5015.6    5215.6   \n",
       "4              8515.2    7555.2    9075.2   13285.2   11794.8   17232.8   \n",
       "5              3482.6    4882.6    5082.6    3482.6    6782.6    7782.6   \n",
       "\n",
       "                                                    \n",
       "type                                                \n",
       "month             9         10        11        12  \n",
       "account_id                                          \n",
       "1            19156.4   16036.4   17046.4   25071.8  \n",
       "2           129211.0  101265.0  116539.0  168910.4  \n",
       "3             7415.6   11915.6   14830.2   22236.6  \n",
       "4            15332.8   11432.8   10772.8   19988.2  \n",
       "5             4022.6    2697.2    5465.2   12430.6  \n",
       "\n",
       "[5 rows x 48 columns]"
      ]
     },
     "execution_count": 38,
     "metadata": {},
     "output_type": "execute_result"
    }
   ],
   "source": [
    "# Cross Analysis: Aggregated metrics of Credit and Withdrawal by month\n",
    "Trans_transformation_type = pd.pivot_table(trans, values = 'amount', index = 'account_id', columns = ['type','month'], aggfunc = ['count','sum'])\n",
    "Trans_transformation_type = Trans_transformation_type.fillna(0)\n",
    "Trans_transformation_type.head()"
   ]
  },
  {
   "cell_type": "code",
   "execution_count": 39,
   "metadata": {},
   "outputs": [],
   "source": [
    "# Cross Analysis: Mean of Balance by year\n",
    "Trans_transformation_type_balance =pd.pivot_table(trans, values = ['balance'], index = 'account_id', columns = ['year'], aggfunc = ['mean']).fillna(0)"
   ]
  },
  {
   "cell_type": "code",
   "execution_count": 40,
   "metadata": {},
   "outputs": [],
   "source": [
    "# Cross Analysis: Aggregated metrics of Credit and Withdrawal by month\n",
    "Trans_transformation_type_by_year = pd.pivot_table(trans, values = 'amount', index = 'account_id', columns = ['type','year'], aggfunc = ['count','sum']).fillna(0)"
   ]
  },
  {
   "cell_type": "code",
   "execution_count": 41,
   "metadata": {},
   "outputs": [],
   "source": [
    "# Cross Analysis: Aggregated metrics of Amount by year and month\n",
    "Trans_transformation_type_by_year_month = pd.pivot_table(trans, values = 'amount', index = 'account_id', columns = ['year','month'], aggfunc = ['count','sum']).fillna(0)"
   ]
  },
  {
   "cell_type": "code",
   "execution_count": 42,
   "metadata": {},
   "outputs": [],
   "source": [
    "# Cross Analysis: Aggregated metrics of Credit and Withdrawal\n",
    "Trans_transformation_type_total = pd.pivot_table(trans, values = 'amount', index = 'account_id', columns = ['type'], aggfunc = ['count','sum']).fillna(0)"
   ]
  },
  {
   "cell_type": "code",
   "execution_count": 43,
   "metadata": {},
   "outputs": [],
   "source": [
    "# Cross Analysis: Mean of balance after each Credit and Withdrawal\n",
    "Trans_transformation_type_total2 = pd.pivot_table(trans, values = 'balance', index = 'account_id', columns = ['type'], aggfunc = ['mean']).fillna(0).reset_index()"
   ]
  },
  {
   "cell_type": "code",
   "execution_count": 44,
   "metadata": {},
   "outputs": [],
   "source": [
    "# Merging 'by year' table\n",
    "\n",
    "left_table = Trans_transformation_type\n",
    "right_table = Trans_transformation_type_by_year\n",
    "\n",
    "Trans_transformation_type_1 = pd.merge(left_table,\n",
    "                     right_table,\n",
    "                     how=\"left\",\n",
    "                     left_on=\"account_id\",\n",
    "                     right_on=\"account_id\"\n",
    "                     )"
   ]
  },
  {
   "cell_type": "code",
   "execution_count": 45,
   "metadata": {},
   "outputs": [],
   "source": [
    "left_table = Trans_transformation_type_1\n",
    "right_table = Trans_transformation_type_by_year_month\n",
    "\n",
    "Trans_transformation_type_2 = pd.merge(left_table,\n",
    "                     right_table,\n",
    "                     how=\"left\",\n",
    "                     left_on=\"account_id\",\n",
    "                     right_on=\"account_id\"\n",
    "                     )"
   ]
  },
  {
   "cell_type": "code",
   "execution_count": 46,
   "metadata": {},
   "outputs": [
    {
     "name": "stderr",
     "output_type": "stream",
     "text": [
      "C:\\ProgramData\\Anaconda3\\lib\\site-packages\\pandas\\core\\reshape\\merge.py:522: UserWarning: merging between different levels can give an unintended result (3 levels on the left, 2 on the right)\n",
      "  warnings.warn(msg, UserWarning)\n"
     ]
    }
   ],
   "source": [
    "left_table = Trans_transformation_type_2\n",
    "right_table = Trans_transformation_type_total\n",
    "\n",
    "Trans_transformation_type_3 = pd.merge(left_table,\n",
    "                     right_table,\n",
    "                     how=\"left\",\n",
    "                     left_on=\"account_id\",\n",
    "                     right_on=\"account_id\"\n",
    "                     )"
   ]
  },
  {
   "cell_type": "code",
   "execution_count": 47,
   "metadata": {},
   "outputs": [
    {
     "name": "stderr",
     "output_type": "stream",
     "text": [
      "C:\\ProgramData\\Anaconda3\\lib\\site-packages\\pandas\\core\\reshape\\merge.py:522: UserWarning: merging between different levels can give an unintended result (1 levels on the left, 3 on the right)\n",
      "  warnings.warn(msg, UserWarning)\n"
     ]
    }
   ],
   "source": [
    "left_table = Trans_transformation_type_3\n",
    "right_table = Trans_transformation_type_balance\n",
    "\n",
    "Trans_transformation_type_4 = pd.merge(left_table,\n",
    "                     right_table,\n",
    "                     how=\"left\",\n",
    "                     left_on=\"account_id\",\n",
    "                     right_on=\"account_id\"\n",
    "                     )"
   ]
  },
  {
   "cell_type": "code",
   "execution_count": 48,
   "metadata": {},
   "outputs": [
    {
     "name": "stderr",
     "output_type": "stream",
     "text": [
      "C:\\ProgramData\\Anaconda3\\lib\\site-packages\\pandas\\core\\reshape\\merge.py:522: UserWarning: merging between different levels can give an unintended result (1 levels on the left, 2 on the right)\n",
      "  warnings.warn(msg, UserWarning)\n",
      "C:\\ProgramData\\Anaconda3\\lib\\site-packages\\pandas\\core\\generic.py:3812: PerformanceWarning: dropping on a non-lexsorted multi-index without a level parameter may impact performance.\n",
      "  new_axis = axis.drop(labels, errors=errors)\n"
     ]
    }
   ],
   "source": [
    "left_table = Trans_transformation_type_4\n",
    "right_table = Trans_transformation_type_total2\n",
    "\n",
    "Trans_transformation_type_5 = pd.merge(left_table,\n",
    "                     right_table,\n",
    "                     how=\"left\",\n",
    "                     left_on=\"account_id\",\n",
    "                     right_on=\"account_id\"\n",
    "                     )"
   ]
  },
  {
   "cell_type": "code",
   "execution_count": 49,
   "metadata": {},
   "outputs": [
    {
     "data": {
      "text/html": [
       "<div>\n",
       "<style scoped>\n",
       "    .dataframe tbody tr th:only-of-type {\n",
       "        vertical-align: middle;\n",
       "    }\n",
       "\n",
       "    .dataframe tbody tr th {\n",
       "        vertical-align: top;\n",
       "    }\n",
       "\n",
       "    .dataframe thead th {\n",
       "        text-align: right;\n",
       "    }\n",
       "</style>\n",
       "<table border=\"1\" class=\"dataframe\">\n",
       "  <thead>\n",
       "    <tr style=\"text-align: right;\">\n",
       "      <th></th>\n",
       "      <th>account_id</th>\n",
       "      <th>(count, Credit, 1)</th>\n",
       "      <th>(count, Credit, 2)</th>\n",
       "      <th>(count, Credit, 3)</th>\n",
       "      <th>(count, Credit, 4)</th>\n",
       "      <th>(count, Credit, 5)</th>\n",
       "      <th>(count, Credit, 6)</th>\n",
       "      <th>(count, Credit, 7)</th>\n",
       "      <th>(count, Credit, 8)</th>\n",
       "      <th>(count, Credit, 9)</th>\n",
       "      <th>...</th>\n",
       "      <th>(sum, Credit)</th>\n",
       "      <th>(sum, Withdrawal)</th>\n",
       "      <th>(mean, balance, 1993)</th>\n",
       "      <th>(mean, balance, 1994)</th>\n",
       "      <th>(mean, balance, 1995)</th>\n",
       "      <th>(mean, balance, 1996)</th>\n",
       "      <th>(mean, balance, 1997)</th>\n",
       "      <th>(mean, balance, 1998)</th>\n",
       "      <th>(mean, Credit)</th>\n",
       "      <th>(mean, Withdrawal)</th>\n",
       "    </tr>\n",
       "  </thead>\n",
       "  <tbody>\n",
       "    <tr>\n",
       "      <th>0</th>\n",
       "      <td>1</td>\n",
       "      <td>7.0</td>\n",
       "      <td>9.0</td>\n",
       "      <td>8.0</td>\n",
       "      <td>9.0</td>\n",
       "      <td>9.0</td>\n",
       "      <td>9.0</td>\n",
       "      <td>10.0</td>\n",
       "      <td>9.0</td>\n",
       "      <td>8.0</td>\n",
       "      <td>...</td>\n",
       "      <td>194320.5</td>\n",
       "      <td>180854.0</td>\n",
       "      <td>0.0</td>\n",
       "      <td>0.0</td>\n",
       "      <td>20552.423077</td>\n",
       "      <td>15980.927027</td>\n",
       "      <td>14099.79375</td>\n",
       "      <td>15097.55</td>\n",
       "      <td>16950.376471</td>\n",
       "      <td>15281.967883</td>\n",
       "    </tr>\n",
       "  </tbody>\n",
       "</table>\n",
       "<p>1 rows × 229 columns</p>\n",
       "</div>"
      ],
      "text/plain": [
       "   account_id  (count, Credit, 1)  (count, Credit, 2)  (count, Credit, 3)  \\\n",
       "0           1                 7.0                 9.0                 8.0   \n",
       "\n",
       "   (count, Credit, 4)  (count, Credit, 5)  (count, Credit, 6)  \\\n",
       "0                 9.0                 9.0                 9.0   \n",
       "\n",
       "   (count, Credit, 7)  (count, Credit, 8)  (count, Credit, 9)  ...  \\\n",
       "0                10.0                 9.0                 8.0  ...   \n",
       "\n",
       "   (sum, Credit)  (sum, Withdrawal)  (mean, balance, 1993)  \\\n",
       "0       194320.5           180854.0                    0.0   \n",
       "\n",
       "   (mean, balance, 1994)  (mean, balance, 1995)  (mean, balance, 1996)  \\\n",
       "0                    0.0           20552.423077           15980.927027   \n",
       "\n",
       "   (mean, balance, 1997)  (mean, balance, 1998)  (mean, Credit)  \\\n",
       "0            14099.79375               15097.55    16950.376471   \n",
       "\n",
       "   (mean, Withdrawal)  \n",
       "0        15281.967883  \n",
       "\n",
       "[1 rows x 229 columns]"
      ]
     },
     "execution_count": 49,
     "metadata": {},
     "output_type": "execute_result"
    }
   ],
   "source": [
    "# Merged transaction table\n",
    "Trans_transformation_type_5.head(1)"
   ]
  },
  {
   "cell_type": "code",
   "execution_count": 50,
   "metadata": {},
   "outputs": [
    {
     "name": "stdout",
     "output_type": "stream",
     "text": [
      "['account_id', ('count', 'Credit', 1), ('count', 'Credit', 2), ('count', 'Credit', 3), ('count', 'Credit', 4), ('count', 'Credit', 5), ('count', 'Credit', 6), ('count', 'Credit', 7), ('count', 'Credit', 8), ('count', 'Credit', 9), ('count', 'Credit', 10), ('count', 'Credit', 11), ('count', 'Credit', 12), ('count', 'Withdrawal', 1), ('count', 'Withdrawal', 2), ('count', 'Withdrawal', 3), ('count', 'Withdrawal', 4), ('count', 'Withdrawal', 5), ('count', 'Withdrawal', 6), ('count', 'Withdrawal', 7), ('count', 'Withdrawal', 8), ('count', 'Withdrawal', 9), ('count', 'Withdrawal', 10), ('count', 'Withdrawal', 11), ('count', 'Withdrawal', 12), ('sum', 'Credit', 1), ('sum', 'Credit', 2), ('sum', 'Credit', 3), ('sum', 'Credit', 4), ('sum', 'Credit', 5), ('sum', 'Credit', 6), ('sum', 'Credit', 7), ('sum', 'Credit', 8), ('sum', 'Credit', 9), ('sum', 'Credit', 10), ('sum', 'Credit', 11), ('sum', 'Credit', 12), ('sum', 'Withdrawal', 1), ('sum', 'Withdrawal', 2), ('sum', 'Withdrawal', 3), ('sum', 'Withdrawal', 4), ('sum', 'Withdrawal', 5), ('sum', 'Withdrawal', 6), ('sum', 'Withdrawal', 7), ('sum', 'Withdrawal', 8), ('sum', 'Withdrawal', 9), ('sum', 'Withdrawal', 10), ('sum', 'Withdrawal', 11), ('sum', 'Withdrawal', 12), ('count', 'Credit', 1993), ('count', 'Credit', 1994), ('count', 'Credit', 1995), ('count', 'Credit', 1996), ('count', 'Credit', 1997), ('count', 'Credit', 1998), ('count', 'Withdrawal', 1993), ('count', 'Withdrawal', 1994), ('count', 'Withdrawal', 1995), ('count', 'Withdrawal', 1996), ('count', 'Withdrawal', 1997), ('count', 'Withdrawal', 1998), ('sum', 'Credit', 1993), ('sum', 'Credit', 1994), ('sum', 'Credit', 1995), ('sum', 'Credit', 1996), ('sum', 'Credit', 1997), ('sum', 'Credit', 1998), ('sum', 'Withdrawal', 1993), ('sum', 'Withdrawal', 1994), ('sum', 'Withdrawal', 1995), ('sum', 'Withdrawal', 1996), ('sum', 'Withdrawal', 1997), ('sum', 'Withdrawal', 1998), ('count', 1993, 1), ('count', 1993, 2), ('count', 1993, 3), ('count', 1993, 4), ('count', 1993, 5), ('count', 1993, 6), ('count', 1993, 7), ('count', 1993, 8), ('count', 1993, 9), ('count', 1993, 10), ('count', 1993, 11), ('count', 1993, 12), ('count', 1994, 1), ('count', 1994, 2), ('count', 1994, 3), ('count', 1994, 4), ('count', 1994, 5), ('count', 1994, 6), ('count', 1994, 7), ('count', 1994, 8), ('count', 1994, 9), ('count', 1994, 10), ('count', 1994, 11), ('count', 1994, 12), ('count', 1995, 1), ('count', 1995, 2), ('count', 1995, 3), ('count', 1995, 4), ('count', 1995, 5), ('count', 1995, 6), ('count', 1995, 7), ('count', 1995, 8), ('count', 1995, 9), ('count', 1995, 10), ('count', 1995, 11), ('count', 1995, 12), ('count', 1996, 1), ('count', 1996, 2), ('count', 1996, 3), ('count', 1996, 4), ('count', 1996, 5), ('count', 1996, 6), ('count', 1996, 7), ('count', 1996, 8), ('count', 1996, 9), ('count', 1996, 10), ('count', 1996, 11), ('count', 1996, 12), ('count', 1997, 1), ('count', 1997, 2), ('count', 1997, 3), ('count', 1997, 4), ('count', 1997, 5), ('count', 1997, 6), ('count', 1997, 7), ('count', 1997, 8), ('count', 1997, 9), ('count', 1997, 10), ('count', 1997, 11), ('count', 1997, 12), ('count', 1998, 1), ('count', 1998, 2), ('count', 1998, 3), ('count', 1998, 4), ('count', 1998, 5), ('count', 1998, 6), ('count', 1998, 7), ('count', 1998, 8), ('count', 1998, 9), ('count', 1998, 10), ('count', 1998, 11), ('count', 1998, 12), ('sum', 1993, 1), ('sum', 1993, 2), ('sum', 1993, 3), ('sum', 1993, 4), ('sum', 1993, 5), ('sum', 1993, 6), ('sum', 1993, 7), ('sum', 1993, 8), ('sum', 1993, 9), ('sum', 1993, 10), ('sum', 1993, 11), ('sum', 1993, 12), ('sum', 1994, 1), ('sum', 1994, 2), ('sum', 1994, 3), ('sum', 1994, 4), ('sum', 1994, 5), ('sum', 1994, 6), ('sum', 1994, 7), ('sum', 1994, 8), ('sum', 1994, 9), ('sum', 1994, 10), ('sum', 1994, 11), ('sum', 1994, 12), ('sum', 1995, 1), ('sum', 1995, 2), ('sum', 1995, 3), ('sum', 1995, 4), ('sum', 1995, 5), ('sum', 1995, 6), ('sum', 1995, 7), ('sum', 1995, 8), ('sum', 1995, 9), ('sum', 1995, 10), ('sum', 1995, 11), ('sum', 1995, 12), ('sum', 1996, 1), ('sum', 1996, 2), ('sum', 1996, 3), ('sum', 1996, 4), ('sum', 1996, 5), ('sum', 1996, 6), ('sum', 1996, 7), ('sum', 1996, 8), ('sum', 1996, 9), ('sum', 1996, 10), ('sum', 1996, 11), ('sum', 1996, 12), ('sum', 1997, 1), ('sum', 1997, 2), ('sum', 1997, 3), ('sum', 1997, 4), ('sum', 1997, 5), ('sum', 1997, 6), ('sum', 1997, 7), ('sum', 1997, 8), ('sum', 1997, 9), ('sum', 1997, 10), ('sum', 1997, 11), ('sum', 1997, 12), ('sum', 1998, 1), ('sum', 1998, 2), ('sum', 1998, 3), ('sum', 1998, 4), ('sum', 1998, 5), ('sum', 1998, 6), ('sum', 1998, 7), ('sum', 1998, 8), ('sum', 1998, 9), ('sum', 1998, 10), ('sum', 1998, 11), ('sum', 1998, 12), ('count', 'Credit'), ('count', 'Withdrawal'), ('sum', 'Credit'), ('sum', 'Withdrawal'), ('mean', 'balance', 1993), ('mean', 'balance', 1994), ('mean', 'balance', 1995), ('mean', 'balance', 1996), ('mean', 'balance', 1997), ('mean', 'balance', 1998), ('mean', 'Credit'), ('mean', 'Withdrawal')]\n"
     ]
    }
   ],
   "source": [
    "# Listing of all our features\n",
    "list7 = []\n",
    "\n",
    "for i in Trans_transformation_type_5.columns:\n",
    "    list7.append(i)\n",
    "    \n",
    "print(list7)"
   ]
  },
  {
   "cell_type": "code",
   "execution_count": 51,
   "metadata": {},
   "outputs": [],
   "source": [
    "# Renaming feature names with parenthesis\n",
    "list4 = []\n",
    "for i in Trans_transformation_type_5.columns:\n",
    "    i = str(i)\n",
    "    i = i.replace('(', '').replace(')','').replace(',','_').replace(\"'\",'').replace(\" \",'')\n",
    "    list4.append(i)\n",
    "\n",
    "Trans_transformation_type_5.columns = list4"
   ]
  },
  {
   "cell_type": "code",
   "execution_count": 52,
   "metadata": {},
   "outputs": [],
   "source": [
    "#Trans_transformation_type = Trans_transformation_type.reset_index(drop = True)"
   ]
  },
  {
   "cell_type": "code",
   "execution_count": 53,
   "metadata": {},
   "outputs": [],
   "source": [
    "# Pivoting to get columns by k_symbol\n",
    "Trans_transformation_type2 = pd.pivot_table(trans, values='amount', index='account_id', columns='k_symbol', aggfunc='count').fillna(0)"
   ]
  },
  {
   "cell_type": "code",
   "execution_count": 54,
   "metadata": {},
   "outputs": [],
   "source": [
    "# Pivoting to get columns by bank\n",
    "Trans_transformation_type3 = pd.pivot_table(trans, values='amount', index='account_id', columns='bank', aggfunc='count').fillna(0)"
   ]
  },
  {
   "cell_type": "code",
   "execution_count": 55,
   "metadata": {},
   "outputs": [
    {
     "name": "stdout",
     "output_type": "stream",
     "text": [
      "['Household', 'Insurance_payment', 'Interest_credited', 'Loan_payment', 'Missing', 'Old_age_pension', 'Payment_for_statement', 'Sanction_interest']\n"
     ]
    }
   ],
   "source": [
    "# Formatting feature names\n",
    "Trans_transformation_type2.columns = Trans_transformation_type2.columns.get_level_values(0)\n",
    "Trans_transformation_type2.columns = [''.join(col).strip() for col in Trans_transformation_type2.columns.values]\n",
    "\n",
    "list2 = []\n",
    "for i in Trans_transformation_type2.columns:\n",
    "    i = i.replace(' ', '_')\n",
    "    list2.append(i)\n",
    "\n",
    "print(list2)    "
   ]
  },
  {
   "cell_type": "code",
   "execution_count": 56,
   "metadata": {},
   "outputs": [
    {
     "name": "stdout",
     "output_type": "stream",
     "text": [
      "['AB', 'CD', 'EF', 'GH', 'IJ', 'KL', 'MN', 'OP', 'Otherbank', 'QR', 'ST', 'UV', 'WX', 'YZ']\n"
     ]
    }
   ],
   "source": [
    "# Formatting feature names\n",
    "Trans_transformation_type3.columns = Trans_transformation_type3.columns.get_level_values(0)\n",
    "Trans_transformation_type3.columns = [''.join(col).strip() for col in Trans_transformation_type3.columns.values]\n",
    "\n",
    "list3 = []\n",
    "for i in Trans_transformation_type3.columns:\n",
    "    i = i.replace(' ', '')\n",
    "    list3.append(i)\n",
    "\n",
    "print(list3)    "
   ]
  },
  {
   "cell_type": "code",
   "execution_count": 57,
   "metadata": {},
   "outputs": [],
   "source": [
    "# Finishing transanction table merging\n",
    "left_table = Trans_transformation_type_5\n",
    "right_table = Trans_transformation_type2\n",
    "\n",
    "trans_merged_transformed = pd.merge(left_table,\n",
    "                     right_table,\n",
    "                     how=\"left\",\n",
    "                     left_on=\"account_id\",\n",
    "                     right_on=\"account_id\"\n",
    "                     )"
   ]
  },
  {
   "cell_type": "code",
   "execution_count": 58,
   "metadata": {},
   "outputs": [],
   "source": [
    "# Finishing transanction table merging\n",
    "left_table = trans_merged_transformed\n",
    "right_table = Trans_transformation_type3\n",
    "\n",
    "trans_merged_transformed2 = pd.merge(left_table,\n",
    "                     right_table,\n",
    "                     how=\"left\",\n",
    "                     left_on=\"account_id\",\n",
    "                     right_on=\"account_id\"\n",
    "                     )"
   ]
  },
  {
   "cell_type": "markdown",
   "metadata": {},
   "source": [
    "***Order Transformation***"
   ]
  },
  {
   "cell_type": "code",
   "execution_count": 59,
   "metadata": {},
   "outputs": [
    {
     "data": {
      "text/html": [
       "<div>\n",
       "<style scoped>\n",
       "    .dataframe tbody tr th:only-of-type {\n",
       "        vertical-align: middle;\n",
       "    }\n",
       "\n",
       "    .dataframe tbody tr th {\n",
       "        vertical-align: top;\n",
       "    }\n",
       "\n",
       "    .dataframe thead th {\n",
       "        text-align: right;\n",
       "    }\n",
       "</style>\n",
       "<table border=\"1\" class=\"dataframe\">\n",
       "  <thead>\n",
       "    <tr style=\"text-align: right;\">\n",
       "      <th></th>\n",
       "      <th>order_id</th>\n",
       "      <th>account_id</th>\n",
       "      <th>bank_to</th>\n",
       "      <th>account_to</th>\n",
       "      <th>amount</th>\n",
       "      <th>k_symbol</th>\n",
       "    </tr>\n",
       "  </thead>\n",
       "  <tbody>\n",
       "    <tr>\n",
       "      <th>0</th>\n",
       "      <td>29401</td>\n",
       "      <td>1</td>\n",
       "      <td>YZ</td>\n",
       "      <td>87144583</td>\n",
       "      <td>2452.0</td>\n",
       "      <td>Household Payment</td>\n",
       "    </tr>\n",
       "    <tr>\n",
       "      <th>1</th>\n",
       "      <td>29402</td>\n",
       "      <td>2</td>\n",
       "      <td>ST</td>\n",
       "      <td>89597016</td>\n",
       "      <td>3372.7</td>\n",
       "      <td>Loan Payment</td>\n",
       "    </tr>\n",
       "    <tr>\n",
       "      <th>2</th>\n",
       "      <td>29403</td>\n",
       "      <td>2</td>\n",
       "      <td>QR</td>\n",
       "      <td>13943797</td>\n",
       "      <td>7266.0</td>\n",
       "      <td>Household Payment</td>\n",
       "    </tr>\n",
       "    <tr>\n",
       "      <th>3</th>\n",
       "      <td>29404</td>\n",
       "      <td>3</td>\n",
       "      <td>WX</td>\n",
       "      <td>83084338</td>\n",
       "      <td>1135.0</td>\n",
       "      <td>Household Payment</td>\n",
       "    </tr>\n",
       "    <tr>\n",
       "      <th>4</th>\n",
       "      <td>29405</td>\n",
       "      <td>3</td>\n",
       "      <td>CD</td>\n",
       "      <td>24485939</td>\n",
       "      <td>327.0</td>\n",
       "      <td>Missing</td>\n",
       "    </tr>\n",
       "  </tbody>\n",
       "</table>\n",
       "</div>"
      ],
      "text/plain": [
       "   order_id  account_id bank_to  account_to  amount           k_symbol\n",
       "0     29401           1      YZ    87144583  2452.0  Household Payment\n",
       "1     29402           2      ST    89597016  3372.7       Loan Payment\n",
       "2     29403           2      QR    13943797  7266.0  Household Payment\n",
       "3     29404           3      WX    83084338  1135.0  Household Payment\n",
       "4     29405           3      CD    24485939   327.0            Missing"
      ]
     },
     "execution_count": 59,
     "metadata": {},
     "output_type": "execute_result"
    }
   ],
   "source": [
    "order.head()"
   ]
  },
  {
   "cell_type": "code",
   "execution_count": 60,
   "metadata": {},
   "outputs": [],
   "source": [
    "# Pivoting to have columns by k_symbol. Also, working in the elimination of missing values\n",
    "order_transformation = pd.pivot_table(order, values = 'amount', index = 'account_id', columns = ['k_symbol'], aggfunc = ['count','sum'])\n",
    "order_transformation = order_transformation.fillna(0)"
   ]
  },
  {
   "cell_type": "markdown",
   "metadata": {},
   "source": [
    "***Trans + Order Transformed***"
   ]
  },
  {
   "cell_type": "code",
   "execution_count": 61,
   "metadata": {},
   "outputs": [],
   "source": [
    "# Merging of transaction and order tables\n",
    "left_table = trans_merged_transformed2\n",
    "right_table = order_transformation\n",
    "\n",
    "trans_order_merged = pd.merge(left_table,\n",
    "                     right_table,\n",
    "                     how=\"left\",\n",
    "                     left_on=\"account_id\",\n",
    "                     right_on=\"account_id\"\n",
    "                     )"
   ]
  },
  {
   "cell_type": "markdown",
   "metadata": {},
   "source": [
    "***Rest of the mergings***"
   ]
  },
  {
   "cell_type": "code",
   "execution_count": 62,
   "metadata": {},
   "outputs": [],
   "source": [
    "# Merging of other tables and loan table\n",
    "left_table = trans_order_merged\n",
    "right_table = loan\n",
    "\n",
    "t_o_loan_merged = pd.merge(left_table,\n",
    "                     right_table,\n",
    "                     how=\"left\",\n",
    "                     left_on=\"account_id\",\n",
    "                     right_on=\"account_id\"\n",
    "                     )"
   ]
  },
  {
   "cell_type": "code",
   "execution_count": 63,
   "metadata": {},
   "outputs": [],
   "source": [
    "# Merging of disp and card tables\n",
    "left_table = disp1\n",
    "right_table = card\n",
    "\n",
    "d_c_merged = pd.merge(left_table,\n",
    "                     right_table,\n",
    "                     how=\"left\",\n",
    "                     left_on=\"disp_id\",\n",
    "                     right_on=\"disp_id\"\n",
    "                     )"
   ]
  },
  {
   "cell_type": "code",
   "execution_count": 64,
   "metadata": {},
   "outputs": [],
   "source": [
    "# Merging of the rest of tables\n",
    "left_table = t_o_loan_merged\n",
    "right_table = d_c_merged\n",
    "\n",
    "t_o_l_d_c_merged = pd.merge(left_table,\n",
    "                     right_table,\n",
    "                     how=\"left\",\n",
    "                     left_on=\"account_id\",\n",
    "                     right_on=\"account_id\"\n",
    "                     )"
   ]
  },
  {
   "cell_type": "code",
   "execution_count": 65,
   "metadata": {},
   "outputs": [],
   "source": [
    "# Big table with account_id as identifier\n",
    "left_table = t_o_l_d_c_merged\n",
    "right_table = account\n",
    "\n",
    "t_o_l_d_c_a_merged = pd.merge(left_table,\n",
    "                     right_table,\n",
    "                     how=\"left\",\n",
    "                     left_on=\"account_id\",\n",
    "                     right_on=\"account_id\"\n",
    "                     )"
   ]
  },
  {
   "cell_type": "code",
   "execution_count": 66,
   "metadata": {},
   "outputs": [],
   "source": [
    "# Merging tables in order to link client id and account id\n",
    "left_table = client\n",
    "right_table = t_o_l_d_c_a_merged\n",
    "\n",
    "t_o_l_d_c_a_c_merged = pd.merge(left_table,\n",
    "                     right_table,\n",
    "                     how=\"left\",\n",
    "                     left_on=\"client_id\",\n",
    "                     right_on=\"client_id\"\n",
    "                     )"
   ]
  },
  {
   "cell_type": "code",
   "execution_count": 67,
   "metadata": {},
   "outputs": [],
   "source": [
    "# Finally, we are connecting demographics to each one of the clients\n",
    "left_table = t_o_l_d_c_a_c_merged\n",
    "right_table = district\n",
    "\n",
    "t_o_l_d_c_a_c_d_merged = pd.merge(left_table,\n",
    "                     right_table,\n",
    "                     how=\"left\",\n",
    "                     left_on=\"district_id_y\",\n",
    "                     right_on=\"A1\"\n",
    "                     )"
   ]
  },
  {
   "cell_type": "code",
   "execution_count": 68,
   "metadata": {},
   "outputs": [],
   "source": [
    "# Renaming variables and database\n",
    "remove_var = ['district_id_x', 'card_id','loan_id','district_id_y','disp_id',\n",
    "             'A5','A6','A7','A8']\n",
    "\n",
    "change_var = ['Missing','type_x', 'type_y','year_x', 'month_x', \n",
    "              'day_x', 'disp_id', 'type_x', 'card_id', 'type_y', 'year_y', \n",
    "              'month_y', 'day_y', 'district_id_y',\n",
    "             'year', 'month', 'day']\n",
    "\n",
    "data_base = t_o_l_d_c_a_c_d_merged"
   ]
  },
  {
   "cell_type": "code",
   "execution_count": 69,
   "metadata": {},
   "outputs": [],
   "source": [
    "# birth number removed from 'remove_var'"
   ]
  },
  {
   "cell_type": "code",
   "execution_count": 70,
   "metadata": {},
   "outputs": [],
   "source": [
    "# Removing features\n",
    "data_base = data_base.drop(labels = remove_var, axis = 1)"
   ]
  },
  {
   "cell_type": "code",
   "execution_count": 71,
   "metadata": {},
   "outputs": [],
   "source": [
    "# Renaming features\n",
    "dictio = ({'Missing':'trans_k_symbol_missing' ,'type_x': 'disp_type','type_y': 'card_type', \n",
    "                            'year_x': 'loan_year', 'month_x':'loan_month', 'day_x':'loan_day',\n",
    "                            'year_y': 'card_year', 'month_y':'card_month', 'day_y':'card_day',\n",
    "                            'year':'account_year', 'month':'account_month', 'day':'account_day',\n",
    "          })\n",
    "\n",
    "db = data_base.rename(columns = dictio)"
   ]
  },
  {
   "cell_type": "code",
   "execution_count": 72,
   "metadata": {},
   "outputs": [],
   "source": [
    "# Eliminating some elements that could affect the calling of features\n",
    "list3 = []\n",
    "for i in db.columns:\n",
    "    i = str(i)\n",
    "    i = i.replace('(', '').replace(')','').replace(',','_').replace(\"'\",'').replace(\" \",'')\n",
    "    list3.append(i)"
   ]
  },
  {
   "cell_type": "code",
   "execution_count": 73,
   "metadata": {},
   "outputs": [],
   "source": [
    "db.columns = list3"
   ]
  },
  {
   "cell_type": "code",
   "execution_count": 74,
   "metadata": {},
   "outputs": [],
   "source": [
    "db = db.drop(columns = \"count_OWNER\")"
   ]
  },
  {
   "cell_type": "code",
   "execution_count": 75,
   "metadata": {},
   "outputs": [],
   "source": [
    "# Due to disponents give us few information, we decided that we are going to focus on the owener\n",
    "db2 = db[db.disp_type != \"DISPONENT\"]"
   ]
  },
  {
   "cell_type": "code",
   "execution_count": 76,
   "metadata": {},
   "outputs": [
    {
     "name": "stderr",
     "output_type": "stream",
     "text": [
      "C:\\ProgramData\\Anaconda3\\lib\\site-packages\\pandas\\core\\indexing.py:543: SettingWithCopyWarning: \n",
      "A value is trying to be set on a copy of a slice from a DataFrame.\n",
      "Try using .loc[row_indexer,col_indexer] = value instead\n",
      "\n",
      "See the caveats in the documentation: http://pandas.pydata.org/pandas-docs/stable/indexing.html#indexing-view-versus-copy\n",
      "  self.obj[item] = s\n"
     ]
    }
   ],
   "source": [
    "# Eliminating missing values in 'loan_status' feature\n",
    "db3 = db2\n",
    "db3.loc[:,\"loan_status\"] = db3.loc[:,\"loan_status\"].fillna(\"No loan\")"
   ]
  },
  {
   "cell_type": "code",
   "execution_count": 77,
   "metadata": {},
   "outputs": [
    {
     "name": "stderr",
     "output_type": "stream",
     "text": [
      "C:\\ProgramData\\Anaconda3\\lib\\site-packages\\pandas\\core\\indexing.py:362: SettingWithCopyWarning: \n",
      "A value is trying to be set on a copy of a slice from a DataFrame.\n",
      "Try using .loc[row_indexer,col_indexer] = value instead\n",
      "\n",
      "See the caveats in the documentation: http://pandas.pydata.org/pandas-docs/stable/indexing.html#indexing-view-versus-copy\n",
      "  self.obj[key] = _infer_fill_value(value)\n"
     ]
    }
   ],
   "source": [
    "db3.loc[:, \"mean_Balance\"] = (db3[\"mean_Credit\"]+db3[\"mean_Withdrawal\"])/2"
   ]
  },
  {
   "cell_type": "code",
   "execution_count": 78,
   "metadata": {},
   "outputs": [],
   "source": [
    "# Total average by type of transaction\n",
    "grand_avg = db3.select_dtypes(pd.np.number).mean()"
   ]
  },
  {
   "cell_type": "code",
   "execution_count": 79,
   "metadata": {},
   "outputs": [],
   "source": [
    "avg_m_deposits = grand_avg[\"sum_Credit_1\":\"sum_Credit_12\"]"
   ]
  },
  {
   "cell_type": "code",
   "execution_count": 80,
   "metadata": {},
   "outputs": [],
   "source": [
    "avg_m_withdrawals = grand_avg[\"sum_Withdrawal_1\":\"sum_Withdrawal_12\"]"
   ]
  },
  {
   "cell_type": "code",
   "execution_count": 81,
   "metadata": {},
   "outputs": [
    {
     "name": "stdout",
     "output_type": "stream",
     "text": [
      "['client_id', 'birth_year', 'birth_day', 'birth_month', 'age', 'age_group', 'gender', 'account_id', 'count_Credit_1', 'count_Credit_2', 'count_Credit_3', 'count_Credit_4', 'count_Credit_5', 'count_Credit_6', 'count_Credit_7', 'count_Credit_8', 'count_Credit_9', 'count_Credit_10', 'count_Credit_11', 'count_Credit_12', 'count_Withdrawal_1', 'count_Withdrawal_2', 'count_Withdrawal_3', 'count_Withdrawal_4', 'count_Withdrawal_5', 'count_Withdrawal_6', 'count_Withdrawal_7', 'count_Withdrawal_8', 'count_Withdrawal_9', 'count_Withdrawal_10', 'count_Withdrawal_11', 'count_Withdrawal_12', 'sum_Credit_1', 'sum_Credit_2', 'sum_Credit_3', 'sum_Credit_4', 'sum_Credit_5', 'sum_Credit_6', 'sum_Credit_7', 'sum_Credit_8', 'sum_Credit_9', 'sum_Credit_10', 'sum_Credit_11', 'sum_Credit_12', 'sum_Withdrawal_1', 'sum_Withdrawal_2', 'sum_Withdrawal_3', 'sum_Withdrawal_4', 'sum_Withdrawal_5', 'sum_Withdrawal_6', 'sum_Withdrawal_7', 'sum_Withdrawal_8', 'sum_Withdrawal_9', 'sum_Withdrawal_10', 'sum_Withdrawal_11', 'sum_Withdrawal_12', 'count_Credit_1993', 'count_Credit_1994', 'count_Credit_1995', 'count_Credit_1996', 'count_Credit_1997', 'count_Credit_1998', 'count_Withdrawal_1993', 'count_Withdrawal_1994', 'count_Withdrawal_1995', 'count_Withdrawal_1996', 'count_Withdrawal_1997', 'count_Withdrawal_1998', 'sum_Credit_1993', 'sum_Credit_1994', 'sum_Credit_1995', 'sum_Credit_1996', 'sum_Credit_1997', 'sum_Credit_1998', 'sum_Withdrawal_1993', 'sum_Withdrawal_1994', 'sum_Withdrawal_1995', 'sum_Withdrawal_1996', 'sum_Withdrawal_1997', 'sum_Withdrawal_1998', 'count_1993_1', 'count_1993_2', 'count_1993_3', 'count_1993_4', 'count_1993_5', 'count_1993_6', 'count_1993_7', 'count_1993_8', 'count_1993_9', 'count_1993_10', 'count_1993_11', 'count_1993_12', 'count_1994_1', 'count_1994_2', 'count_1994_3', 'count_1994_4', 'count_1994_5', 'count_1994_6', 'count_1994_7', 'count_1994_8', 'count_1994_9', 'count_1994_10', 'count_1994_11', 'count_1994_12', 'count_1995_1', 'count_1995_2', 'count_1995_3', 'count_1995_4', 'count_1995_5', 'count_1995_6', 'count_1995_7', 'count_1995_8', 'count_1995_9', 'count_1995_10', 'count_1995_11', 'count_1995_12', 'count_1996_1', 'count_1996_2', 'count_1996_3', 'count_1996_4', 'count_1996_5', 'count_1996_6', 'count_1996_7', 'count_1996_8', 'count_1996_9', 'count_1996_10', 'count_1996_11', 'count_1996_12', 'count_1997_1', 'count_1997_2', 'count_1997_3', 'count_1997_4', 'count_1997_5', 'count_1997_6', 'count_1997_7', 'count_1997_8', 'count_1997_9', 'count_1997_10', 'count_1997_11', 'count_1997_12', 'count_1998_1', 'count_1998_2', 'count_1998_3', 'count_1998_4', 'count_1998_5', 'count_1998_6', 'count_1998_7', 'count_1998_8', 'count_1998_9', 'count_1998_10', 'count_1998_11', 'count_1998_12', 'sum_1993_1', 'sum_1993_2', 'sum_1993_3', 'sum_1993_4', 'sum_1993_5', 'sum_1993_6', 'sum_1993_7', 'sum_1993_8', 'sum_1993_9', 'sum_1993_10', 'sum_1993_11', 'sum_1993_12', 'sum_1994_1', 'sum_1994_2', 'sum_1994_3', 'sum_1994_4', 'sum_1994_5', 'sum_1994_6', 'sum_1994_7', 'sum_1994_8', 'sum_1994_9', 'sum_1994_10', 'sum_1994_11', 'sum_1994_12', 'sum_1995_1', 'sum_1995_2', 'sum_1995_3', 'sum_1995_4', 'sum_1995_5', 'sum_1995_6', 'sum_1995_7', 'sum_1995_8', 'sum_1995_9', 'sum_1995_10', 'sum_1995_11', 'sum_1995_12', 'sum_1996_1', 'sum_1996_2', 'sum_1996_3', 'sum_1996_4', 'sum_1996_5', 'sum_1996_6', 'sum_1996_7', 'sum_1996_8', 'sum_1996_9', 'sum_1996_10', 'sum_1996_11', 'sum_1996_12', 'sum_1997_1', 'sum_1997_2', 'sum_1997_3', 'sum_1997_4', 'sum_1997_5', 'sum_1997_6', 'sum_1997_7', 'sum_1997_8', 'sum_1997_9', 'sum_1997_10', 'sum_1997_11', 'sum_1997_12', 'sum_1998_1', 'sum_1998_2', 'sum_1998_3', 'sum_1998_4', 'sum_1998_5', 'sum_1998_6', 'sum_1998_7', 'sum_1998_8', 'sum_1998_9', 'sum_1998_10', 'sum_1998_11', 'sum_1998_12', 'count_Credit', 'count_Withdrawal', 'sum_Credit', 'sum_Withdrawal', 'mean_balance_1993', 'mean_balance_1994', 'mean_balance_1995', 'mean_balance_1996', 'mean_balance_1997', 'mean_balance_1998', 'mean_Credit', 'mean_Withdrawal', 'Household', 'Insurancepayment', 'Interestcredited', 'Loanpayment', 'trans_k_symbol_missing', 'Oldagepension', 'Paymentforstatement', 'Sanctioninterest', 'AB', 'CD', 'EF', 'GH', 'IJ', 'KL', 'MN', 'OP', 'Otherbank', 'QR', 'ST', 'UV', 'WX', 'YZ', 'count_HouseholdPayment', 'count_InsurancePayment', 'count_Leasing', 'count_LoanPayment', 'count_Missing', 'sum_HouseholdPayment', 'sum_InsurancePayment', 'sum_Leasing', 'sum_LoanPayment', 'sum_Missing', 'loan_amount', 'loan_duration', 'loan_emi', 'loan_status', 'loan_year', 'loan_month', 'loan_day', 'count_DISPONENT', 'disp_type', 'card_type', 'loan_year', 'loan_month', 'loan_day', 'frequency', 'card_year', 'card_month', 'card_day', 'A1', 'A2', 'A3', 'A4', 'A9', 'A10', 'A11', 'A12', 'A13', 'A14', 'A15', 'A16', 'mean_Balance', 'mean_balance_1993', 'mean_balance_1994', 'mean_balance_1995', 'mean_balance_1996', 'mean_balance_1997', 'mean_balance_1998']\n"
     ]
    }
   ],
   "source": [
    "#change in the average annual balance over the years. HOW TO ADD IT TO THE DATAFRAME,\n",
    "\n",
    "acc_growth = db3.loc[:,\"mean_balance_1993\":\"mean_balance_1998\"].pct_change(axis=1).fillna(0).replace(np.inf,0)\n",
    "\n",
    "temp = pd.concat([db3, acc_growth], sort=False, axis= \"columns\", join='inner').head(1)\n",
    "\n",
    "['mean_balance_1993', 'mean_balance_1994', 'mean_balance_1995', 'mean_balance_1996', 'mean_balance_1997', 'mean_balance_1998']\n",
    "# Listing features of our main database\n",
    "l = []\n",
    "\n",
    "for i in temp.columns:\n",
    "    l.append(i)\n",
    "    \n",
    "print(l)"
   ]
  },
  {
   "cell_type": "code",
   "execution_count": 82,
   "metadata": {},
   "outputs": [
    {
     "data": {
      "text/html": [
       "<div>\n",
       "<style scoped>\n",
       "    .dataframe tbody tr th:only-of-type {\n",
       "        vertical-align: middle;\n",
       "    }\n",
       "\n",
       "    .dataframe tbody tr th {\n",
       "        vertical-align: top;\n",
       "    }\n",
       "\n",
       "    .dataframe thead th {\n",
       "        text-align: right;\n",
       "    }\n",
       "</style>\n",
       "<table border=\"1\" class=\"dataframe\">\n",
       "  <thead>\n",
       "    <tr style=\"text-align: right;\">\n",
       "      <th></th>\n",
       "      <th>mean_balance_1996</th>\n",
       "      <th>mean_balance_1997</th>\n",
       "      <th>mean_balance_1998</th>\n",
       "    </tr>\n",
       "  </thead>\n",
       "  <tbody>\n",
       "    <tr>\n",
       "      <th>0</th>\n",
       "      <td>15980.927027</td>\n",
       "      <td>14099.793750</td>\n",
       "      <td>15097.550000</td>\n",
       "    </tr>\n",
       "    <tr>\n",
       "      <th>1</th>\n",
       "      <td>36604.402353</td>\n",
       "      <td>43722.405952</td>\n",
       "      <td>40611.376471</td>\n",
       "    </tr>\n",
       "    <tr>\n",
       "      <th>3</th>\n",
       "      <td>0.000000</td>\n",
       "      <td>23092.900000</td>\n",
       "      <td>28028.019565</td>\n",
       "    </tr>\n",
       "    <tr>\n",
       "      <th>5</th>\n",
       "      <td>23648.623077</td>\n",
       "      <td>20180.684615</td>\n",
       "      <td>22460.163768</td>\n",
       "    </tr>\n",
       "    <tr>\n",
       "      <th>6</th>\n",
       "      <td>0.000000</td>\n",
       "      <td>22244.094444</td>\n",
       "      <td>25866.243939</td>\n",
       "    </tr>\n",
       "    <tr>\n",
       "      <th>7</th>\n",
       "      <td>30651.373016</td>\n",
       "      <td>35695.731148</td>\n",
       "      <td>42005.927869</td>\n",
       "    </tr>\n",
       "    <tr>\n",
       "      <th>8</th>\n",
       "      <td>23088.850000</td>\n",
       "      <td>55348.437500</td>\n",
       "      <td>70656.414286</td>\n",
       "    </tr>\n",
       "    <tr>\n",
       "      <th>9</th>\n",
       "      <td>51659.790667</td>\n",
       "      <td>44975.436905</td>\n",
       "      <td>45820.668235</td>\n",
       "    </tr>\n",
       "    <tr>\n",
       "      <th>11</th>\n",
       "      <td>32454.586364</td>\n",
       "      <td>26986.748333</td>\n",
       "      <td>22157.141071</td>\n",
       "    </tr>\n",
       "    <tr>\n",
       "      <th>12</th>\n",
       "      <td>35311.861538</td>\n",
       "      <td>44848.120000</td>\n",
       "      <td>52837.660274</td>\n",
       "    </tr>\n",
       "  </tbody>\n",
       "</table>\n",
       "</div>"
      ],
      "text/plain": [
       "    mean_balance_1996  mean_balance_1997  mean_balance_1998\n",
       "0        15980.927027       14099.793750       15097.550000\n",
       "1        36604.402353       43722.405952       40611.376471\n",
       "3            0.000000       23092.900000       28028.019565\n",
       "5        23648.623077       20180.684615       22460.163768\n",
       "6            0.000000       22244.094444       25866.243939\n",
       "7        30651.373016       35695.731148       42005.927869\n",
       "8        23088.850000       55348.437500       70656.414286\n",
       "9        51659.790667       44975.436905       45820.668235\n",
       "11       32454.586364       26986.748333       22157.141071\n",
       "12       35311.861538       44848.120000       52837.660274"
      ]
     },
     "execution_count": 82,
     "metadata": {},
     "output_type": "execute_result"
    }
   ],
   "source": [
    "# Showing balance in previous years\n",
    "db3.loc[:,\"mean_balance_1996\":\"mean_balance_1998\"].head(10)"
   ]
  },
  {
   "cell_type": "code",
   "execution_count": 83,
   "metadata": {},
   "outputs": [
    {
     "name": "stdout",
     "output_type": "stream",
     "text": [
      "['client_id', 'birth_year', 'birth_day', 'birth_month', 'age', 'age_group', 'gender', 'account_id', 'count_Credit_1', 'count_Credit_2', 'count_Credit_3', 'count_Credit_4', 'count_Credit_5', 'count_Credit_6', 'count_Credit_7', 'count_Credit_8', 'count_Credit_9', 'count_Credit_10', 'count_Credit_11', 'count_Credit_12', 'count_Withdrawal_1', 'count_Withdrawal_2', 'count_Withdrawal_3', 'count_Withdrawal_4', 'count_Withdrawal_5', 'count_Withdrawal_6', 'count_Withdrawal_7', 'count_Withdrawal_8', 'count_Withdrawal_9', 'count_Withdrawal_10', 'count_Withdrawal_11', 'count_Withdrawal_12', 'sum_Credit_1', 'sum_Credit_2', 'sum_Credit_3', 'sum_Credit_4', 'sum_Credit_5', 'sum_Credit_6', 'sum_Credit_7', 'sum_Credit_8', 'sum_Credit_9', 'sum_Credit_10', 'sum_Credit_11', 'sum_Credit_12', 'sum_Withdrawal_1', 'sum_Withdrawal_2', 'sum_Withdrawal_3', 'sum_Withdrawal_4', 'sum_Withdrawal_5', 'sum_Withdrawal_6', 'sum_Withdrawal_7', 'sum_Withdrawal_8', 'sum_Withdrawal_9', 'sum_Withdrawal_10', 'sum_Withdrawal_11', 'sum_Withdrawal_12', 'count_Credit_1993', 'count_Credit_1994', 'count_Credit_1995', 'count_Credit_1996', 'count_Credit_1997', 'count_Credit_1998', 'count_Withdrawal_1993', 'count_Withdrawal_1994', 'count_Withdrawal_1995', 'count_Withdrawal_1996', 'count_Withdrawal_1997', 'count_Withdrawal_1998', 'sum_Credit_1993', 'sum_Credit_1994', 'sum_Credit_1995', 'sum_Credit_1996', 'sum_Credit_1997', 'sum_Credit_1998', 'sum_Withdrawal_1993', 'sum_Withdrawal_1994', 'sum_Withdrawal_1995', 'sum_Withdrawal_1996', 'sum_Withdrawal_1997', 'sum_Withdrawal_1998', 'count_1993_1', 'count_1993_2', 'count_1993_3', 'count_1993_4', 'count_1993_5', 'count_1993_6', 'count_1993_7', 'count_1993_8', 'count_1993_9', 'count_1993_10', 'count_1993_11', 'count_1993_12', 'count_1994_1', 'count_1994_2', 'count_1994_3', 'count_1994_4', 'count_1994_5', 'count_1994_6', 'count_1994_7', 'count_1994_8', 'count_1994_9', 'count_1994_10', 'count_1994_11', 'count_1994_12', 'count_1995_1', 'count_1995_2', 'count_1995_3', 'count_1995_4', 'count_1995_5', 'count_1995_6', 'count_1995_7', 'count_1995_8', 'count_1995_9', 'count_1995_10', 'count_1995_11', 'count_1995_12', 'count_1996_1', 'count_1996_2', 'count_1996_3', 'count_1996_4', 'count_1996_5', 'count_1996_6', 'count_1996_7', 'count_1996_8', 'count_1996_9', 'count_1996_10', 'count_1996_11', 'count_1996_12', 'count_1997_1', 'count_1997_2', 'count_1997_3', 'count_1997_4', 'count_1997_5', 'count_1997_6', 'count_1997_7', 'count_1997_8', 'count_1997_9', 'count_1997_10', 'count_1997_11', 'count_1997_12', 'count_1998_1', 'count_1998_2', 'count_1998_3', 'count_1998_4', 'count_1998_5', 'count_1998_6', 'count_1998_7', 'count_1998_8', 'count_1998_9', 'count_1998_10', 'count_1998_11', 'count_1998_12', 'sum_1993_1', 'sum_1993_2', 'sum_1993_3', 'sum_1993_4', 'sum_1993_5', 'sum_1993_6', 'sum_1993_7', 'sum_1993_8', 'sum_1993_9', 'sum_1993_10', 'sum_1993_11', 'sum_1993_12', 'sum_1994_1', 'sum_1994_2', 'sum_1994_3', 'sum_1994_4', 'sum_1994_5', 'sum_1994_6', 'sum_1994_7', 'sum_1994_8', 'sum_1994_9', 'sum_1994_10', 'sum_1994_11', 'sum_1994_12', 'sum_1995_1', 'sum_1995_2', 'sum_1995_3', 'sum_1995_4', 'sum_1995_5', 'sum_1995_6', 'sum_1995_7', 'sum_1995_8', 'sum_1995_9', 'sum_1995_10', 'sum_1995_11', 'sum_1995_12', 'sum_1996_1', 'sum_1996_2', 'sum_1996_3', 'sum_1996_4', 'sum_1996_5', 'sum_1996_6', 'sum_1996_7', 'sum_1996_8', 'sum_1996_9', 'sum_1996_10', 'sum_1996_11', 'sum_1996_12', 'sum_1997_1', 'sum_1997_2', 'sum_1997_3', 'sum_1997_4', 'sum_1997_5', 'sum_1997_6', 'sum_1997_7', 'sum_1997_8', 'sum_1997_9', 'sum_1997_10', 'sum_1997_11', 'sum_1997_12', 'sum_1998_1', 'sum_1998_2', 'sum_1998_3', 'sum_1998_4', 'sum_1998_5', 'sum_1998_6', 'sum_1998_7', 'sum_1998_8', 'sum_1998_9', 'sum_1998_10', 'sum_1998_11', 'sum_1998_12', 'count_Credit', 'count_Withdrawal', 'sum_Credit', 'sum_Withdrawal', 'mean_balance_1993', 'mean_balance_1994', 'mean_balance_1995', 'mean_balance_1996', 'mean_balance_1997', 'mean_balance_1998', 'mean_Credit', 'mean_Withdrawal', 'Household', 'Insurancepayment', 'Interestcredited', 'Loanpayment', 'trans_k_symbol_missing', 'Oldagepension', 'Paymentforstatement', 'Sanctioninterest', 'AB', 'CD', 'EF', 'GH', 'IJ', 'KL', 'MN', 'OP', 'Otherbank', 'QR', 'ST', 'UV', 'WX', 'YZ', 'count_HouseholdPayment', 'count_InsurancePayment', 'count_Leasing', 'count_LoanPayment', 'count_Missing', 'sum_HouseholdPayment', 'sum_InsurancePayment', 'sum_Leasing', 'sum_LoanPayment', 'sum_Missing', 'loan_amount', 'loan_duration', 'loan_emi', 'loan_status', 'loan_year', 'loan_month', 'loan_day', 'count_DISPONENT', 'disp_type', 'card_type', 'loan_year', 'loan_month', 'loan_day', 'frequency', 'card_year', 'card_month', 'card_day', 'A1', 'A2', 'A3', 'A4', 'A9', 'A10', 'A11', 'A12', 'A13', 'A14', 'A15', 'A16', 'mean_Balance']\n"
     ]
    }
   ],
   "source": [
    "# Listing features of our main database\n",
    "list4 = []\n",
    "\n",
    "for i in db3.columns:\n",
    "    list4.append(i)\n",
    "    \n",
    "print(list4)"
   ]
  },
  {
   "cell_type": "markdown",
   "metadata": {},
   "source": [
    "# 3) Dashboard"
   ]
  },
  {
   "cell_type": "code",
   "execution_count": 84,
   "metadata": {},
   "outputs": [],
   "source": [
    "# Formatting of years\n",
    "years = ['1993','1994','1995','1996','1997','1998']"
   ]
  },
  {
   "cell_type": "code",
   "execution_count": 126,
   "metadata": {},
   "outputs": [
    {
     "data": {
      "text/plain": [
       "<matplotlib.legend.Legend at 0x2140d4bb780>"
      ]
     },
     "execution_count": 126,
     "metadata": {},
     "output_type": "execute_result"
    },
    {
     "data": {
      "image/png": "[encoded data removed]",
      "text/plain": [
       "<Figure size 432x288 with 1 Axes>"
      ]
     },
     "metadata": {
      "needs_background": "light"
     },
     "output_type": "display_data"
    }
   ],
   "source": [
    "# Graph showing the difference of credits and withdrawal by year\n",
    "plt.xlabel(\"Years\")\n",
    "plt.ylabel(\"Amount\")\n",
    "plt.title(\"Credit vs Withdrawal vs Balance by Year\")\n",
    "plt.plot(years, grand_avg[\"sum_Withdrawal_1993\":\"sum_Withdrawal_1998\"], color = 'red', label = 'Withdrawal')\n",
    "plt.plot(years, grand_avg[\"sum_Credit_1993\":\"sum_Credit_1998\"], color = 'green', label = 'Credit')\n",
    "plt.plot(years, grand_avg[\"mean_balance_1993\":\"mean_balance_1998\"], color = 'blue', label = 'Average Balance')\n",
    "plt.legend()"
   ]
  },
  {
   "cell_type": "code",
   "execution_count": 86,
   "metadata": {},
   "outputs": [
    {
     "data": {
      "text/plain": [
       "<matplotlib.legend.Legend at 0x2140987be10>"
      ]
     },
     "execution_count": 86,
     "metadata": {},
     "output_type": "execute_result"
    },
    {
     "data": {
      "image/png": "[encoded data removed]",
      "text/plain": [
       "<Figure size 720x360 with 1 Axes>"
      ]
     },
     "metadata": {
      "needs_background": "light"
     },
     "output_type": "display_data"
    }
   ],
   "source": [
    "# Participation by card type in each one of the percentiles\n",
    "# More gold card holders have higher mean balance on their accounts\n",
    "\n",
    "plt.figure(figsize = (10, 5))\n",
    "plt.ylabel('Count')\n",
    "plt.xlabel('Mean Balance')\n",
    "plt.title('Mean Balance by Card Type')\n",
    "plt.hist([db3['mean_Balance'][db3['card_type'] == 'classic'], db3['mean_Balance'][db3['card_type'] == 'junior'],db3['mean_Balance'][db3['card_type'] == 'gold']], bins = 10, rwidth = 0.8, color = ['grey','blue', 'gold'],\n",
    "        label = ['Classic','Junior', 'Gold'])\n",
    "\n",
    "plt.legend()\n"
   ]
  },
  {
   "cell_type": "code",
   "execution_count": 87,
   "metadata": {},
   "outputs": [
    {
     "data": {
      "text/plain": [
       "<matplotlib.legend.Legend at 0x21409c24630>"
      ]
     },
     "execution_count": 87,
     "metadata": {},
     "output_type": "execute_result"
    },
    {
     "data": {
      "image/png": "[encoded data removed]",
      "text/plain": [
       "<Figure size 720x360 with 1 Axes>"
      ]
     },
     "metadata": {
      "needs_background": "light"
     },
     "output_type": "display_data"
    }
   ],
   "source": [
    "# More female account holders maintain the lowest mean balance.\n",
    "\n",
    "plt.figure(figsize = (10, 5))\n",
    "plt.ylabel('Count')\n",
    "plt.xlabel('Mean Balance')\n",
    "plt.title('Mean Balance by Gender')\n",
    "plt.hist([db3['mean_Balance'][db3['gender'] == 'F'], db3['mean_Balance'][db3['gender'] == 'M']], bins = 10, rwidth = 0.8, color = ['pink','blue'],\n",
    "        label = ['Female','Male'])\n",
    "\n",
    "plt.legend()"
   ]
  },
  {
   "cell_type": "code",
   "execution_count": 88,
   "metadata": {},
   "outputs": [
    {
     "data": {
      "text/plain": [
       "<matplotlib.legend.Legend at 0x2140980f0b8>"
      ]
     },
     "execution_count": 88,
     "metadata": {},
     "output_type": "execute_result"
    },
    {
     "data": {
      "image/png": "[encoded data removed]",
      "text/plain": [
       "<Figure size 720x360 with 1 Axes>"
      ]
     },
     "metadata": {
      "needs_background": "light"
     },
     "output_type": "display_data"
    }
   ],
   "source": [
    "# Balance 1998 vs Balance 1997 by percentil\n",
    "plt.figure(figsize = (10, 5))\n",
    "plt.ylabel('Amount')\n",
    "plt.xlabel('Mean Balance')\n",
    "plt.title('Balance vs Last Year')\n",
    "plt.hist([db3['mean_balance_1997'], db3['mean_balance_1998']], bins = 10, rwidth = 0.8, color = ['gray','black'],\n",
    "        label = ['Balance in 1997','Balance in 1998'])\n",
    "\n",
    "plt.legend()"
   ]
  },
  {
   "cell_type": "code",
   "execution_count": 89,
   "metadata": {},
   "outputs": [
    {
     "data": {
      "text/html": [
       "<div>\n",
       "<style scoped>\n",
       "    .dataframe tbody tr th:only-of-type {\n",
       "        vertical-align: middle;\n",
       "    }\n",
       "\n",
       "    .dataframe tbody tr th {\n",
       "        vertical-align: top;\n",
       "    }\n",
       "\n",
       "    .dataframe thead th {\n",
       "        text-align: right;\n",
       "    }\n",
       "</style>\n",
       "<table border=\"1\" class=\"dataframe\">\n",
       "  <thead>\n",
       "    <tr style=\"text-align: right;\">\n",
       "      <th></th>\n",
       "      <th>card_type</th>\n",
       "      <th>mean_Balance</th>\n",
       "    </tr>\n",
       "  </thead>\n",
       "  <tbody>\n",
       "    <tr>\n",
       "      <th>0</th>\n",
       "      <td>classic</td>\n",
       "      <td>51551.228904</td>\n",
       "    </tr>\n",
       "    <tr>\n",
       "      <th>1</th>\n",
       "      <td>gold</td>\n",
       "      <td>63990.362520</td>\n",
       "    </tr>\n",
       "    <tr>\n",
       "      <th>2</th>\n",
       "      <td>junior</td>\n",
       "      <td>48080.790871</td>\n",
       "    </tr>\n",
       "  </tbody>\n",
       "</table>\n",
       "</div>"
      ],
      "text/plain": [
       "  card_type  mean_Balance\n",
       "0   classic  51551.228904\n",
       "1      gold  63990.362520\n",
       "2    junior  48080.790871"
      ]
     },
     "execution_count": 89,
     "metadata": {},
     "output_type": "execute_result"
    }
   ],
   "source": [
    "db3.groupby(['card_type'])['mean_Balance'].agg('median').reset_index()"
   ]
  },
  {
   "cell_type": "code",
   "execution_count": 90,
   "metadata": {},
   "outputs": [
    {
     "data": {
      "text/html": [
       "<div>\n",
       "<style scoped>\n",
       "    .dataframe tbody tr th:only-of-type {\n",
       "        vertical-align: middle;\n",
       "    }\n",
       "\n",
       "    .dataframe tbody tr th {\n",
       "        vertical-align: top;\n",
       "    }\n",
       "\n",
       "    .dataframe thead th {\n",
       "        text-align: right;\n",
       "    }\n",
       "</style>\n",
       "<table border=\"1\" class=\"dataframe\">\n",
       "  <thead>\n",
       "    <tr style=\"text-align: right;\">\n",
       "      <th></th>\n",
       "      <th>card_type</th>\n",
       "      <th>loan_status</th>\n",
       "      <th>mean_Balance</th>\n",
       "    </tr>\n",
       "  </thead>\n",
       "  <tbody>\n",
       "    <tr>\n",
       "      <th>0</th>\n",
       "      <td>classic</td>\n",
       "      <td>Client in debt. Contract running</td>\n",
       "      <td>50375.842969</td>\n",
       "    </tr>\n",
       "    <tr>\n",
       "      <th>1</th>\n",
       "      <td>classic</td>\n",
       "      <td>Loan repaid. Contract closed</td>\n",
       "      <td>55116.568679</td>\n",
       "    </tr>\n",
       "    <tr>\n",
       "      <th>2</th>\n",
       "      <td>classic</td>\n",
       "      <td>Loan unpaid. Contract closed</td>\n",
       "      <td>46978.820171</td>\n",
       "    </tr>\n",
       "    <tr>\n",
       "      <th>3</th>\n",
       "      <td>classic</td>\n",
       "      <td>No loan</td>\n",
       "      <td>51302.128331</td>\n",
       "    </tr>\n",
       "    <tr>\n",
       "      <th>4</th>\n",
       "      <td>classic</td>\n",
       "      <td>OK so far. Contract running</td>\n",
       "      <td>55552.040045</td>\n",
       "    </tr>\n",
       "    <tr>\n",
       "      <th>5</th>\n",
       "      <td>gold</td>\n",
       "      <td>Client in debt. Contract running</td>\n",
       "      <td>56211.763974</td>\n",
       "    </tr>\n",
       "    <tr>\n",
       "      <th>6</th>\n",
       "      <td>gold</td>\n",
       "      <td>Loan repaid. Contract closed</td>\n",
       "      <td>64549.325910</td>\n",
       "    </tr>\n",
       "    <tr>\n",
       "      <th>7</th>\n",
       "      <td>gold</td>\n",
       "      <td>No loan</td>\n",
       "      <td>61805.996625</td>\n",
       "    </tr>\n",
       "    <tr>\n",
       "      <th>8</th>\n",
       "      <td>gold</td>\n",
       "      <td>OK so far. Contract running</td>\n",
       "      <td>67353.983846</td>\n",
       "    </tr>\n",
       "    <tr>\n",
       "      <th>9</th>\n",
       "      <td>junior</td>\n",
       "      <td>Loan repaid. Contract closed</td>\n",
       "      <td>63607.714675</td>\n",
       "    </tr>\n",
       "    <tr>\n",
       "      <th>10</th>\n",
       "      <td>junior</td>\n",
       "      <td>Loan unpaid. Contract closed</td>\n",
       "      <td>33278.802154</td>\n",
       "    </tr>\n",
       "    <tr>\n",
       "      <th>11</th>\n",
       "      <td>junior</td>\n",
       "      <td>No loan</td>\n",
       "      <td>46814.523236</td>\n",
       "    </tr>\n",
       "    <tr>\n",
       "      <th>12</th>\n",
       "      <td>junior</td>\n",
       "      <td>OK so far. Contract running</td>\n",
       "      <td>56898.001705</td>\n",
       "    </tr>\n",
       "  </tbody>\n",
       "</table>\n",
       "</div>"
      ],
      "text/plain": [
       "   card_type                       loan_status  mean_Balance\n",
       "0    classic  Client in debt. Contract running  50375.842969\n",
       "1    classic      Loan repaid. Contract closed  55116.568679\n",
       "2    classic      Loan unpaid. Contract closed  46978.820171\n",
       "3    classic                           No loan  51302.128331\n",
       "4    classic       OK so far. Contract running  55552.040045\n",
       "5       gold  Client in debt. Contract running  56211.763974\n",
       "6       gold      Loan repaid. Contract closed  64549.325910\n",
       "7       gold                           No loan  61805.996625\n",
       "8       gold       OK so far. Contract running  67353.983846\n",
       "9     junior      Loan repaid. Contract closed  63607.714675\n",
       "10    junior      Loan unpaid. Contract closed  33278.802154\n",
       "11    junior                           No loan  46814.523236\n",
       "12    junior       OK so far. Contract running  56898.001705"
      ]
     },
     "execution_count": 90,
     "metadata": {},
     "output_type": "execute_result"
    }
   ],
   "source": [
    "# Bank has not classified any of the Gold Card holders' loans as irrecoverable. \n",
    "#   \n",
    "db3.groupby(['card_type','loan_status'])['mean_Balance'].agg('mean').reset_index()"
   ]
  },
  {
   "cell_type": "code",
   "execution_count": 91,
   "metadata": {},
   "outputs": [
    {
     "data": {
      "text/html": [
       "<div>\n",
       "<style scoped>\n",
       "    .dataframe tbody tr th:only-of-type {\n",
       "        vertical-align: middle;\n",
       "    }\n",
       "\n",
       "    .dataframe tbody tr th {\n",
       "        vertical-align: top;\n",
       "    }\n",
       "\n",
       "    .dataframe thead th {\n",
       "        text-align: right;\n",
       "    }\n",
       "</style>\n",
       "<table border=\"1\" class=\"dataframe\">\n",
       "  <thead>\n",
       "    <tr style=\"text-align: right;\">\n",
       "      <th></th>\n",
       "      <th>gender</th>\n",
       "      <th>loan_status</th>\n",
       "      <th>mean_balance_1998</th>\n",
       "    </tr>\n",
       "  </thead>\n",
       "  <tbody>\n",
       "    <tr>\n",
       "      <th>0</th>\n",
       "      <td>F</td>\n",
       "      <td>Client in debt. Contract running</td>\n",
       "      <td>24</td>\n",
       "    </tr>\n",
       "    <tr>\n",
       "      <th>1</th>\n",
       "      <td>F</td>\n",
       "      <td>Loan repaid. Contract closed</td>\n",
       "      <td>103</td>\n",
       "    </tr>\n",
       "    <tr>\n",
       "      <th>2</th>\n",
       "      <td>F</td>\n",
       "      <td>Loan unpaid. Contract closed</td>\n",
       "      <td>17</td>\n",
       "    </tr>\n",
       "    <tr>\n",
       "      <th>3</th>\n",
       "      <td>F</td>\n",
       "      <td>No loan</td>\n",
       "      <td>1860</td>\n",
       "    </tr>\n",
       "    <tr>\n",
       "      <th>4</th>\n",
       "      <td>F</td>\n",
       "      <td>OK so far. Contract running</td>\n",
       "      <td>204</td>\n",
       "    </tr>\n",
       "    <tr>\n",
       "      <th>5</th>\n",
       "      <td>M</td>\n",
       "      <td>Client in debt. Contract running</td>\n",
       "      <td>21</td>\n",
       "    </tr>\n",
       "    <tr>\n",
       "      <th>6</th>\n",
       "      <td>M</td>\n",
       "      <td>Loan repaid. Contract closed</td>\n",
       "      <td>100</td>\n",
       "    </tr>\n",
       "    <tr>\n",
       "      <th>7</th>\n",
       "      <td>M</td>\n",
       "      <td>Loan unpaid. Contract closed</td>\n",
       "      <td>14</td>\n",
       "    </tr>\n",
       "    <tr>\n",
       "      <th>8</th>\n",
       "      <td>M</td>\n",
       "      <td>No loan</td>\n",
       "      <td>1958</td>\n",
       "    </tr>\n",
       "    <tr>\n",
       "      <th>9</th>\n",
       "      <td>M</td>\n",
       "      <td>OK so far. Contract running</td>\n",
       "      <td>199</td>\n",
       "    </tr>\n",
       "  </tbody>\n",
       "</table>\n",
       "</div>"
      ],
      "text/plain": [
       "  gender                       loan_status  mean_balance_1998\n",
       "0      F  Client in debt. Contract running                 24\n",
       "1      F      Loan repaid. Contract closed                103\n",
       "2      F      Loan unpaid. Contract closed                 17\n",
       "3      F                           No loan               1860\n",
       "4      F       OK so far. Contract running                204\n",
       "5      M  Client in debt. Contract running                 21\n",
       "6      M      Loan repaid. Contract closed                100\n",
       "7      M      Loan unpaid. Contract closed                 14\n",
       "8      M                           No loan               1958\n",
       "9      M       OK so far. Contract running                199"
      ]
     },
     "execution_count": 91,
     "metadata": {},
     "output_type": "execute_result"
    }
   ],
   "source": [
    "db3.groupby(['gender','loan_status'])['mean_balance_1998'].agg('count').reset_index()"
   ]
  },
  {
   "cell_type": "code",
   "execution_count": 92,
   "metadata": {},
   "outputs": [
    {
     "data": {
      "text/html": [
       "<div>\n",
       "<style scoped>\n",
       "    .dataframe tbody tr th:only-of-type {\n",
       "        vertical-align: middle;\n",
       "    }\n",
       "\n",
       "    .dataframe tbody tr th {\n",
       "        vertical-align: top;\n",
       "    }\n",
       "\n",
       "    .dataframe thead th {\n",
       "        text-align: right;\n",
       "    }\n",
       "</style>\n",
       "<table border=\"1\" class=\"dataframe\">\n",
       "  <thead>\n",
       "    <tr style=\"text-align: right;\">\n",
       "      <th></th>\n",
       "      <th>loan_duration</th>\n",
       "      <th>loan_status</th>\n",
       "      <th>mean_balance_1998</th>\n",
       "    </tr>\n",
       "  </thead>\n",
       "  <tbody>\n",
       "    <tr>\n",
       "      <th>0</th>\n",
       "      <td>12.0</td>\n",
       "      <td>Client in debt. Contract running</td>\n",
       "      <td>1</td>\n",
       "    </tr>\n",
       "    <tr>\n",
       "      <th>1</th>\n",
       "      <td>12.0</td>\n",
       "      <td>Loan repaid. Contract closed</td>\n",
       "      <td>93</td>\n",
       "    </tr>\n",
       "    <tr>\n",
       "      <th>2</th>\n",
       "      <td>12.0</td>\n",
       "      <td>Loan unpaid. Contract closed</td>\n",
       "      <td>10</td>\n",
       "    </tr>\n",
       "    <tr>\n",
       "      <th>3</th>\n",
       "      <td>12.0</td>\n",
       "      <td>OK so far. Contract running</td>\n",
       "      <td>27</td>\n",
       "    </tr>\n",
       "    <tr>\n",
       "      <th>4</th>\n",
       "      <td>24.0</td>\n",
       "      <td>Client in debt. Contract running</td>\n",
       "      <td>6</td>\n",
       "    </tr>\n",
       "    <tr>\n",
       "      <th>5</th>\n",
       "      <td>24.0</td>\n",
       "      <td>Loan repaid. Contract closed</td>\n",
       "      <td>64</td>\n",
       "    </tr>\n",
       "    <tr>\n",
       "      <th>6</th>\n",
       "      <td>24.0</td>\n",
       "      <td>Loan unpaid. Contract closed</td>\n",
       "      <td>11</td>\n",
       "    </tr>\n",
       "    <tr>\n",
       "      <th>7</th>\n",
       "      <td>24.0</td>\n",
       "      <td>OK so far. Contract running</td>\n",
       "      <td>57</td>\n",
       "    </tr>\n",
       "    <tr>\n",
       "      <th>8</th>\n",
       "      <td>36.0</td>\n",
       "      <td>Client in debt. Contract running</td>\n",
       "      <td>8</td>\n",
       "    </tr>\n",
       "    <tr>\n",
       "      <th>9</th>\n",
       "      <td>36.0</td>\n",
       "      <td>Loan repaid. Contract closed</td>\n",
       "      <td>32</td>\n",
       "    </tr>\n",
       "    <tr>\n",
       "      <th>10</th>\n",
       "      <td>36.0</td>\n",
       "      <td>Loan unpaid. Contract closed</td>\n",
       "      <td>7</td>\n",
       "    </tr>\n",
       "    <tr>\n",
       "      <th>11</th>\n",
       "      <td>36.0</td>\n",
       "      <td>OK so far. Contract running</td>\n",
       "      <td>83</td>\n",
       "    </tr>\n",
       "    <tr>\n",
       "      <th>12</th>\n",
       "      <td>48.0</td>\n",
       "      <td>Client in debt. Contract running</td>\n",
       "      <td>14</td>\n",
       "    </tr>\n",
       "    <tr>\n",
       "      <th>13</th>\n",
       "      <td>48.0</td>\n",
       "      <td>Loan repaid. Contract closed</td>\n",
       "      <td>11</td>\n",
       "    </tr>\n",
       "    <tr>\n",
       "      <th>14</th>\n",
       "      <td>48.0</td>\n",
       "      <td>Loan unpaid. Contract closed</td>\n",
       "      <td>2</td>\n",
       "    </tr>\n",
       "    <tr>\n",
       "      <th>15</th>\n",
       "      <td>48.0</td>\n",
       "      <td>OK so far. Contract running</td>\n",
       "      <td>111</td>\n",
       "    </tr>\n",
       "    <tr>\n",
       "      <th>16</th>\n",
       "      <td>60.0</td>\n",
       "      <td>Client in debt. Contract running</td>\n",
       "      <td>16</td>\n",
       "    </tr>\n",
       "    <tr>\n",
       "      <th>17</th>\n",
       "      <td>60.0</td>\n",
       "      <td>Loan repaid. Contract closed</td>\n",
       "      <td>3</td>\n",
       "    </tr>\n",
       "    <tr>\n",
       "      <th>18</th>\n",
       "      <td>60.0</td>\n",
       "      <td>Loan unpaid. Contract closed</td>\n",
       "      <td>1</td>\n",
       "    </tr>\n",
       "    <tr>\n",
       "      <th>19</th>\n",
       "      <td>60.0</td>\n",
       "      <td>OK so far. Contract running</td>\n",
       "      <td>125</td>\n",
       "    </tr>\n",
       "  </tbody>\n",
       "</table>\n",
       "</div>"
      ],
      "text/plain": [
       "    loan_duration                       loan_status  mean_balance_1998\n",
       "0            12.0  Client in debt. Contract running                  1\n",
       "1            12.0      Loan repaid. Contract closed                 93\n",
       "2            12.0      Loan unpaid. Contract closed                 10\n",
       "3            12.0       OK so far. Contract running                 27\n",
       "4            24.0  Client in debt. Contract running                  6\n",
       "5            24.0      Loan repaid. Contract closed                 64\n",
       "6            24.0      Loan unpaid. Contract closed                 11\n",
       "7            24.0       OK so far. Contract running                 57\n",
       "8            36.0  Client in debt. Contract running                  8\n",
       "9            36.0      Loan repaid. Contract closed                 32\n",
       "10           36.0      Loan unpaid. Contract closed                  7\n",
       "11           36.0       OK so far. Contract running                 83\n",
       "12           48.0  Client in debt. Contract running                 14\n",
       "13           48.0      Loan repaid. Contract closed                 11\n",
       "14           48.0      Loan unpaid. Contract closed                  2\n",
       "15           48.0       OK so far. Contract running                111\n",
       "16           60.0  Client in debt. Contract running                 16\n",
       "17           60.0      Loan repaid. Contract closed                  3\n",
       "18           60.0      Loan unpaid. Contract closed                  1\n",
       "19           60.0       OK so far. Contract running                125"
      ]
     },
     "execution_count": 92,
     "metadata": {},
     "output_type": "execute_result"
    }
   ],
   "source": [
    "db3.groupby(['loan_duration','loan_status'])['mean_balance_1998'].agg('count').reset_index()"
   ]
  },
  {
   "cell_type": "code",
   "execution_count": 93,
   "metadata": {},
   "outputs": [
    {
     "data": {
      "image/png": "[encoded data removed]",
      "text/plain": [
       "<Figure size 1800x288 with 1 Axes>"
      ]
     },
     "metadata": {
      "needs_background": "light"
     },
     "output_type": "display_data"
    }
   ],
   "source": [
    "# Using subplots or facets along with Bar Plots\n",
    "fig = plt.figure(figsize = (25, 4))\n",
    "fig.subplots_adjust(top=0.85, wspace=0.3)\n",
    "\n",
    "ax2 = fig.add_subplot(1,2, 2)\n",
    "ww_q = db3['loan_status'].value_counts()\n",
    "ww_q = (list(ww_q.index), list(ww_q.values))\n",
    "ax2.tick_params(axis='both', which='major', labelsize=9)\n",
    "bar2 = ax2.bar(ww_q[0], ww_q[1], color='green', \n",
    "               edgecolor='green', linewidth=1)"
   ]
  },
  {
   "cell_type": "code",
   "execution_count": 94,
   "metadata": {},
   "outputs": [
    {
     "data": {
      "text/plain": [
       "loan_status\n",
       "Client in debt. Contract running      45\n",
       "Loan repaid. Contract closed         203\n",
       "Loan unpaid. Contract closed          31\n",
       "No loan                             3818\n",
       "OK so far. Contract running          403\n",
       "Name: client_id, dtype: int64"
      ]
     },
     "execution_count": 94,
     "metadata": {},
     "output_type": "execute_result"
    }
   ],
   "source": [
    "db3.groupby(\"loan_status\")[\"client_id\"].agg(\"count\")"
   ]
  },
  {
   "cell_type": "code",
   "execution_count": 95,
   "metadata": {},
   "outputs": [],
   "source": [
    "x = db3[db3[\"loan_status\"]!=\"No loan\"][\"A3\"]"
   ]
  },
  {
   "cell_type": "code",
   "execution_count": 159,
   "metadata": {},
   "outputs": [
    {
     "data": {
      "image/png": "[encoded data removed]",
      "text/plain": [
       "<Figure size 432x288 with 1 Axes>"
      ]
     },
     "metadata": {},
     "output_type": "display_data"
    }
   ],
   "source": [
    "plt.hist(db3[\"A3\"], orientation=\"vertical\")\n",
    "plt.xticks(x, db3[\"A3\"], rotation=\"vertical\")\n",
    "plt.title(\"Number of accounts by Region\")\n",
    "plt.ylabel(\"Number of Accounts\")\n",
    "plt.show()"
   ]
  },
  {
   "cell_type": "code",
   "execution_count": null,
   "metadata": {},
   "outputs": [],
   "source": [
    "import plotly.plotly as py\n",
    "import plotly.graph_objs as go\n",
    "\n",
    "go.Histogram(\n",
    "    histfunc = \"count\",\n",
    "    y = y,\n",
    "    x = x,\n",
    "    name = \"count\"\n",
    "  )"
   ]
  },
  {
   "cell_type": "code",
   "execution_count": 136,
   "metadata": {},
   "outputs": [
    {
     "data": {
      "text/plain": [
       "<matplotlib.axes._subplots.AxesSubplot at 0x2140eb137f0>"
      ]
     },
     "execution_count": 136,
     "metadata": {},
     "output_type": "execute_result"
    },
    {
     "data": {
      "image/png": "[encoded data removed]",
      "text/plain": [
       "<Figure size 432x288 with 1 Axes>"
      ]
     },
     "metadata": {},
     "output_type": "display_data"
    }
   ],
   "source": [
    "import seaborn as sns\n",
    "\n",
    "sns.set_style('darkgrid')\n",
    "sns.distplot(db3[\"A11\"], norm_hist=\"bool\")"
   ]
  },
  {
   "cell_type": "code",
   "execution_count": 138,
   "metadata": {},
   "outputs": [
    {
     "data": {
      "image/png": "[encoded data removed]",
      "text/plain": [
       "<Figure size 432x288 with 1 Axes>"
      ]
     },
     "metadata": {},
     "output_type": "display_data"
    }
   ],
   "source": [
    "plt.hist(db3[\"A11\"], orientation=\"vertical\")\n",
    "plt.title(\"Number of accounts by District Average Salary\")\n",
    "plt.xlabel(\"District's Average Salary\")\n",
    "plt.ylabel(\"Number of Accounts\")\n",
    "plt.show()"
   ]
  },
  {
   "cell_type": "code",
   "execution_count": 99,
   "metadata": {},
   "outputs": [],
   "source": [
    "p = figure(plot_width=400, plot_height=400)\n",
    "\n",
    "# add a circle renderer with x and y coordinates, size, color, and alpha\n",
    "p.circle(db3[\"loan_amount\"], db3[\"loan_duration\"], size=10, line_color=\"navy\", fill_color=\"orange\", fill_alpha=0.5)\n",
    "\n",
    "show(p)"
   ]
  },
  {
   "cell_type": "code",
   "execution_count": 100,
   "metadata": {},
   "outputs": [],
   "source": [
    "xlabels = [\"Jan\", \"Feb\", \"Mar\", \"Apr\", \"May\", \"Jun\", \"Jul\", \"Aug\", \"Sep\", \"Oct\", \"Nov\", \"Dec\"]"
   ]
  },
  {
   "cell_type": "code",
   "execution_count": 127,
   "metadata": {},
   "outputs": [],
   "source": [
    "p = figure(x_range=xlabels, plot_height=250, title=\"Monthly Deposits\")\n",
    "p.line(x=xlabels, y=avg_m_deposits)\n",
    "show(p)"
   ]
  },
  {
   "cell_type": "code",
   "execution_count": 102,
   "metadata": {},
   "outputs": [],
   "source": [
    "p = figure(x_range=xlabels, plot_height=250, title=\"Monthly Withdrawals\")\n",
    "p.vbar(x=xlabels, top=avg_m_withdrawals, width=0.9)\n",
    "show(p)"
   ]
  },
  {
   "cell_type": "code",
   "execution_count": 103,
   "metadata": {},
   "outputs": [
    {
     "data": {
      "text/plain": [
       "No loan                             3818\n",
       "OK so far. Contract running          403\n",
       "Loan repaid. Contract closed         203\n",
       "Client in debt. Contract running      45\n",
       "Loan unpaid. Contract closed          31\n",
       "Name: loan_status, dtype: int64"
      ]
     },
     "execution_count": 103,
     "metadata": {},
     "output_type": "execute_result"
    }
   ],
   "source": [
    "db3[\"loan_status\"].value_counts()"
   ]
  },
  {
   "cell_type": "code",
   "execution_count": 139,
   "metadata": {},
   "outputs": [],
   "source": [
    "p = figure(x_axis_label='Age', y_axis_label='Total Credits')\n",
    "p.circle(db3[\"age\"], db3[\"sum_Credit\"])\n",
    "p.x(db3[\"age\"], db3[\"sum_Withdrawal\"])\n",
    "show(p)\n",
    "\n",
    "#shows that people in the older age group are doing less transactions (credits as well as withdrawals than middle aged groups)\n",
    "#CHECK IF BOXPLOT IS POSSIBLE\n"
   ]
  },
  {
   "cell_type": "code",
   "execution_count": 140,
   "metadata": {},
   "outputs": [
    {
     "data": {
      "text/html": [
       "<div>\n",
       "<style scoped>\n",
       "    .dataframe tbody tr th:only-of-type {\n",
       "        vertical-align: middle;\n",
       "    }\n",
       "\n",
       "    .dataframe tbody tr th {\n",
       "        vertical-align: top;\n",
       "    }\n",
       "\n",
       "    .dataframe thead th {\n",
       "        text-align: right;\n",
       "    }\n",
       "</style>\n",
       "<table border=\"1\" class=\"dataframe\">\n",
       "  <thead>\n",
       "    <tr style=\"text-align: right;\">\n",
       "      <th></th>\n",
       "      <th>median</th>\n",
       "      <th>min</th>\n",
       "    </tr>\n",
       "    <tr>\n",
       "      <th>age_group</th>\n",
       "      <th></th>\n",
       "      <th></th>\n",
       "    </tr>\n",
       "  </thead>\n",
       "  <tbody>\n",
       "    <tr>\n",
       "      <th>10</th>\n",
       "      <td>336278.2</td>\n",
       "      <td>11100.0</td>\n",
       "    </tr>\n",
       "    <tr>\n",
       "      <th>20</th>\n",
       "      <td>469861.8</td>\n",
       "      <td>9700.0</td>\n",
       "    </tr>\n",
       "    <tr>\n",
       "      <th>30</th>\n",
       "      <td>594032.0</td>\n",
       "      <td>1400.0</td>\n",
       "    </tr>\n",
       "    <tr>\n",
       "      <th>40</th>\n",
       "      <td>611760.8</td>\n",
       "      <td>8500.0</td>\n",
       "    </tr>\n",
       "    <tr>\n",
       "      <th>50</th>\n",
       "      <td>584946.6</td>\n",
       "      <td>1400.0</td>\n",
       "    </tr>\n",
       "    <tr>\n",
       "      <th>60</th>\n",
       "      <td>272767.0</td>\n",
       "      <td>18400.0</td>\n",
       "    </tr>\n",
       "    <tr>\n",
       "      <th>70</th>\n",
       "      <td>186190.2</td>\n",
       "      <td>30588.8</td>\n",
       "    </tr>\n",
       "    <tr>\n",
       "      <th>80</th>\n",
       "      <td>159333.2</td>\n",
       "      <td>41008.2</td>\n",
       "    </tr>\n",
       "  </tbody>\n",
       "</table>\n",
       "</div>"
      ],
      "text/plain": [
       "             median      min\n",
       "age_group                   \n",
       "10         336278.2  11100.0\n",
       "20         469861.8   9700.0\n",
       "30         594032.0   1400.0\n",
       "40         611760.8   8500.0\n",
       "50         584946.6   1400.0\n",
       "60         272767.0  18400.0\n",
       "70         186190.2  30588.8\n",
       "80         159333.2  41008.2"
      ]
     },
     "execution_count": 140,
     "metadata": {},
     "output_type": "execute_result"
    }
   ],
   "source": [
    "db3.groupby(\"age_group\")[\"sum_Withdrawal\"].agg([\"median\", \"min\"])"
   ]
  },
  {
   "cell_type": "code",
   "execution_count": 105,
   "metadata": {},
   "outputs": [
    {
     "data": {
      "text/plain": [
       "<matplotlib.axes._subplots.AxesSubplot at 0x2141b05d940>"
      ]
     },
     "execution_count": 105,
     "metadata": {},
     "output_type": "execute_result"
    },
    {
     "data": {
      "image/png": "[encoded data removed]",
      "text/plain": [
       "<Figure size 864x288 with 1 Axes>"
      ]
     },
     "metadata": {
      "needs_background": "light"
     },
     "output_type": "display_data"
    }
   ],
   "source": [
    "# Box Plots\n",
    "f, (ax2) = plt.subplots(1, 1, figsize=(12, 4))\n",
    "f.suptitle('Withdrawals by Age', fontsize=14)\n",
    "\n",
    "sns.boxplot(x=\"age_group\", y=\"sum_Withdrawal\", data=db3,  ax=ax2)"
   ]
  },
  {
   "cell_type": "code",
   "execution_count": 141,
   "metadata": {},
   "outputs": [
    {
     "data": {
      "text/html": [
       "<div>\n",
       "<style scoped>\n",
       "    .dataframe tbody tr th:only-of-type {\n",
       "        vertical-align: middle;\n",
       "    }\n",
       "\n",
       "    .dataframe tbody tr th {\n",
       "        vertical-align: top;\n",
       "    }\n",
       "\n",
       "    .dataframe thead th {\n",
       "        text-align: right;\n",
       "    }\n",
       "</style>\n",
       "<table border=\"1\" class=\"dataframe\">\n",
       "  <thead>\n",
       "    <tr style=\"text-align: right;\">\n",
       "      <th></th>\n",
       "      <th>median</th>\n",
       "      <th>min</th>\n",
       "    </tr>\n",
       "    <tr>\n",
       "      <th>age_group</th>\n",
       "      <th></th>\n",
       "      <th></th>\n",
       "    </tr>\n",
       "  </thead>\n",
       "  <tbody>\n",
       "    <tr>\n",
       "      <th>10</th>\n",
       "      <td>395285.7</td>\n",
       "      <td>42444.1</td>\n",
       "    </tr>\n",
       "    <tr>\n",
       "      <th>20</th>\n",
       "      <td>524833.9</td>\n",
       "      <td>19700.0</td>\n",
       "    </tr>\n",
       "    <tr>\n",
       "      <th>30</th>\n",
       "      <td>648778.6</td>\n",
       "      <td>21700.0</td>\n",
       "    </tr>\n",
       "    <tr>\n",
       "      <th>40</th>\n",
       "      <td>656902.3</td>\n",
       "      <td>22400.0</td>\n",
       "    </tr>\n",
       "    <tr>\n",
       "      <th>50</th>\n",
       "      <td>625538.6</td>\n",
       "      <td>26035.1</td>\n",
       "    </tr>\n",
       "    <tr>\n",
       "      <th>60</th>\n",
       "      <td>305754.3</td>\n",
       "      <td>39800.0</td>\n",
       "    </tr>\n",
       "    <tr>\n",
       "      <th>70</th>\n",
       "      <td>215775.1</td>\n",
       "      <td>53663.2</td>\n",
       "    </tr>\n",
       "    <tr>\n",
       "      <th>80</th>\n",
       "      <td>187827.3</td>\n",
       "      <td>63192.4</td>\n",
       "    </tr>\n",
       "  </tbody>\n",
       "</table>\n",
       "</div>"
      ],
      "text/plain": [
       "             median      min\n",
       "age_group                   \n",
       "10         395285.7  42444.1\n",
       "20         524833.9  19700.0\n",
       "30         648778.6  21700.0\n",
       "40         656902.3  22400.0\n",
       "50         625538.6  26035.1\n",
       "60         305754.3  39800.0\n",
       "70         215775.1  53663.2\n",
       "80         187827.3  63192.4"
      ]
     },
     "execution_count": 141,
     "metadata": {},
     "output_type": "execute_result"
    }
   ],
   "source": [
    "db3.groupby(\"age_group\")[\"sum_Credit\"].agg([\"median\", \"min\"])"
   ]
  },
  {
   "cell_type": "code",
   "execution_count": 106,
   "metadata": {
    "scrolled": true
   },
   "outputs": [
    {
     "data": {
      "text/plain": [
       "<matplotlib.axes._subplots.AxesSubplot at 0x2140c52c0f0>"
      ]
     },
     "execution_count": 106,
     "metadata": {},
     "output_type": "execute_result"
    },
    {
     "data": {
      "image/png": "[encoded data removed]",
      "text/plain": [
       "<Figure size 864x288 with 1 Axes>"
      ]
     },
     "metadata": {
      "needs_background": "light"
     },
     "output_type": "display_data"
    }
   ],
   "source": [
    "f, (ax2) = plt.subplots(1, 1, figsize=(12, 4))\n",
    "f.suptitle('Deposits by Age', fontsize=14)\n",
    "\n",
    "sns.boxplot(x=\"age_group\", y=\"sum_Credit\", data=db3,  ax=ax2)"
   ]
  },
  {
   "cell_type": "code",
   "execution_count": 144,
   "metadata": {},
   "outputs": [
    {
     "data": {
      "text/html": [
       "<div>\n",
       "<style scoped>\n",
       "    .dataframe tbody tr th:only-of-type {\n",
       "        vertical-align: middle;\n",
       "    }\n",
       "\n",
       "    .dataframe tbody tr th {\n",
       "        vertical-align: top;\n",
       "    }\n",
       "\n",
       "    .dataframe thead th {\n",
       "        text-align: right;\n",
       "    }\n",
       "</style>\n",
       "<table border=\"1\" class=\"dataframe\">\n",
       "  <thead>\n",
       "    <tr style=\"text-align: right;\">\n",
       "      <th></th>\n",
       "      <th>median</th>\n",
       "      <th>min</th>\n",
       "    </tr>\n",
       "    <tr>\n",
       "      <th>age_group</th>\n",
       "      <th></th>\n",
       "      <th></th>\n",
       "    </tr>\n",
       "  </thead>\n",
       "  <tbody>\n",
       "    <tr>\n",
       "      <th>10</th>\n",
       "      <td>34319.839610</td>\n",
       "      <td>14042.811765</td>\n",
       "    </tr>\n",
       "    <tr>\n",
       "      <th>20</th>\n",
       "      <td>37875.651682</td>\n",
       "      <td>11908.333333</td>\n",
       "    </tr>\n",
       "    <tr>\n",
       "      <th>30</th>\n",
       "      <td>39569.616253</td>\n",
       "      <td>10470.116223</td>\n",
       "    </tr>\n",
       "    <tr>\n",
       "      <th>40</th>\n",
       "      <td>38998.413110</td>\n",
       "      <td>6629.616848</td>\n",
       "    </tr>\n",
       "    <tr>\n",
       "      <th>50</th>\n",
       "      <td>40009.060689</td>\n",
       "      <td>7590.814658</td>\n",
       "    </tr>\n",
       "    <tr>\n",
       "      <th>60</th>\n",
       "      <td>26132.231829</td>\n",
       "      <td>7301.796427</td>\n",
       "    </tr>\n",
       "    <tr>\n",
       "      <th>70</th>\n",
       "      <td>22228.056349</td>\n",
       "      <td>7275.211879</td>\n",
       "    </tr>\n",
       "    <tr>\n",
       "      <th>80</th>\n",
       "      <td>21791.429164</td>\n",
       "      <td>13684.605357</td>\n",
       "    </tr>\n",
       "  </tbody>\n",
       "</table>\n",
       "</div>"
      ],
      "text/plain": [
       "                 median           min\n",
       "age_group                            \n",
       "10         34319.839610  14042.811765\n",
       "20         37875.651682  11908.333333\n",
       "30         39569.616253  10470.116223\n",
       "40         38998.413110   6629.616848\n",
       "50         40009.060689   7590.814658\n",
       "60         26132.231829   7301.796427\n",
       "70         22228.056349   7275.211879\n",
       "80         21791.429164  13684.605357"
      ]
     },
     "execution_count": 144,
     "metadata": {},
     "output_type": "execute_result"
    }
   ],
   "source": [
    "db3.groupby(\"age_group\")[\"mean_Balance\"].agg([\"median\", \"min\"])"
   ]
  },
  {
   "cell_type": "code",
   "execution_count": 143,
   "metadata": {},
   "outputs": [
    {
     "data": {
      "text/plain": [
       "<matplotlib.axes._subplots.AxesSubplot at 0x2140ef91470>"
      ]
     },
     "execution_count": 143,
     "metadata": {},
     "output_type": "execute_result"
    },
    {
     "data": {
      "image/png": "[encoded data removed]",
      "text/plain": [
       "<Figure size 864x288 with 1 Axes>"
      ]
     },
     "metadata": {},
     "output_type": "display_data"
    }
   ],
   "source": [
    "f, (ax2) = plt.subplots(1, 1, figsize=(12, 4))\n",
    "f.suptitle('Mean Balance by Age', fontsize=14)\n",
    "\n",
    "sns.boxplot(x=\"age_group\", y=\"mean_Balance\", data=db3,  ax=ax2)"
   ]
  },
  {
   "cell_type": "code",
   "execution_count": 107,
   "metadata": {},
   "outputs": [
    {
     "data": {
      "text/plain": [
       "<matplotlib.axes._subplots.AxesSubplot at 0x2140c5246a0>"
      ]
     },
     "execution_count": 107,
     "metadata": {},
     "output_type": "execute_result"
    },
    {
     "data": {
      "image/png": "[encoded data removed]",
      "text/plain": [
       "<Figure size 864x288 with 1 Axes>"
      ]
     },
     "metadata": {
      "needs_background": "light"
     },
     "output_type": "display_data"
    }
   ],
   "source": [
    "f, (ax2) = plt.subplots(1, 1, figsize=(12, 4))\n",
    "f.suptitle('Loan EMI', fontsize=14)\n",
    "\n",
    "sns.boxplot(x=\"age_group\", y=\"loan_emi\", data=db3,  ax=ax2)"
   ]
  },
  {
   "cell_type": "code",
   "execution_count": 108,
   "metadata": {},
   "outputs": [
    {
     "data": {
      "text/plain": [
       "<matplotlib.legend.Legend at 0x2140a8b15f8>"
      ]
     },
     "execution_count": 108,
     "metadata": {},
     "output_type": "execute_result"
    },
    {
     "data": {
      "image/png": "[encoded data removed]",
      "text/plain": [
       "<Figure size 720x360 with 1 Axes>"
      ]
     },
     "metadata": {
      "needs_background": "light"
     },
     "output_type": "display_data"
    }
   ],
   "source": [
    "# Participation by 'Count_disponent'\n",
    "plt.figure(figsize = (10, 5))\n",
    "plt.ylabel('Count')\n",
    "plt.title('Difference of having a disponent in the balance')\n",
    "plt.hist([db3['mean_balance_1998'][db3['count_DISPONENT'] == 1], db3['mean_balance_1998'][db3['count_DISPONENT'] == 0]], bins = 1, rwidth = 0.8, color = ['blue','black'],\n",
    "        label = ['With Disponent','Without Disponent'])\n",
    "\n",
    "plt.legend()"
   ]
  },
  {
   "cell_type": "code",
   "execution_count": 109,
   "metadata": {},
   "outputs": [
    {
     "data": {
      "text/html": [
       "<div>\n",
       "<style scoped>\n",
       "    .dataframe tbody tr th:only-of-type {\n",
       "        vertical-align: middle;\n",
       "    }\n",
       "\n",
       "    .dataframe tbody tr th {\n",
       "        vertical-align: top;\n",
       "    }\n",
       "\n",
       "    .dataframe thead th {\n",
       "        text-align: right;\n",
       "    }\n",
       "</style>\n",
       "<table border=\"1\" class=\"dataframe\">\n",
       "  <thead>\n",
       "    <tr style=\"text-align: right;\">\n",
       "      <th></th>\n",
       "      <th>median</th>\n",
       "      <th>min</th>\n",
       "    </tr>\n",
       "    <tr>\n",
       "      <th>loan_status</th>\n",
       "      <th></th>\n",
       "      <th></th>\n",
       "    </tr>\n",
       "  </thead>\n",
       "  <tbody>\n",
       "    <tr>\n",
       "      <th>Client in debt. Contract running</th>\n",
       "      <td>35294.761728</td>\n",
       "      <td>8250.471630</td>\n",
       "    </tr>\n",
       "    <tr>\n",
       "      <th>Loan repaid. Contract closed</th>\n",
       "      <td>49907.234923</td>\n",
       "      <td>17351.428739</td>\n",
       "    </tr>\n",
       "    <tr>\n",
       "      <th>Loan unpaid. Contract closed</th>\n",
       "      <td>38378.961504</td>\n",
       "      <td>10812.467385</td>\n",
       "    </tr>\n",
       "    <tr>\n",
       "      <th>No loan</th>\n",
       "      <td>33214.127259</td>\n",
       "      <td>6629.616848</td>\n",
       "    </tr>\n",
       "    <tr>\n",
       "      <th>OK so far. Contract running</th>\n",
       "      <td>47343.955673</td>\n",
       "      <td>13645.077273</td>\n",
       "    </tr>\n",
       "  </tbody>\n",
       "</table>\n",
       "</div>"
      ],
      "text/plain": [
       "                                        median           min\n",
       "loan_status                                                 \n",
       "Client in debt. Contract running  35294.761728   8250.471630\n",
       "Loan repaid. Contract closed      49907.234923  17351.428739\n",
       "Loan unpaid. Contract closed      38378.961504  10812.467385\n",
       "No loan                           33214.127259   6629.616848\n",
       "OK so far. Contract running       47343.955673  13645.077273"
      ]
     },
     "execution_count": 109,
     "metadata": {},
     "output_type": "execute_result"
    }
   ],
   "source": [
    "db3.groupby(\"loan_status\")[\"mean_Balance\"].agg([\"median\", \"min\"])"
   ]
  },
  {
   "cell_type": "code",
   "execution_count": 110,
   "metadata": {},
   "outputs": [
    {
     "data": {
      "text/plain": [
       "<matplotlib.axes._subplots.AxesSubplot at 0x2140a89c4e0>"
      ]
     },
     "execution_count": 110,
     "metadata": {},
     "output_type": "execute_result"
    },
    {
     "data": {
      "image/png": "[encoded data removed]",
      "text/plain": [
       "<Figure size 864x288 with 1 Axes>"
      ]
     },
     "metadata": {
      "needs_background": "light"
     },
     "output_type": "display_data"
    }
   ],
   "source": [
    "# accounts with higher average Balance perform better on loans - Lower bound of fully repaid loans.\n",
    "# NPAs are to clients with low average Balance \n",
    "\n",
    "f, (ax2) = plt.subplots(1, 1, figsize=(12, 4))\n",
    "f.suptitle('Loan status by Average Balance', fontsize=14)\n",
    "\n",
    "sns.boxplot(x=\"mean_Balance\", y=\"loan_status\", data=db3,  ax=ax2)"
   ]
  },
  {
   "cell_type": "code",
   "execution_count": 111,
   "metadata": {},
   "outputs": [
    {
     "data": {
      "text/plain": [
       "<matplotlib.axes._subplots.AxesSubplot at 0x2140c736dd8>"
      ]
     },
     "execution_count": 111,
     "metadata": {},
     "output_type": "execute_result"
    },
    {
     "data": {
      "image/png": "[encoded data removed]",
      "text/plain": [
       "<Figure size 864x288 with 1 Axes>"
      ]
     },
     "metadata": {
      "needs_background": "light"
     },
     "output_type": "display_data"
    }
   ],
   "source": [
    "# Non performing loans are mostly in the middle aged clients category. \n",
    "# However, looking at defaults, it seems like the bank waits for many years till classifying the NPAs as non-recoverable\n",
    "\n",
    "f, (ax2) = plt.subplots(1, 1, figsize=(12, 4))\n",
    "f.suptitle('Loan status by Age', fontsize=14)\n",
    "\n",
    "sns.boxplot(x=\"age\", y=\"loan_status\", data=db3,  ax=ax2)"
   ]
  },
  {
   "cell_type": "code",
   "execution_count": 112,
   "metadata": {},
   "outputs": [
    {
     "data": {
      "text/html": [
       "<div>\n",
       "<style scoped>\n",
       "    .dataframe tbody tr th:only-of-type {\n",
       "        vertical-align: middle;\n",
       "    }\n",
       "\n",
       "    .dataframe tbody tr th {\n",
       "        vertical-align: top;\n",
       "    }\n",
       "\n",
       "    .dataframe thead th {\n",
       "        text-align: right;\n",
       "    }\n",
       "</style>\n",
       "<table border=\"1\" class=\"dataframe\">\n",
       "  <thead>\n",
       "    <tr style=\"text-align: right;\">\n",
       "      <th></th>\n",
       "      <th>median</th>\n",
       "      <th>min</th>\n",
       "      <th>max</th>\n",
       "    </tr>\n",
       "    <tr>\n",
       "      <th>loan_status</th>\n",
       "      <th></th>\n",
       "      <th></th>\n",
       "      <th></th>\n",
       "    </tr>\n",
       "  </thead>\n",
       "  <tbody>\n",
       "    <tr>\n",
       "      <th>Client in debt. Contract running</th>\n",
       "      <td>8746</td>\n",
       "      <td>8110</td>\n",
       "      <td>12541</td>\n",
       "    </tr>\n",
       "    <tr>\n",
       "      <th>Loan repaid. Contract closed</th>\n",
       "      <td>9060</td>\n",
       "      <td>8110</td>\n",
       "      <td>12541</td>\n",
       "    </tr>\n",
       "    <tr>\n",
       "      <th>Loan unpaid. Contract closed</th>\n",
       "      <td>8991</td>\n",
       "      <td>8110</td>\n",
       "      <td>12541</td>\n",
       "    </tr>\n",
       "    <tr>\n",
       "      <th>No loan</th>\n",
       "      <td>8991</td>\n",
       "      <td>8110</td>\n",
       "      <td>12541</td>\n",
       "    </tr>\n",
       "    <tr>\n",
       "      <th>OK so far. Contract running</th>\n",
       "      <td>8968</td>\n",
       "      <td>8110</td>\n",
       "      <td>12541</td>\n",
       "    </tr>\n",
       "  </tbody>\n",
       "</table>\n",
       "</div>"
      ],
      "text/plain": [
       "                                  median   min    max\n",
       "loan_status                                          \n",
       "Client in debt. Contract running    8746  8110  12541\n",
       "Loan repaid. Contract closed        9060  8110  12541\n",
       "Loan unpaid. Contract closed        8991  8110  12541\n",
       "No loan                             8991  8110  12541\n",
       "OK so far. Contract running         8968  8110  12541"
      ]
     },
     "execution_count": 112,
     "metadata": {},
     "output_type": "execute_result"
    }
   ],
   "source": [
    "db3.groupby(\"loan_status\")[\"A11\"].agg([\"median\", \"min\", \"max\"])"
   ]
  },
  {
   "cell_type": "code",
   "execution_count": 113,
   "metadata": {},
   "outputs": [
    {
     "data": {
      "text/plain": [
       "<matplotlib.axes._subplots.AxesSubplot at 0x2140c67f550>"
      ]
     },
     "execution_count": 113,
     "metadata": {},
     "output_type": "execute_result"
    },
    {
     "data": {
      "image/png": "[encoded data removed]",
      "text/plain": [
       "<Figure size 864x288 with 1 Axes>"
      ]
     },
     "metadata": {
      "needs_background": "light"
     },
     "output_type": "display_data"
    }
   ],
   "source": [
    "#Most of the clients who are having trouble paying back come from the lower income districts\n",
    "\n",
    "f, (ax2) = plt.subplots(1, 1, figsize=(12, 4))\n",
    "f.suptitle('Loan status by Average Income in district', fontsize=14)\n",
    "\n",
    "sns.boxplot(x=\"A11\", y=\"loan_status\", data=db3,  ax=ax2)"
   ]
  },
  {
   "cell_type": "code",
   "execution_count": 114,
   "metadata": {},
   "outputs": [
    {
     "data": {
      "text/html": [
       "<div>\n",
       "<style scoped>\n",
       "    .dataframe tbody tr th:only-of-type {\n",
       "        vertical-align: middle;\n",
       "    }\n",
       "\n",
       "    .dataframe tbody tr th {\n",
       "        vertical-align: top;\n",
       "    }\n",
       "\n",
       "    .dataframe thead th {\n",
       "        text-align: right;\n",
       "    }\n",
       "</style>\n",
       "<table border=\"1\" class=\"dataframe\">\n",
       "  <thead>\n",
       "    <tr style=\"text-align: right;\">\n",
       "      <th></th>\n",
       "      <th>median</th>\n",
       "      <th>min</th>\n",
       "    </tr>\n",
       "    <tr>\n",
       "      <th>loan_status</th>\n",
       "      <th></th>\n",
       "      <th></th>\n",
       "    </tr>\n",
       "  </thead>\n",
       "  <tbody>\n",
       "    <tr>\n",
       "      <th>Client in debt. Contract running</th>\n",
       "      <td>5120.0</td>\n",
       "      <td>1728.0</td>\n",
       "    </tr>\n",
       "    <tr>\n",
       "      <th>Loan repaid. Contract closed</th>\n",
       "      <td>3874.0</td>\n",
       "      <td>319.0</td>\n",
       "    </tr>\n",
       "    <tr>\n",
       "      <th>Loan unpaid. Contract closed</th>\n",
       "      <td>5746.0</td>\n",
       "      <td>1671.0</td>\n",
       "    </tr>\n",
       "    <tr>\n",
       "      <th>No loan</th>\n",
       "      <td>NaN</td>\n",
       "      <td>NaN</td>\n",
       "    </tr>\n",
       "    <tr>\n",
       "      <th>OK so far. Contract running</th>\n",
       "      <td>3698.0</td>\n",
       "      <td>304.0</td>\n",
       "    </tr>\n",
       "  </tbody>\n",
       "</table>\n",
       "</div>"
      ],
      "text/plain": [
       "                                  median     min\n",
       "loan_status                                     \n",
       "Client in debt. Contract running  5120.0  1728.0\n",
       "Loan repaid. Contract closed      3874.0   319.0\n",
       "Loan unpaid. Contract closed      5746.0  1671.0\n",
       "No loan                              NaN     NaN\n",
       "OK so far. Contract running       3698.0   304.0"
      ]
     },
     "execution_count": 114,
     "metadata": {},
     "output_type": "execute_result"
    }
   ],
   "source": [
    "db3.groupby(\"loan_status\")[\"loan_emi\"].agg([\"median\", \"min\"])"
   ]
  },
  {
   "cell_type": "code",
   "execution_count": 115,
   "metadata": {},
   "outputs": [
    {
     "data": {
      "text/plain": [
       "<matplotlib.axes._subplots.AxesSubplot at 0x2140d12fba8>"
      ]
     },
     "execution_count": 115,
     "metadata": {},
     "output_type": "execute_result"
    },
    {
     "data": {
      "image/png": "[encoded data removed]",
      "text/plain": [
       "<Figure size 864x288 with 1 Axes>"
      ]
     },
     "metadata": {
      "needs_background": "light"
     },
     "output_type": "display_data"
    }
   ],
   "source": [
    "# High EMI loans have higher incidence of loan repayment performance\n",
    "\n",
    "f, (ax2) = plt.subplots(1, 1, figsize=(12, 4))\n",
    "f.suptitle('Loan status by EMI amount', fontsize=14)\n",
    "\n",
    "sns.boxplot(x=\"loan_emi\", y=\"loan_status\", data=db3,  ax=ax2)"
   ]
  },
  {
   "cell_type": "code",
   "execution_count": 116,
   "metadata": {},
   "outputs": [
    {
     "data": {
      "text/html": [
       "<div>\n",
       "<style scoped>\n",
       "    .dataframe tbody tr th:only-of-type {\n",
       "        vertical-align: middle;\n",
       "    }\n",
       "\n",
       "    .dataframe tbody tr th {\n",
       "        vertical-align: top;\n",
       "    }\n",
       "\n",
       "    .dataframe thead th {\n",
       "        text-align: right;\n",
       "    }\n",
       "</style>\n",
       "<table border=\"1\" class=\"dataframe\">\n",
       "  <thead>\n",
       "    <tr style=\"text-align: right;\">\n",
       "      <th></th>\n",
       "      <th>median</th>\n",
       "      <th>min</th>\n",
       "    </tr>\n",
       "    <tr>\n",
       "      <th>A3</th>\n",
       "      <th></th>\n",
       "      <th></th>\n",
       "    </tr>\n",
       "  </thead>\n",
       "  <tbody>\n",
       "    <tr>\n",
       "      <th>Prague</th>\n",
       "      <td>4050.5</td>\n",
       "      <td>429.0</td>\n",
       "    </tr>\n",
       "    <tr>\n",
       "      <th>central Bohemia</th>\n",
       "      <td>4178.0</td>\n",
       "      <td>527.0</td>\n",
       "    </tr>\n",
       "    <tr>\n",
       "      <th>east Bohemia</th>\n",
       "      <td>3427.0</td>\n",
       "      <td>319.0</td>\n",
       "    </tr>\n",
       "    <tr>\n",
       "      <th>north Bohemia</th>\n",
       "      <td>3640.0</td>\n",
       "      <td>304.0</td>\n",
       "    </tr>\n",
       "    <tr>\n",
       "      <th>north Moravia</th>\n",
       "      <td>4329.0</td>\n",
       "      <td>371.0</td>\n",
       "    </tr>\n",
       "    <tr>\n",
       "      <th>south Bohemia</th>\n",
       "      <td>4017.0</td>\n",
       "      <td>638.0</td>\n",
       "    </tr>\n",
       "    <tr>\n",
       "      <th>south Moravia</th>\n",
       "      <td>3805.0</td>\n",
       "      <td>359.0</td>\n",
       "    </tr>\n",
       "    <tr>\n",
       "      <th>west Bohemia</th>\n",
       "      <td>3584.0</td>\n",
       "      <td>312.0</td>\n",
       "    </tr>\n",
       "  </tbody>\n",
       "</table>\n",
       "</div>"
      ],
      "text/plain": [
       "                 median    min\n",
       "A3                            \n",
       "Prague           4050.5  429.0\n",
       "central Bohemia  4178.0  527.0\n",
       "east Bohemia     3427.0  319.0\n",
       "north Bohemia    3640.0  304.0\n",
       "north Moravia    4329.0  371.0\n",
       "south Bohemia    4017.0  638.0\n",
       "south Moravia    3805.0  359.0\n",
       "west Bohemia     3584.0  312.0"
      ]
     },
     "execution_count": 116,
     "metadata": {},
     "output_type": "execute_result"
    }
   ],
   "source": [
    "db3.groupby(\"A3\")[\"loan_emi\"].agg([\"median\", \"min\"])"
   ]
  },
  {
   "cell_type": "code",
   "execution_count": 117,
   "metadata": {},
   "outputs": [
    {
     "data": {
      "text/plain": [
       "A3               loan_status                     \n",
       "Prague           Client in debt. Contract running      4\n",
       "                 Loan repaid. Contract closed         34\n",
       "                 Loan unpaid. Contract closed          3\n",
       "                 No loan                             470\n",
       "                 OK so far. Contract running          43\n",
       "central Bohemia  Client in debt. Contract running      5\n",
       "                 Loan repaid. Contract closed         26\n",
       "                 Loan unpaid. Contract closed          5\n",
       "                 No loan                             484\n",
       "                 OK so far. Contract running          54\n",
       "east Bohemia     Client in debt. Contract running      9\n",
       "                 Loan repaid. Contract closed         19\n",
       "                 No loan                             460\n",
       "                 OK so far. Contract running          56\n",
       "north Bohemia    Loan repaid. Contract closed         19\n",
       "                 Loan unpaid. Contract closed          1\n",
       "                 No loan                             396\n",
       "                 OK so far. Contract running          41\n",
       "north Moravia    Client in debt. Contract running     12\n",
       "                 Loan repaid. Contract closed         35\n",
       "                 Loan unpaid. Contract closed          6\n",
       "                 No loan                             676\n",
       "                 OK so far. Contract running          64\n",
       "south Bohemia    Client in debt. Contract running      4\n",
       "                 Loan repaid. Contract closed         18\n",
       "                 Loan unpaid. Contract closed          5\n",
       "                 No loan                             310\n",
       "                 OK so far. Contract running          33\n",
       "south Moravia    Client in debt. Contract running      7\n",
       "                 Loan repaid. Contract closed         35\n",
       "                 Loan unpaid. Contract closed          6\n",
       "                 No loan                             649\n",
       "                 OK so far. Contract running          81\n",
       "west Bohemia     Client in debt. Contract running      4\n",
       "                 Loan repaid. Contract closed         17\n",
       "                 Loan unpaid. Contract closed          5\n",
       "                 No loan                             373\n",
       "                 OK so far. Contract running          31\n",
       "Name: A3, dtype: int64"
      ]
     },
     "execution_count": 117,
     "metadata": {},
     "output_type": "execute_result"
    }
   ],
   "source": [
    "db3.groupby([\"A3\",\"loan_status\"])[\"A3\"].agg(\"count\")"
   ]
  },
  {
   "cell_type": "code",
   "execution_count": 118,
   "metadata": {},
   "outputs": [
    {
     "data": {
      "text/plain": [
       "<matplotlib.axes._subplots.AxesSubplot at 0x2140991f240>"
      ]
     },
     "execution_count": 118,
     "metadata": {},
     "output_type": "execute_result"
    },
    {
     "data": {
      "image/png": "[encoded data removed]",
      "text/plain": [
       "<Figure size 864x288 with 1 Axes>"
      ]
     },
     "metadata": {
      "needs_background": "light"
     },
     "output_type": "display_data"
    }
   ],
   "source": [
    "# Clients from East Bohemia take low EMI loans which have performed better for the bank   \n",
    "\n",
    "f, (ax2) = plt.subplots(1, 1, figsize=(12, 4))\n",
    "f.suptitle('Loan EMI by Region', fontsize=14)\n",
    "\n",
    "sns.boxplot(x=\"A3\", y=\"loan_emi\", data=db3,  ax=ax2)"
   ]
  },
  {
   "cell_type": "code",
   "execution_count": 119,
   "metadata": {},
   "outputs": [
    {
     "data": {
      "text/html": [
       "<div>\n",
       "<style scoped>\n",
       "    .dataframe tbody tr th:only-of-type {\n",
       "        vertical-align: middle;\n",
       "    }\n",
       "\n",
       "    .dataframe tbody tr th {\n",
       "        vertical-align: top;\n",
       "    }\n",
       "\n",
       "    .dataframe thead th {\n",
       "        text-align: right;\n",
       "    }\n",
       "</style>\n",
       "<table border=\"1\" class=\"dataframe\">\n",
       "  <thead>\n",
       "    <tr style=\"text-align: right;\">\n",
       "      <th></th>\n",
       "      <th>median</th>\n",
       "      <th>min</th>\n",
       "    </tr>\n",
       "    <tr>\n",
       "      <th>A3</th>\n",
       "      <th></th>\n",
       "      <th></th>\n",
       "    </tr>\n",
       "  </thead>\n",
       "  <tbody>\n",
       "    <tr>\n",
       "      <th>Prague</th>\n",
       "      <td>36981.108779</td>\n",
       "      <td>8389.564437</td>\n",
       "    </tr>\n",
       "    <tr>\n",
       "      <th>central Bohemia</th>\n",
       "      <td>35208.169565</td>\n",
       "      <td>7590.814658</td>\n",
       "    </tr>\n",
       "    <tr>\n",
       "      <th>east Bohemia</th>\n",
       "      <td>34428.789101</td>\n",
       "      <td>9889.054642</td>\n",
       "    </tr>\n",
       "    <tr>\n",
       "      <th>north Bohemia</th>\n",
       "      <td>34811.114263</td>\n",
       "      <td>10618.546984</td>\n",
       "    </tr>\n",
       "    <tr>\n",
       "      <th>north Moravia</th>\n",
       "      <td>35125.175234</td>\n",
       "      <td>6629.616848</td>\n",
       "    </tr>\n",
       "    <tr>\n",
       "      <th>south Bohemia</th>\n",
       "      <td>35585.400188</td>\n",
       "      <td>13147.021742</td>\n",
       "    </tr>\n",
       "    <tr>\n",
       "      <th>south Moravia</th>\n",
       "      <td>35124.523976</td>\n",
       "      <td>12142.532468</td>\n",
       "    </tr>\n",
       "    <tr>\n",
       "      <th>west Bohemia</th>\n",
       "      <td>34750.237720</td>\n",
       "      <td>7301.796427</td>\n",
       "    </tr>\n",
       "  </tbody>\n",
       "</table>\n",
       "</div>"
      ],
      "text/plain": [
       "                       median           min\n",
       "A3                                         \n",
       "Prague           36981.108779   8389.564437\n",
       "central Bohemia  35208.169565   7590.814658\n",
       "east Bohemia     34428.789101   9889.054642\n",
       "north Bohemia    34811.114263  10618.546984\n",
       "north Moravia    35125.175234   6629.616848\n",
       "south Bohemia    35585.400188  13147.021742\n",
       "south Moravia    35124.523976  12142.532468\n",
       "west Bohemia     34750.237720   7301.796427"
      ]
     },
     "execution_count": 119,
     "metadata": {},
     "output_type": "execute_result"
    }
   ],
   "source": [
    "db3.groupby(\"A3\")[\"mean_Balance\"].agg([\"median\", \"min\"])"
   ]
  },
  {
   "cell_type": "code",
   "execution_count": 120,
   "metadata": {
    "scrolled": true
   },
   "outputs": [
    {
     "data": {
      "text/plain": [
       "<matplotlib.axes._subplots.AxesSubplot at 0x2140d2d3dd8>"
      ]
     },
     "execution_count": 120,
     "metadata": {},
     "output_type": "execute_result"
    },
    {
     "data": {
      "image/png": "[encoded data removed]",
      "text/plain": [
       "<Figure size 864x288 with 1 Axes>"
      ]
     },
     "metadata": {
      "needs_background": "light"
     },
     "output_type": "display_data"
    }
   ],
   "source": [
    "# There are no large differences in the average Balance maintained by the clients from different regions\n",
    "\n",
    "f, (ax2) = plt.subplots(1, 1, figsize=(12, 4))\n",
    "f.suptitle('mean Balance by Region', fontsize=14)\n",
    "\n",
    "sns.boxplot(x=\"A3\", y=\"mean_Balance\", data=db3,  ax=ax2)"
   ]
  },
  {
   "cell_type": "code",
   "execution_count": 129,
   "metadata": {},
   "outputs": [],
   "source": [
    "# Ratio of Urban inhabitants not linked to mean balance maintained by clients from those regions\n",
    "\n",
    "p = figure(x_axis_label='Urban Inhabitants', y_axis_label='Mean Balance')\n",
    "p.circle(db3[\"A10\"], db3[\"mean_Balance\"])\n",
    "show(p)"
   ]
  },
  {
   "cell_type": "code",
   "execution_count": 122,
   "metadata": {},
   "outputs": [],
   "source": [
    "# Ratio of Urban inhabitants not linked to mean balance maintained by clients from those regions\n",
    "\n",
    "p = figure(x_axis_label='Urban Inhabitants', y_axis_label='Mean Withdrawal')\n",
    "p.circle(db3[\"A10\"], db3[\"mean_Withdrawal\"])\n",
    "show(p)"
   ]
  },
  {
   "cell_type": "code",
   "execution_count": 130,
   "metadata": {},
   "outputs": [],
   "source": [
    "# Ratio of Urban inhabitants not linked to mean balance maintained by clients from those regions\n",
    "\n",
    "p = figure(x_axis_label='Urban Inhabitants', y_axis_label='Mean Credit')\n",
    "p.circle(db3[\"A10\"], db3[\"mean_Credit\"])\n",
    "show(p)"
   ]
  },
  {
   "cell_type": "code",
   "execution_count": 124,
   "metadata": {},
   "outputs": [
    {
     "data": {
      "image/png": "[encoded data removed]",
      "text/plain": [
       "<Figure size 800x640 with 1 Axes>"
      ]
     },
     "metadata": {
      "needs_background": "light"
     },
     "output_type": "display_data"
    }
   ],
   "source": [
    "#Llolipop chart for type of order \n",
    "# Draw plot\n",
    "fig, ax = plt.subplots(figsize=(10,8), dpi= 80)\n",
    "ax.vlines(x=grand_avg['sum_HouseholdPayment':'sum_Missing'].index, ymin=0, ymax=grand_avg['sum_HouseholdPayment':'sum_Missing'], color='firebrick', alpha=0.7, linewidth=2)\n",
    "ax.scatter(x=grand_avg['sum_HouseholdPayment':'sum_Missing'].index, y=grand_avg['sum_HouseholdPayment':'sum_Missing'], s=75, color='firebrick', alpha=0.7)\n",
    "\n",
    "# Title, Label, Ticks and Ylim\n",
    "ax.set_title('Average orders per type', fontdict={'size':22})\n",
    "ax.set_ylabel('Average')\n",
    "ax.set_xticks(grand_avg['sum_HouseholdPayment':'sum_Missing'].index)\n",
    "ax.set_xticklabels(grand_avg['sum_HouseholdPayment':'sum_Missing'].index.str.upper(), rotation=60, fontdict={'horizontalalignment': 'right', 'size':12})\n",
    "ax.set_ylim(0, 4100)\n",
    "\n",
    "plt.show()"
   ]
  },
  {
   "cell_type": "markdown",
   "metadata": {},
   "source": [
    "# 3) Segmentation"
   ]
  },
  {
   "cell_type": "markdown",
   "metadata": {},
   "source": [
    "***Cleaning data:***"
   ]
  },
  {
   "cell_type": "code",
   "execution_count": 161,
   "metadata": {},
   "outputs": [],
   "source": [
    "# Selecting features for segmentation modeling\n",
    "dbc = ['age', 'gender','sum_Credit_1993', 'sum_Credit_1994', 'sum_Credit_1995', 'sum_Credit_1996', 'sum_Credit_1997', 'sum_Credit_1998', 'sum_Withdrawal_1993', 'sum_Withdrawal_1994', 'sum_Withdrawal_1995', 'sum_Withdrawal_1996', 'sum_Withdrawal_1997', 'sum_Withdrawal_1998', 'sum_Credit', 'sum_Withdrawal','mean_Credit', 'mean_Withdrawal', 'Household', 'Insurancepayment', 'Interestcredited', 'Loanpayment', 'trans_k_symbol_missing', 'Oldagepension', 'Paymentforstatement', 'Sanctioninterest', 'AB', 'CD', 'EF', 'GH', 'IJ', 'KL', 'MN', 'OP', 'Otherbank', 'QR', 'ST', 'UV', 'WX', 'YZ', 'count_HouseholdPayment', 'count_InsurancePayment', 'count_Leasing', 'count_LoanPayment', 'count_Missing', 'sum_HouseholdPayment', 'sum_InsurancePayment', 'sum_Leasing', 'sum_LoanPayment', 'sum_Missing', 'loan_amount', 'loan_duration', 'count_DISPONENT','card_type','A3','mean_Balance']"
   ]
  },
  {
   "cell_type": "code",
   "execution_count": 162,
   "metadata": {},
   "outputs": [],
   "source": [
    "db_clustering = db2[dbc]"
   ]
  },
  {
   "cell_type": "code",
   "execution_count": 163,
   "metadata": {},
   "outputs": [],
   "source": [
    "db_clustering = pd.DataFrame(db_clustering)"
   ]
  },
  {
   "cell_type": "code",
   "execution_count": 164,
   "metadata": {},
   "outputs": [],
   "source": [
    "db_clustering['card_type'] = pd.Categorical(db_clustering['card_type'])\n",
    "db_clustering_card_type = pd.get_dummies(db_clustering['card_type'],prefix=['card_type'])"
   ]
  },
  {
   "cell_type": "code",
   "execution_count": 165,
   "metadata": {},
   "outputs": [],
   "source": [
    "# Transforming gender features\n",
    "db_clustering['gender'] = pd.Categorical(db_clustering['gender'])\n",
    "db_clustering_gender = pd.get_dummies(db_clustering['gender'],prefix=['gender'])"
   ]
  },
  {
   "cell_type": "code",
   "execution_count": 166,
   "metadata": {},
   "outputs": [],
   "source": [
    "# Transforming A3 feature\n",
    "db_clustering['A3'] = pd.Categorical(db_clustering['A3'])\n",
    "db_clustering_region = pd.get_dummies(db_clustering['A3'],prefix=['A3'])"
   ]
  },
  {
   "cell_type": "code",
   "execution_count": 167,
   "metadata": {},
   "outputs": [],
   "source": [
    "db_clustering = db_clustering.drop(columns=['card_type','gender','A3'])"
   ]
  },
  {
   "cell_type": "code",
   "execution_count": 168,
   "metadata": {},
   "outputs": [],
   "source": [
    "db_clustering_final = pd.concat([db_clustering, db_clustering_card_type, db_clustering_gender,db_clustering_region], axis=1)"
   ]
  },
  {
   "cell_type": "code",
   "execution_count": 169,
   "metadata": {},
   "outputs": [],
   "source": [
    "db_clustering_final = db_clustering_final.fillna(0)"
   ]
  },
  {
   "cell_type": "code",
   "execution_count": 170,
   "metadata": {},
   "outputs": [],
   "source": [
    "db_clustering_final2 = db_clustering_final"
   ]
  },
  {
   "cell_type": "code",
   "execution_count": 171,
   "metadata": {},
   "outputs": [
    {
     "data": {
      "text/html": [
       "<div>\n",
       "<style scoped>\n",
       "    .dataframe tbody tr th:only-of-type {\n",
       "        vertical-align: middle;\n",
       "    }\n",
       "\n",
       "    .dataframe tbody tr th {\n",
       "        vertical-align: top;\n",
       "    }\n",
       "\n",
       "    .dataframe thead th {\n",
       "        text-align: right;\n",
       "    }\n",
       "</style>\n",
       "<table border=\"1\" class=\"dataframe\">\n",
       "  <thead>\n",
       "    <tr style=\"text-align: right;\">\n",
       "      <th></th>\n",
       "      <th>age</th>\n",
       "      <th>sum_Credit_1993</th>\n",
       "      <th>sum_Credit_1994</th>\n",
       "      <th>sum_Credit_1995</th>\n",
       "      <th>sum_Credit_1996</th>\n",
       "      <th>sum_Credit_1997</th>\n",
       "      <th>sum_Credit_1998</th>\n",
       "      <th>sum_Withdrawal_1993</th>\n",
       "      <th>sum_Withdrawal_1994</th>\n",
       "      <th>sum_Withdrawal_1995</th>\n",
       "      <th>...</th>\n",
       "      <th>['gender']_F</th>\n",
       "      <th>['gender']_M</th>\n",
       "      <th>['A3']_Prague</th>\n",
       "      <th>['A3']_central Bohemia</th>\n",
       "      <th>['A3']_east Bohemia</th>\n",
       "      <th>['A3']_north Bohemia</th>\n",
       "      <th>['A3']_north Moravia</th>\n",
       "      <th>['A3']_south Bohemia</th>\n",
       "      <th>['A3']_south Moravia</th>\n",
       "      <th>['A3']_west Bohemia</th>\n",
       "    </tr>\n",
       "  </thead>\n",
       "  <tbody>\n",
       "    <tr>\n",
       "      <th>0</th>\n",
       "      <td>29</td>\n",
       "      <td>0.0</td>\n",
       "      <td>0.0</td>\n",
       "      <td>49564.1</td>\n",
       "      <td>50066.0</td>\n",
       "      <td>49275.1</td>\n",
       "      <td>45415.3</td>\n",
       "      <td>0.0</td>\n",
       "      <td>0.0</td>\n",
       "      <td>31391.0</td>\n",
       "      <td>...</td>\n",
       "      <td>1</td>\n",
       "      <td>0</td>\n",
       "      <td>0</td>\n",
       "      <td>0</td>\n",
       "      <td>0</td>\n",
       "      <td>0</td>\n",
       "      <td>0</td>\n",
       "      <td>1</td>\n",
       "      <td>0</td>\n",
       "      <td>0</td>\n",
       "    </tr>\n",
       "    <tr>\n",
       "      <th>1</th>\n",
       "      <td>54</td>\n",
       "      <td>228685.3</td>\n",
       "      <td>264653.2</td>\n",
       "      <td>265361.8</td>\n",
       "      <td>288542.9</td>\n",
       "      <td>281578.0</td>\n",
       "      <td>268232.3</td>\n",
       "      <td>200844.6</td>\n",
       "      <td>259580.6</td>\n",
       "      <td>258853.6</td>\n",
       "      <td>...</td>\n",
       "      <td>0</td>\n",
       "      <td>1</td>\n",
       "      <td>1</td>\n",
       "      <td>0</td>\n",
       "      <td>0</td>\n",
       "      <td>0</td>\n",
       "      <td>0</td>\n",
       "      <td>0</td>\n",
       "      <td>0</td>\n",
       "      <td>0</td>\n",
       "    </tr>\n",
       "    <tr>\n",
       "      <th>3</th>\n",
       "      <td>43</td>\n",
       "      <td>0.0</td>\n",
       "      <td>0.0</td>\n",
       "      <td>0.0</td>\n",
       "      <td>0.0</td>\n",
       "      <td>58139.7</td>\n",
       "      <td>114919.3</td>\n",
       "      <td>0.0</td>\n",
       "      <td>0.0</td>\n",
       "      <td>0.0</td>\n",
       "      <td>...</td>\n",
       "      <td>0</td>\n",
       "      <td>1</td>\n",
       "      <td>0</td>\n",
       "      <td>1</td>\n",
       "      <td>0</td>\n",
       "      <td>0</td>\n",
       "      <td>0</td>\n",
       "      <td>0</td>\n",
       "      <td>0</td>\n",
       "      <td>0</td>\n",
       "    </tr>\n",
       "    <tr>\n",
       "      <th>5</th>\n",
       "      <td>80</td>\n",
       "      <td>0.0</td>\n",
       "      <td>0.0</td>\n",
       "      <td>0.0</td>\n",
       "      <td>56920.5</td>\n",
       "      <td>67644.8</td>\n",
       "      <td>67780.7</td>\n",
       "      <td>0.0</td>\n",
       "      <td>0.0</td>\n",
       "      <td>0.0</td>\n",
       "      <td>...</td>\n",
       "      <td>0</td>\n",
       "      <td>1</td>\n",
       "      <td>0</td>\n",
       "      <td>1</td>\n",
       "      <td>0</td>\n",
       "      <td>0</td>\n",
       "      <td>0</td>\n",
       "      <td>0</td>\n",
       "      <td>0</td>\n",
       "      <td>0</td>\n",
       "    </tr>\n",
       "    <tr>\n",
       "      <th>6</th>\n",
       "      <td>70</td>\n",
       "      <td>0.0</td>\n",
       "      <td>0.0</td>\n",
       "      <td>0.0</td>\n",
       "      <td>0.0</td>\n",
       "      <td>35950.9</td>\n",
       "      <td>61534.1</td>\n",
       "      <td>0.0</td>\n",
       "      <td>0.0</td>\n",
       "      <td>0.0</td>\n",
       "      <td>...</td>\n",
       "      <td>0</td>\n",
       "      <td>1</td>\n",
       "      <td>0</td>\n",
       "      <td>0</td>\n",
       "      <td>0</td>\n",
       "      <td>0</td>\n",
       "      <td>0</td>\n",
       "      <td>1</td>\n",
       "      <td>0</td>\n",
       "      <td>0</td>\n",
       "    </tr>\n",
       "  </tbody>\n",
       "</table>\n",
       "<p>5 rows × 66 columns</p>\n",
       "</div>"
      ],
      "text/plain": [
       "   age  sum_Credit_1993  sum_Credit_1994  sum_Credit_1995  sum_Credit_1996  \\\n",
       "0   29              0.0              0.0          49564.1          50066.0   \n",
       "1   54         228685.3         264653.2         265361.8         288542.9   \n",
       "3   43              0.0              0.0              0.0              0.0   \n",
       "5   80              0.0              0.0              0.0          56920.5   \n",
       "6   70              0.0              0.0              0.0              0.0   \n",
       "\n",
       "   sum_Credit_1997  sum_Credit_1998  sum_Withdrawal_1993  sum_Withdrawal_1994  \\\n",
       "0          49275.1          45415.3                  0.0                  0.0   \n",
       "1         281578.0         268232.3             200844.6             259580.6   \n",
       "3          58139.7         114919.3                  0.0                  0.0   \n",
       "5          67644.8          67780.7                  0.0                  0.0   \n",
       "6          35950.9          61534.1                  0.0                  0.0   \n",
       "\n",
       "   sum_Withdrawal_1995  ...  ['gender']_F  ['gender']_M  ['A3']_Prague  \\\n",
       "0              31391.0  ...             1             0              0   \n",
       "1             258853.6  ...             0             1              1   \n",
       "3                  0.0  ...             0             1              0   \n",
       "5                  0.0  ...             0             1              0   \n",
       "6                  0.0  ...             0             1              0   \n",
       "\n",
       "   ['A3']_central Bohemia  ['A3']_east Bohemia  ['A3']_north Bohemia  \\\n",
       "0                       0                    0                     0   \n",
       "1                       0                    0                     0   \n",
       "3                       1                    0                     0   \n",
       "5                       1                    0                     0   \n",
       "6                       0                    0                     0   \n",
       "\n",
       "   ['A3']_north Moravia  ['A3']_south Bohemia  ['A3']_south Moravia  \\\n",
       "0                     0                     1                     0   \n",
       "1                     0                     0                     0   \n",
       "3                     0                     0                     0   \n",
       "5                     0                     0                     0   \n",
       "6                     0                     1                     0   \n",
       "\n",
       "   ['A3']_west Bohemia  \n",
       "0                    0  \n",
       "1                    0  \n",
       "3                    0  \n",
       "5                    0  \n",
       "6                    0  \n",
       "\n",
       "[5 rows x 66 columns]"
      ]
     },
     "execution_count": 171,
     "metadata": {},
     "output_type": "execute_result"
    }
   ],
   "source": [
    "pd.DataFrame(db_clustering_final2).head()"
   ]
  },
  {
   "cell_type": "code",
   "execution_count": 172,
   "metadata": {},
   "outputs": [],
   "source": [
    "db_clustering_final = db_clustering_final.values"
   ]
  },
  {
   "cell_type": "code",
   "execution_count": 173,
   "metadata": {},
   "outputs": [],
   "source": [
    "# Eliminating indexes in order to get a propper format for the modeling\n",
    "db_clustering_final3 = db_clustering_final2.reset_index()"
   ]
  },
  {
   "cell_type": "code",
   "execution_count": 174,
   "metadata": {},
   "outputs": [
    {
     "data": {
      "text/html": [
       "<div>\n",
       "<style scoped>\n",
       "    .dataframe tbody tr th:only-of-type {\n",
       "        vertical-align: middle;\n",
       "    }\n",
       "\n",
       "    .dataframe tbody tr th {\n",
       "        vertical-align: top;\n",
       "    }\n",
       "\n",
       "    .dataframe thead th {\n",
       "        text-align: right;\n",
       "    }\n",
       "</style>\n",
       "<table border=\"1\" class=\"dataframe\">\n",
       "  <thead>\n",
       "    <tr style=\"text-align: right;\">\n",
       "      <th></th>\n",
       "      <th>index</th>\n",
       "      <th>age</th>\n",
       "      <th>sum_Credit_1993</th>\n",
       "      <th>sum_Credit_1994</th>\n",
       "      <th>sum_Credit_1995</th>\n",
       "      <th>sum_Credit_1996</th>\n",
       "      <th>sum_Credit_1997</th>\n",
       "      <th>sum_Credit_1998</th>\n",
       "      <th>sum_Withdrawal_1993</th>\n",
       "      <th>sum_Withdrawal_1994</th>\n",
       "      <th>...</th>\n",
       "      <th>['gender']_F</th>\n",
       "      <th>['gender']_M</th>\n",
       "      <th>['A3']_Prague</th>\n",
       "      <th>['A3']_central Bohemia</th>\n",
       "      <th>['A3']_east Bohemia</th>\n",
       "      <th>['A3']_north Bohemia</th>\n",
       "      <th>['A3']_north Moravia</th>\n",
       "      <th>['A3']_south Bohemia</th>\n",
       "      <th>['A3']_south Moravia</th>\n",
       "      <th>['A3']_west Bohemia</th>\n",
       "    </tr>\n",
       "  </thead>\n",
       "  <tbody>\n",
       "    <tr>\n",
       "      <th>0</th>\n",
       "      <td>0</td>\n",
       "      <td>29</td>\n",
       "      <td>0.0</td>\n",
       "      <td>0.0</td>\n",
       "      <td>49564.1</td>\n",
       "      <td>50066.0</td>\n",
       "      <td>49275.1</td>\n",
       "      <td>45415.3</td>\n",
       "      <td>0.0</td>\n",
       "      <td>0.0</td>\n",
       "      <td>...</td>\n",
       "      <td>1</td>\n",
       "      <td>0</td>\n",
       "      <td>0</td>\n",
       "      <td>0</td>\n",
       "      <td>0</td>\n",
       "      <td>0</td>\n",
       "      <td>0</td>\n",
       "      <td>1</td>\n",
       "      <td>0</td>\n",
       "      <td>0</td>\n",
       "    </tr>\n",
       "    <tr>\n",
       "      <th>1</th>\n",
       "      <td>1</td>\n",
       "      <td>54</td>\n",
       "      <td>228685.3</td>\n",
       "      <td>264653.2</td>\n",
       "      <td>265361.8</td>\n",
       "      <td>288542.9</td>\n",
       "      <td>281578.0</td>\n",
       "      <td>268232.3</td>\n",
       "      <td>200844.6</td>\n",
       "      <td>259580.6</td>\n",
       "      <td>...</td>\n",
       "      <td>0</td>\n",
       "      <td>1</td>\n",
       "      <td>1</td>\n",
       "      <td>0</td>\n",
       "      <td>0</td>\n",
       "      <td>0</td>\n",
       "      <td>0</td>\n",
       "      <td>0</td>\n",
       "      <td>0</td>\n",
       "      <td>0</td>\n",
       "    </tr>\n",
       "    <tr>\n",
       "      <th>2</th>\n",
       "      <td>3</td>\n",
       "      <td>43</td>\n",
       "      <td>0.0</td>\n",
       "      <td>0.0</td>\n",
       "      <td>0.0</td>\n",
       "      <td>0.0</td>\n",
       "      <td>58139.7</td>\n",
       "      <td>114919.3</td>\n",
       "      <td>0.0</td>\n",
       "      <td>0.0</td>\n",
       "      <td>...</td>\n",
       "      <td>0</td>\n",
       "      <td>1</td>\n",
       "      <td>0</td>\n",
       "      <td>1</td>\n",
       "      <td>0</td>\n",
       "      <td>0</td>\n",
       "      <td>0</td>\n",
       "      <td>0</td>\n",
       "      <td>0</td>\n",
       "      <td>0</td>\n",
       "    </tr>\n",
       "    <tr>\n",
       "      <th>3</th>\n",
       "      <td>5</td>\n",
       "      <td>80</td>\n",
       "      <td>0.0</td>\n",
       "      <td>0.0</td>\n",
       "      <td>0.0</td>\n",
       "      <td>56920.5</td>\n",
       "      <td>67644.8</td>\n",
       "      <td>67780.7</td>\n",
       "      <td>0.0</td>\n",
       "      <td>0.0</td>\n",
       "      <td>...</td>\n",
       "      <td>0</td>\n",
       "      <td>1</td>\n",
       "      <td>0</td>\n",
       "      <td>1</td>\n",
       "      <td>0</td>\n",
       "      <td>0</td>\n",
       "      <td>0</td>\n",
       "      <td>0</td>\n",
       "      <td>0</td>\n",
       "      <td>0</td>\n",
       "    </tr>\n",
       "    <tr>\n",
       "      <th>4</th>\n",
       "      <td>6</td>\n",
       "      <td>70</td>\n",
       "      <td>0.0</td>\n",
       "      <td>0.0</td>\n",
       "      <td>0.0</td>\n",
       "      <td>0.0</td>\n",
       "      <td>35950.9</td>\n",
       "      <td>61534.1</td>\n",
       "      <td>0.0</td>\n",
       "      <td>0.0</td>\n",
       "      <td>...</td>\n",
       "      <td>0</td>\n",
       "      <td>1</td>\n",
       "      <td>0</td>\n",
       "      <td>0</td>\n",
       "      <td>0</td>\n",
       "      <td>0</td>\n",
       "      <td>0</td>\n",
       "      <td>1</td>\n",
       "      <td>0</td>\n",
       "      <td>0</td>\n",
       "    </tr>\n",
       "  </tbody>\n",
       "</table>\n",
       "<p>5 rows × 67 columns</p>\n",
       "</div>"
      ],
      "text/plain": [
       "   index  age  sum_Credit_1993  sum_Credit_1994  sum_Credit_1995  \\\n",
       "0      0   29              0.0              0.0          49564.1   \n",
       "1      1   54         228685.3         264653.2         265361.8   \n",
       "2      3   43              0.0              0.0              0.0   \n",
       "3      5   80              0.0              0.0              0.0   \n",
       "4      6   70              0.0              0.0              0.0   \n",
       "\n",
       "   sum_Credit_1996  sum_Credit_1997  sum_Credit_1998  sum_Withdrawal_1993  \\\n",
       "0          50066.0          49275.1          45415.3                  0.0   \n",
       "1         288542.9         281578.0         268232.3             200844.6   \n",
       "2              0.0          58139.7         114919.3                  0.0   \n",
       "3          56920.5          67644.8          67780.7                  0.0   \n",
       "4              0.0          35950.9          61534.1                  0.0   \n",
       "\n",
       "   sum_Withdrawal_1994  ...  ['gender']_F  ['gender']_M  ['A3']_Prague  \\\n",
       "0                  0.0  ...             1             0              0   \n",
       "1             259580.6  ...             0             1              1   \n",
       "2                  0.0  ...             0             1              0   \n",
       "3                  0.0  ...             0             1              0   \n",
       "4                  0.0  ...             0             1              0   \n",
       "\n",
       "   ['A3']_central Bohemia  ['A3']_east Bohemia  ['A3']_north Bohemia  \\\n",
       "0                       0                    0                     0   \n",
       "1                       0                    0                     0   \n",
       "2                       1                    0                     0   \n",
       "3                       1                    0                     0   \n",
       "4                       0                    0                     0   \n",
       "\n",
       "   ['A3']_north Moravia  ['A3']_south Bohemia  ['A3']_south Moravia  \\\n",
       "0                     0                     1                     0   \n",
       "1                     0                     0                     0   \n",
       "2                     0                     0                     0   \n",
       "3                     0                     0                     0   \n",
       "4                     0                     1                     0   \n",
       "\n",
       "   ['A3']_west Bohemia  \n",
       "0                    0  \n",
       "1                    0  \n",
       "2                    0  \n",
       "3                    0  \n",
       "4                    0  \n",
       "\n",
       "[5 rows x 67 columns]"
      ]
     },
     "execution_count": 174,
     "metadata": {},
     "output_type": "execute_result"
    }
   ],
   "source": [
    "db_clustering_final3.head()"
   ]
  },
  {
   "cell_type": "markdown",
   "metadata": {},
   "source": [
    "***Segmentation by...***"
   ]
  },
  {
   "cell_type": "code",
   "execution_count": 175,
   "metadata": {},
   "outputs": [
    {
     "name": "stderr",
     "output_type": "stream",
     "text": [
      "C:\\ProgramData\\Anaconda3\\lib\\site-packages\\pandas\\core\\indexing.py:1494: FutureWarning: \n",
      "Passing list-likes to .loc or [] with any missing label will raise\n",
      "KeyError in the future, you can use .reindex() as an alternative.\n",
      "\n",
      "See the documentation here:\n",
      "https://pandas.pydata.org/pandas-docs/stable/indexing.html#deprecate-loc-reindex-listlike\n",
      "  return self._getitem_tuple(key)\n"
     ]
    }
   ],
   "source": [
    "# Feature selection per model\n",
    "cluster_demographic = db_clustering_final2.loc[:,['gender', 'age' , 'A3']]\n",
    "cluster_behaviour = db_clustering_final2.loc[:,['sum_Credit_1993', 'sum_Credit_1994', 'sum_Credit_1995', 'sum_Credit_1996', 'sum_Credit_1997', 'sum_Credit_1998', 'sum_Withdrawal_1993', 'sum_Withdrawal_1994', 'sum_Withdrawal_1995', 'sum_Withdrawal_1996', 'sum_Withdrawal_1997', 'sum_Withdrawal_1998', 'mean_Credit_1993', 'mean_Credit_1994', 'mean_Credit_1995', 'mean_Credit_1996', 'mean_Credit_1997', 'mean_Credit_1998', 'mean_Withdrawal_1993', 'mean_Withdrawal_1994', 'mean_Withdrawal_1995', 'mean_Withdrawal_1996', 'mean_Withdrawal_1997', 'mean_Withdrawal_1998','sum_Credit', 'sum_Withdrawal', 'mean_Credit', 'mean_Withdrawal','mean_Balance']]"
   ]
  },
  {
   "cell_type": "code",
   "execution_count": 176,
   "metadata": {},
   "outputs": [],
   "source": [
    "# Eliminating NAs\n",
    "cluster_demographic = cluster_demographic.fillna(0)\n",
    "cluster_behaviour = cluster_behaviour.fillna(0)"
   ]
  },
  {
   "cell_type": "code",
   "execution_count": 177,
   "metadata": {},
   "outputs": [],
   "source": [
    "# Transforming into values in order to model the database\n",
    "cluster_demographic = cluster_demographic.values"
   ]
  },
  {
   "cell_type": "code",
   "execution_count": 178,
   "metadata": {},
   "outputs": [],
   "source": [
    "cluster_behaviour = cluster_behaviour.values"
   ]
  },
  {
   "cell_type": "markdown",
   "metadata": {},
   "source": [
    "***a) every feature:***"
   ]
  },
  {
   "cell_type": "code",
   "execution_count": 181,
   "metadata": {},
   "outputs": [
    {
     "data": {
      "image/png": "[encoded data removed]",
      "text/plain": [
       "<Figure size 432x288 with 1 Axes>"
      ]
     },
     "metadata": {},
     "output_type": "display_data"
    }
   ],
   "source": [
    "# Creating dendrogram\n",
    "dendrogram = sch.dendrogram(sch.linkage(db_clustering_final3, method='ward'))"
   ]
  },
  {
   "cell_type": "code",
   "execution_count": 184,
   "metadata": {},
   "outputs": [],
   "source": [
    "# Creating clusters\n",
    "hc = AgglomerativeClustering(n_clusters=5, affinity = 'euclidean', linkage = 'ward')"
   ]
  },
  {
   "cell_type": "code",
   "execution_count": 185,
   "metadata": {},
   "outputs": [],
   "source": [
    "hc.fit(db_clustering_final)\n",
    "labels = hc.labels_"
   ]
  },
  {
   "cell_type": "code",
   "execution_count": 186,
   "metadata": {},
   "outputs": [],
   "source": [
    "# Saving clusters for chart\n",
    "y_hc = hc.fit_predict(db_clustering_final)"
   ]
  },
  {
   "cell_type": "code",
   "execution_count": 187,
   "metadata": {},
   "outputs": [
    {
     "data": {
      "image/png": "[encoded data removed]",
      "text/plain": [
       "<Figure size 432x288 with 1 Axes>"
      ]
     },
     "metadata": {},
     "output_type": "display_data"
    }
   ],
   "source": [
    "plt.scatter(db_clustering_final[y_hc ==0,0], db_clustering_final[y_hc == 0,1], s=100, c='red')\n",
    "plt.scatter(db_clustering_final[y_hc==1,0], db_clustering_final[y_hc == 1,1], s=100, c='black')\n",
    "plt.scatter(db_clustering_final[y_hc ==2,0], db_clustering_final[y_hc == 2,1], s=100, c='blue')\n",
    "plt.scatter(db_clustering_final[y_hc ==3,0], db_clustering_final[y_hc == 3,1], s=100, c='cyan')\n",
    "plt.scatter(db_clustering_final[y_hc ==4,0], db_clustering_final[y_hc == 4,1], s=100, c='yellow')\n",
    "plt.scatter(db_clustering_final[y_hc ==5,0], db_clustering_final[y_hc == 5,1], s=100, c='magenta')\n",
    "plt.scatter(db_clustering_final[y_hc ==6,0], db_clustering_final[y_hc == 6,1], s=100, c='maroon')\n",
    "plt.scatter(db_clustering_final[y_hc ==7,0], db_clustering_final[y_hc == 7,1], s=100, c='olive')\n",
    "plt.scatter(db_clustering_final[y_hc ==8,0], db_clustering_final[y_hc == 8,1], s=100, c='green')\n",
    "plt.scatter(db_clustering_final[y_hc ==9,0], db_clustering_final[y_hc == 9,1], s=100, c='purple')\n",
    "plt.scatter(db_clustering_final[y_hc ==10,0], db_clustering_final[y_hc == 10,1], s=100, c='teal')\n",
    "plt.scatter(db_clustering_final[y_hc ==11,0], db_clustering_final[y_hc == 11,1], s=100, c='khaki')\n",
    "plt.scatter(db_clustering_final[y_hc ==12,0], db_clustering_final[y_hc == 12,1], s=100, c='turquoise')\n",
    "\n",
    "plt.show()"
   ]
  },
  {
   "cell_type": "code",
   "execution_count": 188,
   "metadata": {},
   "outputs": [],
   "source": [
    "labels_cluster = pd.DataFrame(labels)"
   ]
  },
  {
   "cell_type": "code",
   "execution_count": 189,
   "metadata": {},
   "outputs": [],
   "source": [
    "labels_cluster.columns = ['num Cluster']"
   ]
  },
  {
   "cell_type": "code",
   "execution_count": 190,
   "metadata": {},
   "outputs": [
    {
     "data": {
      "text/html": [
       "<div>\n",
       "<style scoped>\n",
       "    .dataframe tbody tr th:only-of-type {\n",
       "        vertical-align: middle;\n",
       "    }\n",
       "\n",
       "    .dataframe tbody tr th {\n",
       "        vertical-align: top;\n",
       "    }\n",
       "\n",
       "    .dataframe thead th {\n",
       "        text-align: right;\n",
       "    }\n",
       "</style>\n",
       "<table border=\"1\" class=\"dataframe\">\n",
       "  <thead>\n",
       "    <tr style=\"text-align: right;\">\n",
       "      <th></th>\n",
       "      <th>num Cluster</th>\n",
       "    </tr>\n",
       "  </thead>\n",
       "  <tbody>\n",
       "    <tr>\n",
       "      <th>0</th>\n",
       "      <td>1</td>\n",
       "    </tr>\n",
       "    <tr>\n",
       "      <th>1</th>\n",
       "      <td>0</td>\n",
       "    </tr>\n",
       "    <tr>\n",
       "      <th>2</th>\n",
       "      <td>1</td>\n",
       "    </tr>\n",
       "    <tr>\n",
       "      <th>3</th>\n",
       "      <td>1</td>\n",
       "    </tr>\n",
       "    <tr>\n",
       "      <th>4</th>\n",
       "      <td>1</td>\n",
       "    </tr>\n",
       "  </tbody>\n",
       "</table>\n",
       "</div>"
      ],
      "text/plain": [
       "   num Cluster\n",
       "0            1\n",
       "1            0\n",
       "2            1\n",
       "3            1\n",
       "4            1"
      ]
     },
     "execution_count": 190,
     "metadata": {},
     "output_type": "execute_result"
    }
   ],
   "source": [
    "labels_cluster.head()"
   ]
  },
  {
   "cell_type": "code",
   "execution_count": 191,
   "metadata": {},
   "outputs": [],
   "source": [
    "db_cluster = pd.concat([db_clustering_final3,labels_cluster], axis = 1)"
   ]
  },
  {
   "cell_type": "code",
   "execution_count": 192,
   "metadata": {},
   "outputs": [
    {
     "data": {
      "text/html": [
       "<div>\n",
       "<style scoped>\n",
       "    .dataframe tbody tr th:only-of-type {\n",
       "        vertical-align: middle;\n",
       "    }\n",
       "\n",
       "    .dataframe tbody tr th {\n",
       "        vertical-align: top;\n",
       "    }\n",
       "\n",
       "    .dataframe thead th {\n",
       "        text-align: right;\n",
       "    }\n",
       "</style>\n",
       "<table border=\"1\" class=\"dataframe\">\n",
       "  <thead>\n",
       "    <tr style=\"text-align: right;\">\n",
       "      <th></th>\n",
       "      <th>sum_Credit_1993</th>\n",
       "      <th>sum_Credit_1994</th>\n",
       "      <th>sum_Credit_1995</th>\n",
       "      <th>sum_Credit_1996</th>\n",
       "      <th>sum_Credit_1997</th>\n",
       "      <th>sum_Credit_1998</th>\n",
       "      <th>sum_Withdrawal_1993</th>\n",
       "      <th>sum_Withdrawal_1994</th>\n",
       "      <th>sum_Withdrawal_1995</th>\n",
       "      <th>sum_Withdrawal_1996</th>\n",
       "      <th>sum_Withdrawal_1997</th>\n",
       "      <th>sum_Withdrawal_1998</th>\n",
       "      <th>sum_Credit</th>\n",
       "      <th>sum_Withdrawal</th>\n",
       "      <th>mean_Credit</th>\n",
       "      <th>mean_Withdrawal</th>\n",
       "      <th>Household</th>\n",
       "      <th>Insurancepayment</th>\n",
       "      <th>Interestcredited</th>\n",
       "      <th>Loanpayment</th>\n",
       "    </tr>\n",
       "    <tr>\n",
       "      <th>num Cluster</th>\n",
       "      <th></th>\n",
       "      <th></th>\n",
       "      <th></th>\n",
       "      <th></th>\n",
       "      <th></th>\n",
       "      <th></th>\n",
       "      <th></th>\n",
       "      <th></th>\n",
       "      <th></th>\n",
       "      <th></th>\n",
       "      <th></th>\n",
       "      <th></th>\n",
       "      <th></th>\n",
       "      <th></th>\n",
       "      <th></th>\n",
       "      <th></th>\n",
       "      <th></th>\n",
       "      <th></th>\n",
       "      <th></th>\n",
       "      <th></th>\n",
       "    </tr>\n",
       "  </thead>\n",
       "  <tbody>\n",
       "    <tr>\n",
       "      <th>0</th>\n",
       "      <td>54147.689870</td>\n",
       "      <td>126593.138701</td>\n",
       "      <td>178605.217403</td>\n",
       "      <td>292817.813506</td>\n",
       "      <td>399428.247792</td>\n",
       "      <td>390709.162078</td>\n",
       "      <td>38246.597792</td>\n",
       "      <td>119204.542857</td>\n",
       "      <td>169699.092338</td>\n",
       "      <td>278243.954416</td>\n",
       "      <td>394286.792727</td>\n",
       "      <td>383592.298961</td>\n",
       "      <td>1.442301e+06</td>\n",
       "      <td>1.383273e+06</td>\n",
       "      <td>57297.733177</td>\n",
       "      <td>47070.984982</td>\n",
       "      <td>31.806494</td>\n",
       "      <td>6.016883</td>\n",
       "      <td>51.874026</td>\n",
       "      <td>6.857143</td>\n",
       "    </tr>\n",
       "    <tr>\n",
       "      <th>1</th>\n",
       "      <td>5435.268394</td>\n",
       "      <td>12976.497749</td>\n",
       "      <td>19535.508581</td>\n",
       "      <td>36652.237298</td>\n",
       "      <td>77580.147536</td>\n",
       "      <td>99990.650637</td>\n",
       "      <td>2002.723704</td>\n",
       "      <td>10719.111088</td>\n",
       "      <td>16469.182116</td>\n",
       "      <td>28676.219244</td>\n",
       "      <td>65560.301529</td>\n",
       "      <td>95748.039210</td>\n",
       "      <td>2.521703e+05</td>\n",
       "      <td>2.191756e+05</td>\n",
       "      <td>28445.985947</td>\n",
       "      <td>26864.071486</td>\n",
       "      <td>23.189890</td>\n",
       "      <td>2.111300</td>\n",
       "      <td>33.166950</td>\n",
       "      <td>0.523789</td>\n",
       "    </tr>\n",
       "    <tr>\n",
       "      <th>2</th>\n",
       "      <td>126563.470588</td>\n",
       "      <td>311340.974866</td>\n",
       "      <td>473816.149198</td>\n",
       "      <td>442349.812299</td>\n",
       "      <td>476505.400535</td>\n",
       "      <td>501975.864171</td>\n",
       "      <td>100150.141711</td>\n",
       "      <td>299481.598396</td>\n",
       "      <td>465127.209091</td>\n",
       "      <td>440735.762032</td>\n",
       "      <td>472955.981818</td>\n",
       "      <td>488981.382888</td>\n",
       "      <td>2.332552e+06</td>\n",
       "      <td>2.267432e+06</td>\n",
       "      <td>63799.008060</td>\n",
       "      <td>50566.371966</td>\n",
       "      <td>27.320856</td>\n",
       "      <td>6.080214</td>\n",
       "      <td>65.636364</td>\n",
       "      <td>11.786096</td>\n",
       "    </tr>\n",
       "    <tr>\n",
       "      <th>3</th>\n",
       "      <td>16915.024436</td>\n",
       "      <td>42955.196393</td>\n",
       "      <td>71954.001172</td>\n",
       "      <td>148751.133814</td>\n",
       "      <td>215992.108566</td>\n",
       "      <td>257865.746889</td>\n",
       "      <td>10050.262128</td>\n",
       "      <td>38975.777728</td>\n",
       "      <td>64133.536519</td>\n",
       "      <td>131603.370063</td>\n",
       "      <td>208852.214608</td>\n",
       "      <td>250199.369252</td>\n",
       "      <td>7.544332e+05</td>\n",
       "      <td>7.038145e+05</td>\n",
       "      <td>44645.042668</td>\n",
       "      <td>38749.064339</td>\n",
       "      <td>28.041479</td>\n",
       "      <td>6.489630</td>\n",
       "      <td>42.566276</td>\n",
       "      <td>3.743012</td>\n",
       "    </tr>\n",
       "    <tr>\n",
       "      <th>4</th>\n",
       "      <td>294097.041250</td>\n",
       "      <td>558173.585000</td>\n",
       "      <td>551925.416250</td>\n",
       "      <td>591718.417500</td>\n",
       "      <td>573339.378750</td>\n",
       "      <td>561220.448750</td>\n",
       "      <td>247852.277500</td>\n",
       "      <td>550098.681250</td>\n",
       "      <td>551544.788750</td>\n",
       "      <td>587038.746250</td>\n",
       "      <td>570587.870000</td>\n",
       "      <td>551893.768750</td>\n",
       "      <td>3.130474e+06</td>\n",
       "      <td>3.059016e+06</td>\n",
       "      <td>72736.072173</td>\n",
       "      <td>57498.372197</td>\n",
       "      <td>34.725000</td>\n",
       "      <td>7.037500</td>\n",
       "      <td>70.200000</td>\n",
       "      <td>8.900000</td>\n",
       "    </tr>\n",
       "  </tbody>\n",
       "</table>\n",
       "</div>"
      ],
      "text/plain": [
       "             sum_Credit_1993  sum_Credit_1994  sum_Credit_1995  \\\n",
       "num Cluster                                                      \n",
       "0               54147.689870    126593.138701    178605.217403   \n",
       "1                5435.268394     12976.497749     19535.508581   \n",
       "2              126563.470588    311340.974866    473816.149198   \n",
       "3               16915.024436     42955.196393     71954.001172   \n",
       "4              294097.041250    558173.585000    551925.416250   \n",
       "\n",
       "             sum_Credit_1996  sum_Credit_1997  sum_Credit_1998  \\\n",
       "num Cluster                                                      \n",
       "0              292817.813506    399428.247792    390709.162078   \n",
       "1               36652.237298     77580.147536     99990.650637   \n",
       "2              442349.812299    476505.400535    501975.864171   \n",
       "3              148751.133814    215992.108566    257865.746889   \n",
       "4              591718.417500    573339.378750    561220.448750   \n",
       "\n",
       "             sum_Withdrawal_1993  sum_Withdrawal_1994  sum_Withdrawal_1995  \\\n",
       "num Cluster                                                                  \n",
       "0                   38246.597792        119204.542857        169699.092338   \n",
       "1                    2002.723704         10719.111088         16469.182116   \n",
       "2                  100150.141711        299481.598396        465127.209091   \n",
       "3                   10050.262128         38975.777728         64133.536519   \n",
       "4                  247852.277500        550098.681250        551544.788750   \n",
       "\n",
       "             sum_Withdrawal_1996  sum_Withdrawal_1997  sum_Withdrawal_1998  \\\n",
       "num Cluster                                                                  \n",
       "0                  278243.954416        394286.792727        383592.298961   \n",
       "1                   28676.219244         65560.301529         95748.039210   \n",
       "2                  440735.762032        472955.981818        488981.382888   \n",
       "3                  131603.370063        208852.214608        250199.369252   \n",
       "4                  587038.746250        570587.870000        551893.768750   \n",
       "\n",
       "               sum_Credit  sum_Withdrawal   mean_Credit  mean_Withdrawal  \\\n",
       "num Cluster                                                                \n",
       "0            1.442301e+06    1.383273e+06  57297.733177     47070.984982   \n",
       "1            2.521703e+05    2.191756e+05  28445.985947     26864.071486   \n",
       "2            2.332552e+06    2.267432e+06  63799.008060     50566.371966   \n",
       "3            7.544332e+05    7.038145e+05  44645.042668     38749.064339   \n",
       "4            3.130474e+06    3.059016e+06  72736.072173     57498.372197   \n",
       "\n",
       "             Household  Insurancepayment  Interestcredited  Loanpayment  \n",
       "num Cluster                                                              \n",
       "0            31.806494          6.016883         51.874026     6.857143  \n",
       "1            23.189890          2.111300         33.166950     0.523789  \n",
       "2            27.320856          6.080214         65.636364    11.786096  \n",
       "3            28.041479          6.489630         42.566276     3.743012  \n",
       "4            34.725000          7.037500         70.200000     8.900000  "
      ]
     },
     "execution_count": 192,
     "metadata": {},
     "output_type": "execute_result"
    }
   ],
   "source": [
    "db_cluster.groupby(\"num Cluster\")[['sum_Credit_1993', 'sum_Credit_1994', 'sum_Credit_1995', 'sum_Credit_1996', 'sum_Credit_1997', 'sum_Credit_1998', 'sum_Withdrawal_1993', 'sum_Withdrawal_1994', 'sum_Withdrawal_1995', 'sum_Withdrawal_1996', 'sum_Withdrawal_1997', 'sum_Withdrawal_1998', 'sum_Credit', 'sum_Withdrawal','mean_Credit', 'mean_Withdrawal', 'Household', 'Insurancepayment', 'Interestcredited', 'Loanpayment']].agg('mean')"
   ]
  },
  {
   "cell_type": "code",
   "execution_count": 193,
   "metadata": {},
   "outputs": [
    {
     "data": {
      "text/html": [
       "<div>\n",
       "<style scoped>\n",
       "    .dataframe tbody tr th:only-of-type {\n",
       "        vertical-align: middle;\n",
       "    }\n",
       "\n",
       "    .dataframe tbody tr th {\n",
       "        vertical-align: top;\n",
       "    }\n",
       "\n",
       "    .dataframe thead th {\n",
       "        text-align: right;\n",
       "    }\n",
       "</style>\n",
       "<table border=\"1\" class=\"dataframe\">\n",
       "  <thead>\n",
       "    <tr style=\"text-align: right;\">\n",
       "      <th></th>\n",
       "      <th>['card_type']_classic</th>\n",
       "      <th>['card_type']_gold</th>\n",
       "      <th>['card_type']_junior</th>\n",
       "    </tr>\n",
       "    <tr>\n",
       "      <th>num Cluster</th>\n",
       "      <th></th>\n",
       "      <th></th>\n",
       "      <th></th>\n",
       "    </tr>\n",
       "  </thead>\n",
       "  <tbody>\n",
       "    <tr>\n",
       "      <th>0</th>\n",
       "      <td>0.274026</td>\n",
       "      <td>0.048052</td>\n",
       "      <td>0.040260</td>\n",
       "    </tr>\n",
       "    <tr>\n",
       "      <th>1</th>\n",
       "      <td>0.071368</td>\n",
       "      <td>0.004673</td>\n",
       "      <td>0.023364</td>\n",
       "    </tr>\n",
       "    <tr>\n",
       "      <th>2</th>\n",
       "      <td>0.251337</td>\n",
       "      <td>0.032086</td>\n",
       "      <td>0.069519</td>\n",
       "    </tr>\n",
       "    <tr>\n",
       "      <th>3</th>\n",
       "      <td>0.189360</td>\n",
       "      <td>0.023445</td>\n",
       "      <td>0.035167</td>\n",
       "    </tr>\n",
       "    <tr>\n",
       "      <th>4</th>\n",
       "      <td>0.287500</td>\n",
       "      <td>0.100000</td>\n",
       "      <td>0.087500</td>\n",
       "    </tr>\n",
       "  </tbody>\n",
       "</table>\n",
       "</div>"
      ],
      "text/plain": [
       "             ['card_type']_classic  ['card_type']_gold  ['card_type']_junior\n",
       "num Cluster                                                                 \n",
       "0                         0.274026            0.048052              0.040260\n",
       "1                         0.071368            0.004673              0.023364\n",
       "2                         0.251337            0.032086              0.069519\n",
       "3                         0.189360            0.023445              0.035167\n",
       "4                         0.287500            0.100000              0.087500"
      ]
     },
     "execution_count": 193,
     "metadata": {},
     "output_type": "execute_result"
    }
   ],
   "source": [
    "db_cluster.groupby(\"num Cluster\")[[\"['card_type']_classic\", \"['card_type']_gold\", \"['card_type']_junior\"]].agg('mean')"
   ]
  },
  {
   "cell_type": "code",
   "execution_count": 194,
   "metadata": {},
   "outputs": [
    {
     "data": {
      "text/html": [
       "<div>\n",
       "<style scoped>\n",
       "    .dataframe tbody tr th:only-of-type {\n",
       "        vertical-align: middle;\n",
       "    }\n",
       "\n",
       "    .dataframe tbody tr th {\n",
       "        vertical-align: top;\n",
       "    }\n",
       "\n",
       "    .dataframe thead th {\n",
       "        text-align: right;\n",
       "    }\n",
       "</style>\n",
       "<table border=\"1\" class=\"dataframe\">\n",
       "  <thead>\n",
       "    <tr style=\"text-align: right;\">\n",
       "      <th></th>\n",
       "      <th>['card_type']_classic</th>\n",
       "      <th>['card_type']_gold</th>\n",
       "      <th>['card_type']_junior</th>\n",
       "    </tr>\n",
       "    <tr>\n",
       "      <th>num Cluster</th>\n",
       "      <th></th>\n",
       "      <th></th>\n",
       "      <th></th>\n",
       "    </tr>\n",
       "  </thead>\n",
       "  <tbody>\n",
       "    <tr>\n",
       "      <th>0</th>\n",
       "      <td>0.274026</td>\n",
       "      <td>0.048052</td>\n",
       "      <td>0.040260</td>\n",
       "    </tr>\n",
       "    <tr>\n",
       "      <th>1</th>\n",
       "      <td>0.071368</td>\n",
       "      <td>0.004673</td>\n",
       "      <td>0.023364</td>\n",
       "    </tr>\n",
       "    <tr>\n",
       "      <th>2</th>\n",
       "      <td>0.251337</td>\n",
       "      <td>0.032086</td>\n",
       "      <td>0.069519</td>\n",
       "    </tr>\n",
       "    <tr>\n",
       "      <th>3</th>\n",
       "      <td>0.189360</td>\n",
       "      <td>0.023445</td>\n",
       "      <td>0.035167</td>\n",
       "    </tr>\n",
       "    <tr>\n",
       "      <th>4</th>\n",
       "      <td>0.287500</td>\n",
       "      <td>0.100000</td>\n",
       "      <td>0.087500</td>\n",
       "    </tr>\n",
       "  </tbody>\n",
       "</table>\n",
       "</div>"
      ],
      "text/plain": [
       "             ['card_type']_classic  ['card_type']_gold  ['card_type']_junior\n",
       "num Cluster                                                                 \n",
       "0                         0.274026            0.048052              0.040260\n",
       "1                         0.071368            0.004673              0.023364\n",
       "2                         0.251337            0.032086              0.069519\n",
       "3                         0.189360            0.023445              0.035167\n",
       "4                         0.287500            0.100000              0.087500"
      ]
     },
     "execution_count": 194,
     "metadata": {},
     "output_type": "execute_result"
    }
   ],
   "source": [
    "db_cluster.groupby(\"num Cluster\")[[\"['card_type']_classic\", \"['card_type']_gold\", \"['card_type']_junior\"]].agg('mean')"
   ]
  },
  {
   "cell_type": "markdown",
   "metadata": {},
   "source": [
    "***b) demographic:***"
   ]
  },
  {
   "cell_type": "code",
   "execution_count": 195,
   "metadata": {},
   "outputs": [
    {
     "data": {
      "image/png": "[encoded data removed]",
      "text/plain": [
       "<Figure size 432x288 with 1 Axes>"
      ]
     },
     "metadata": {},
     "output_type": "display_data"
    }
   ],
   "source": [
    "# Creating dendrogram\n",
    "dendrogram = sch.dendrogram(sch.linkage(cluster_demographic, method='ward'))"
   ]
  },
  {
   "cell_type": "code",
   "execution_count": 196,
   "metadata": {},
   "outputs": [],
   "source": [
    "# Creating clusters\n",
    "hc = AgglomerativeClustering(n_clusters=4, affinity = 'euclidean', linkage = 'ward')"
   ]
  },
  {
   "cell_type": "code",
   "execution_count": 197,
   "metadata": {},
   "outputs": [],
   "source": [
    "hc.fit(cluster_demographic)\n",
    "labels = hc.labels_"
   ]
  },
  {
   "cell_type": "code",
   "execution_count": 198,
   "metadata": {},
   "outputs": [],
   "source": [
    "# Saving clusters for chart\n",
    "y_hc = hc.fit_predict(cluster_demographic)"
   ]
  },
  {
   "cell_type": "code",
   "execution_count": 199,
   "metadata": {},
   "outputs": [
    {
     "data": {
      "image/png": "[encoded data removed]",
      "text/plain": [
       "<Figure size 432x288 with 1 Axes>"
      ]
     },
     "metadata": {},
     "output_type": "display_data"
    }
   ],
   "source": [
    "plt.scatter(cluster_demographic[y_hc ==0,0], cluster_demographic[y_hc == 0,1], s=100, c='red')\n",
    "plt.scatter(cluster_demographic[y_hc==1,0], cluster_demographic[y_hc == 1,1], s=100, c='black')\n",
    "plt.scatter(cluster_demographic[y_hc ==2,0], cluster_demographic[y_hc == 2,1], s=100, c='blue')\n",
    "plt.scatter(cluster_demographic[y_hc ==3,0], cluster_demographic[y_hc == 3,1], s=100, c='cyan')\n",
    "plt.scatter(cluster_demographic[y_hc ==4,0], cluster_demographic[y_hc == 4,1], s=100, c='yellow')\n",
    "\n",
    "plt.show()"
   ]
  },
  {
   "cell_type": "markdown",
   "metadata": {},
   "source": [
    "***c) behaviour:***"
   ]
  },
  {
   "cell_type": "code",
   "execution_count": 200,
   "metadata": {},
   "outputs": [
    {
     "data": {
      "image/png": "[encoded data removed]",
      "text/plain": [
       "<Figure size 432x288 with 1 Axes>"
      ]
     },
     "metadata": {},
     "output_type": "display_data"
    }
   ],
   "source": [
    "# Creating dendrogram\n",
    "dendrogram = sch.dendrogram(sch.linkage(cluster_behaviour, method='ward'))"
   ]
  },
  {
   "cell_type": "code",
   "execution_count": 201,
   "metadata": {},
   "outputs": [],
   "source": [
    "# Creating clusters\n",
    "hc = AgglomerativeClustering(n_clusters=8, affinity = 'euclidean', linkage = 'ward')"
   ]
  },
  {
   "cell_type": "code",
   "execution_count": 202,
   "metadata": {},
   "outputs": [],
   "source": [
    "hc.fit(cluster_behaviour)\n",
    "labels_behaviour = hc.labels_"
   ]
  },
  {
   "cell_type": "code",
   "execution_count": 203,
   "metadata": {},
   "outputs": [],
   "source": [
    "# Saving clusters for chart\n",
    "y_hc = hc.fit_predict(cluster_behaviour)"
   ]
  },
  {
   "cell_type": "code",
   "execution_count": 204,
   "metadata": {},
   "outputs": [
    {
     "data": {
      "image/png": "[encoded data removed]",
      "text/plain": [
       "<Figure size 432x288 with 1 Axes>"
      ]
     },
     "metadata": {},
     "output_type": "display_data"
    }
   ],
   "source": [
    "plt.scatter(cluster_behaviour[y_hc ==0,0], cluster_behaviour[y_hc == 0,1], s=100, c='red')\n",
    "plt.scatter(cluster_behaviour[y_hc==1,0], cluster_behaviour[y_hc == 1,1], s=100, c='black')\n",
    "plt.scatter(cluster_behaviour[y_hc ==2,0], cluster_behaviour[y_hc == 2,1], s=100, c='blue')\n",
    "plt.scatter(cluster_behaviour[y_hc ==3,0], cluster_behaviour[y_hc == 3,1], s=100, c='cyan')\n",
    "plt.scatter(cluster_behaviour[y_hc ==4,0], cluster_behaviour[y_hc == 4,1], s=100, c='yellow')\n",
    "plt.scatter(cluster_behaviour[y_hc ==5,0], cluster_behaviour[y_hc == 5,1], s=100, c='magenta')\n",
    "plt.scatter(cluster_behaviour[y_hc ==6,0], cluster_behaviour[y_hc == 6,1], s=100, c='maroon')\n",
    "plt.scatter(cluster_behaviour[y_hc ==7,0], cluster_behaviour[y_hc == 7,1], s=100, c='olive')\n",
    "plt.scatter(cluster_behaviour[y_hc ==8,0], cluster_behaviour[y_hc == 8,1], s=100, c='green')\n",
    "\n",
    "plt.show()"
   ]
  },
  {
   "cell_type": "code",
   "execution_count": 205,
   "metadata": {},
   "outputs": [],
   "source": [
    "labels_behaviour = pd.DataFrame(labels_behaviour)"
   ]
  },
  {
   "cell_type": "code",
   "execution_count": 206,
   "metadata": {},
   "outputs": [],
   "source": [
    "labels_behaviour.columns = ['num Cluster']"
   ]
  },
  {
   "cell_type": "code",
   "execution_count": 207,
   "metadata": {},
   "outputs": [
    {
     "data": {
      "text/html": [
       "<div>\n",
       "<style scoped>\n",
       "    .dataframe tbody tr th:only-of-type {\n",
       "        vertical-align: middle;\n",
       "    }\n",
       "\n",
       "    .dataframe tbody tr th {\n",
       "        vertical-align: top;\n",
       "    }\n",
       "\n",
       "    .dataframe thead th {\n",
       "        text-align: right;\n",
       "    }\n",
       "</style>\n",
       "<table border=\"1\" class=\"dataframe\">\n",
       "  <thead>\n",
       "    <tr style=\"text-align: right;\">\n",
       "      <th></th>\n",
       "      <th>num Cluster</th>\n",
       "    </tr>\n",
       "  </thead>\n",
       "  <tbody>\n",
       "    <tr>\n",
       "      <th>0</th>\n",
       "      <td>6</td>\n",
       "    </tr>\n",
       "    <tr>\n",
       "      <th>1</th>\n",
       "      <td>0</td>\n",
       "    </tr>\n",
       "    <tr>\n",
       "      <th>2</th>\n",
       "      <td>6</td>\n",
       "    </tr>\n",
       "    <tr>\n",
       "      <th>3</th>\n",
       "      <td>6</td>\n",
       "    </tr>\n",
       "    <tr>\n",
       "      <th>4</th>\n",
       "      <td>6</td>\n",
       "    </tr>\n",
       "  </tbody>\n",
       "</table>\n",
       "</div>"
      ],
      "text/plain": [
       "   num Cluster\n",
       "0            6\n",
       "1            0\n",
       "2            6\n",
       "3            6\n",
       "4            6"
      ]
     },
     "execution_count": 207,
     "metadata": {},
     "output_type": "execute_result"
    }
   ],
   "source": [
    "labels_behaviour.head()"
   ]
  },
  {
   "cell_type": "code",
   "execution_count": 208,
   "metadata": {},
   "outputs": [],
   "source": [
    "db_behaviour = pd.concat([db_clustering_final3,labels_behaviour], axis = 1)"
   ]
  },
  {
   "cell_type": "code",
   "execution_count": 209,
   "metadata": {},
   "outputs": [
    {
     "data": {
      "text/html": [
       "<div>\n",
       "<style scoped>\n",
       "    .dataframe tbody tr th:only-of-type {\n",
       "        vertical-align: middle;\n",
       "    }\n",
       "\n",
       "    .dataframe tbody tr th {\n",
       "        vertical-align: top;\n",
       "    }\n",
       "\n",
       "    .dataframe thead th {\n",
       "        text-align: right;\n",
       "    }\n",
       "</style>\n",
       "<table border=\"1\" class=\"dataframe\">\n",
       "  <thead>\n",
       "    <tr style=\"text-align: right;\">\n",
       "      <th></th>\n",
       "      <th>sum_Credit</th>\n",
       "      <th>age</th>\n",
       "      <th>sum_Withdrawal</th>\n",
       "    </tr>\n",
       "    <tr>\n",
       "      <th>num Cluster</th>\n",
       "      <th></th>\n",
       "      <th></th>\n",
       "      <th></th>\n",
       "    </tr>\n",
       "  </thead>\n",
       "  <tbody>\n",
       "    <tr>\n",
       "      <th>0</th>\n",
       "      <td>1668748.75</td>\n",
       "      <td>42</td>\n",
       "      <td>1612534.4</td>\n",
       "    </tr>\n",
       "    <tr>\n",
       "      <th>1</th>\n",
       "      <td>742642.30</td>\n",
       "      <td>41</td>\n",
       "      <td>691999.4</td>\n",
       "    </tr>\n",
       "    <tr>\n",
       "      <th>2</th>\n",
       "      <td>2267224.80</td>\n",
       "      <td>40</td>\n",
       "      <td>2197683.9</td>\n",
       "    </tr>\n",
       "    <tr>\n",
       "      <th>3</th>\n",
       "      <td>3052860.10</td>\n",
       "      <td>40</td>\n",
       "      <td>2983608.4</td>\n",
       "    </tr>\n",
       "    <tr>\n",
       "      <th>4</th>\n",
       "      <td>410546.90</td>\n",
       "      <td>48</td>\n",
       "      <td>368721.1</td>\n",
       "    </tr>\n",
       "    <tr>\n",
       "      <th>5</th>\n",
       "      <td>1219491.40</td>\n",
       "      <td>41</td>\n",
       "      <td>1151070.4</td>\n",
       "    </tr>\n",
       "    <tr>\n",
       "      <th>6</th>\n",
       "      <td>166591.85</td>\n",
       "      <td>49</td>\n",
       "      <td>136575.0</td>\n",
       "    </tr>\n",
       "    <tr>\n",
       "      <th>7</th>\n",
       "      <td>1225190.70</td>\n",
       "      <td>40</td>\n",
       "      <td>1163291.8</td>\n",
       "    </tr>\n",
       "  </tbody>\n",
       "</table>\n",
       "</div>"
      ],
      "text/plain": [
       "             sum_Credit  age  sum_Withdrawal\n",
       "num Cluster                                 \n",
       "0            1668748.75   42       1612534.4\n",
       "1             742642.30   41        691999.4\n",
       "2            2267224.80   40       2197683.9\n",
       "3            3052860.10   40       2983608.4\n",
       "4             410546.90   48        368721.1\n",
       "5            1219491.40   41       1151070.4\n",
       "6             166591.85   49        136575.0\n",
       "7            1225190.70   40       1163291.8"
      ]
     },
     "execution_count": 209,
     "metadata": {},
     "output_type": "execute_result"
    }
   ],
   "source": [
    "db_behaviour.groupby(\"num Cluster\")[[\"sum_Credit\",'age',\"sum_Withdrawal\"]].agg('median')"
   ]
  },
  {
   "cell_type": "markdown",
   "metadata": {},
   "source": [
    "***Created by:*** SHARMA, Rishabh; AHUILE, Abdon and POLANCO, Jorge."
   ]
  }
 ],
 "metadata": {
  "kernelspec": {
   "display_name": "Python 3",
   "language": "python",
   "name": "python3"
  },
  "language_info": {
   "codemirror_mode": {
    "name": "ipython",
    "version": 3
   },
   "file_extension": ".py",
   "mimetype": "text/x-python",
   "name": "python",
   "nbconvert_exporter": "python",
   "pygments_lexer": "ipython3",
   "version": "3.7.3"
  }
 },
 "nbformat": 4,
 "nbformat_minor": 2
}
